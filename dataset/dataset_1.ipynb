{
 "cells": [
  {
   "cell_type": "markdown",
   "metadata": {},
   "source": [
    "# Подготовка датасета - 2 часть, генерация по файлам"
   ]
  },
  {
   "cell_type": "markdown",
   "metadata": {},
   "source": [
    "### Импорты и сетап окружения"
   ]
  },
  {
   "cell_type": "code",
   "execution_count": 1,
   "metadata": {
    "ExecuteTime": {
     "end_time": "2025-04-06T09:36:35.720883Z",
     "start_time": "2025-04-06T09:36:34.354367Z"
    }
   },
   "outputs": [],
   "source": [
    "import datasets\n",
    "import os\n",
    "import pandas as pd\n",
    "import subprocess\n",
    "import re\n",
    "from tqdm.notebook import tqdm\n",
    "from pathlib import Path\n",
    "import asyncio\n",
    "import aiopath\n",
    "import sys\n",
    "import time\n",
    "\n",
    "ROOT_DIR = str(aiopath.AsyncPath.cwd().parent)\n",
    "os.chdir(ROOT_DIR)\n",
    "DATA_DIR = ROOT_DIR+'/data'\n",
    "REPOS_DIR = DATA_DIR+'/repos'\n",
    "if ROOT_DIR not in sys.path:\n",
    "    sys.path.append(ROOT_DIR)\n",
    "\n",
    "from evaluating.generator import make_model_with_tokenizer, generate_completions\n",
    "from scoring.scoring import Scorer\n",
    "\n",
    "gvm_root = os.environ['GVM_ROOT']\n",
    "os.environ['PATH'] = f\"{gvm_root}/bin:{gvm_root}/pkgsets/go1.24.2/global/bin:{gvm_root}/gos/go1.24.2/bin:{gvm_root}/pkgsets/go1.24.2/global/overlay/bin:{os.environ['PATH']}\""
   ]
  },
  {
   "cell_type": "markdown",
   "metadata": {},
   "source": [
    "В части 1 [dataset_0](./dataset_0.ipynb) подготовлен датасет test_candidates_ds с отфильтрованными файлами"
   ]
  },
  {
   "cell_type": "code",
   "execution_count": 2,
   "metadata": {},
   "outputs": [],
   "source": [
    "test_candidates_ds = datasets.load_from_disk(DATA_DIR+'/test_candidates_ds')"
   ]
  },
  {
   "cell_type": "markdown",
   "metadata": {},
   "source": [
    "### Записываем промпты в датасет"
   ]
  },
  {
   "cell_type": "code",
   "execution_count": 3,
   "metadata": {},
   "outputs": [
    {
     "data": {
      "application/vnd.jupyter.widget-view+json": {
       "model_id": "44567ecc21614367b53397cec0e41b1a",
       "version_major": 2,
       "version_minor": 0
      },
      "text/plain": [
       "Saving the dataset (0/1 shards):   0%|          | 0/33251 [00:00<?, ? examples/s]"
      ]
     },
     "metadata": {},
     "output_type": "display_data"
    },
    {
     "name": "stdout",
     "output_type": "stream",
     "text": [
      "Dataset({\n",
      "    features: ['project_path', 'relative_package_path', 'relative_file_path', 'prompt'],\n",
      "    num_rows: 33251\n",
      "})\n"
     ]
    },
    {
     "data": {
      "text/plain": [
       "{'project_path': '766dc882d779f07821bde740ce49802f67ae42b3/backend/',\n",
       " 'relative_package_path': 'controllers/',\n",
       " 'relative_file_path': 'controllers/controllers.go',\n",
       " 'prompt': [{'content': '\\nYou are an expert programmer. \\nYou should only return output test file containing working code.\\nThe user is going to give you code and would like to have unit tests for the first file.\\nAll the other files are just dependencies to give you context of all the possible test cases to produce.\\nCover all possible inputs and their respective outputs using tests.\\nEach subtest must be wrapped into t.Run\\n',\n",
       "   'role': 'system'},\n",
       "  {'content': 'package controllers\\n\\nimport (\\n\\t\"encoding/json\"\\n\\t\"fmt\"\\n\\techo \"github.com/labstack/echo/v4\"\\n\\t\"golang.org/x/net/websocket\"\\n\\t\"stream/models\"\\n)\\n\\n// Controller interface has two methods\\ntype Controller interface {\\n\\t// Homecontroller renders initial home page\\n\\tHomeController(e echo.Context) error\\n\\n\\t// StreamController responds with live cpu status over websocket\\n\\tStreamController(e echo.Context) error\\n}\\n\\ntype controller struct {\\n}\\n\\nfunc NewController() Controller {\\n\\treturn &controller{}\\n}\\n\\nvar model models.Model\\n\\n// Initializes the models\\nfunc Init(){\\n\\tmodel = models.NewModel()\\n}\\n\\n\\n\\nfunc (c *controller) HomeController(e echo.Context) error {\\n\\treturn e.File(\"views/index.html\")\\n}\\n\\nfunc (c *controller) StreamController(e echo.Context) error {\\n\\n\\twebsocket.Handler(func(ws *websocket.Conn) {\\n\\t\\tdefer ws.Close()\\n\\t\\tstatus, err := model.GetLiveCpuUsage()\\n\\t\\tif err != nil {\\n\\t\\t\\tfmt.Println(err)\\n\\t\\t\\treturn\\n\\t\\t}\\n\\t\\tfor {\\n\\t\\t\\t// Write\\n\\t\\t\\tnewVal := <- status\\n\\t\\t\\tjsonResponse, _ := json.Marshal(newVal)\\n\\t\\t\\terr := websocket.Message.Send(ws, fmt.Sprintln(string(jsonResponse)))\\n\\t\\t\\tif err != nil {\\n\\t\\t\\t\\tfmt.Println(err)\\n\\t\\t\\t}\\n\\t\\t}\\n\\t}).ServeHTTP(e.Response(), e.Request())\\n\\treturn nil\\n}',\n",
       "   'role': 'user'}]}"
      ]
     },
     "execution_count": 3,
     "metadata": {},
     "output_type": "execute_result"
    }
   ],
   "source": [
    "system_message = \"\"\"\n",
    "You are an expert programmer. \n",
    "You should only return output test file containing working code.\n",
    "The user is going to give you code and would like to have unit tests for the first file.\n",
    "All the other files are just dependencies to give you context of all the possible test cases to produce.\n",
    "Cover all possible inputs and their respective outputs using tests.\n",
    "Each subtest must be wrapped into t.Run\n",
    "\"\"\"\n",
    "\n",
    "def get_prompt(row) -> str:\n",
    "    file_path = '../data/repos/'+row['project_path']+row['relative_project_path']\n",
    "    f = open(file_path, 'r')\n",
    "    file_content = f.read()\n",
    "    f.close()\n",
    "\n",
    "    prompt = [\n",
    "        {\"role\": \"system\", \"content\": system_message},\n",
    "        {\"role\": \"user\", \"content\": f\"{file_content}\"}\n",
    "    ]\n",
    "\n",
    "    return prompt\n",
    "\n",
    "def finalize_row(row) -> dict:\n",
    "    return {\n",
    "        'project_path': row['project_path'],\n",
    "        'relative_package_path': row['relative_go_package'],\n",
    "        'relative_file_path': row['relative_project_path'],\n",
    "        'prompt': get_prompt(row)\n",
    "    }\n",
    "\n",
    "by_file_ds = test_candidates_ds.map(finalize_row, num_proc=32).select_columns(['project_path', 'relative_package_path', 'relative_file_path', 'prompt'])\n",
    "\n",
    "by_file_ds.save_to_disk('../data/by_file_ds')\n",
    "\n",
    "print(by_file_ds)\n",
    "by_file_ds[0]"
   ]
  },
  {
   "cell_type": "markdown",
   "metadata": {},
   "source": [
    "### Генерируем completions исходной моделью `deepseek-ai/deepseek-coder-1.3b-instruct`"
   ]
  },
  {
   "cell_type": "code",
   "execution_count": 4,
   "metadata": {},
   "outputs": [],
   "source": [
    "by_file_ds = datasets.load_from_disk(DATA_DIR+'/by_file_ds')"
   ]
  },
  {
   "cell_type": "code",
   "execution_count": 5,
   "metadata": {},
   "outputs": [
    {
     "data": {
      "application/vnd.jupyter.widget-view+json": {
       "model_id": "28eb470df64843b8b6e094f6cb03f68c",
       "version_major": 2,
       "version_minor": 0
      },
      "text/plain": [
       "Saving the dataset (0/1 shards):   0%|          | 0/500 [00:00<?, ? examples/s]"
      ]
     },
     "metadata": {},
     "output_type": "display_data"
    },
    {
     "name": "stdout",
     "output_type": "stream",
     "text": [
      "Dataset({\n",
      "    features: ['project_path', 'relative_package_path', 'relative_file_path', 'prompt'],\n",
      "    num_rows: 500\n",
      "})\n"
     ]
    },
    {
     "data": {
      "text/plain": [
       "{'project_path': '8844bcf1e44c80eb6c94e96c1c0466177f3bba94/',\n",
       " 'relative_package_path': 'packages/testutil/testchain/',\n",
       " 'relative_file_path': 'packages/testutil/testchain/mock_nodeconn.go',\n",
       " 'prompt': [{'content': '\\nYou are an expert programmer. \\nYou should only return output test file containing working code.\\nThe user is going to give you code and would like to have unit tests for the first file.\\nAll the other files are just dependencies to give you context of all the possible test cases to produce.\\nCover all possible inputs and their respective outputs using tests.\\nEach subtest must be wrapped into t.Run\\n',\n",
       "   'role': 'system'},\n",
       "  {'content': 'package testchain\\n\\nimport (\\n\\t\"github.com/iotaledger/goshimmer/packages/ledgerstate\"\\n)\\n\\ntype MockedNodeConn struct {\\n\\tid                              string\\n\\tonPullBacklog                   func(addr *ledgerstate.AliasAddress)\\n\\tonPullState                     func(addr *ledgerstate.AliasAddress)\\n\\tonPullConfirmedTransaction      func(addr ledgerstate.Address, txid ledgerstate.TransactionID)\\n\\tonPullTransactionInclusionState func(addr ledgerstate.Address, txid ledgerstate.TransactionID)\\n\\tonPullConfirmedOutput           func(addr ledgerstate.Address, outputID ledgerstate.OutputID)\\n\\tonPostTransaction               func(tx *ledgerstate.Transaction)\\n}\\n\\nfunc NewMockedNodeConnection(id string) *MockedNodeConn {\\n\\treturn &MockedNodeConn{id: id}\\n}\\n\\nfunc (m *MockedNodeConn) ID() string {\\n\\treturn m.id\\n}\\n\\nfunc (m *MockedNodeConn) PullBacklog(addr *ledgerstate.AliasAddress) {\\n\\tm.onPullBacklog(addr)\\n}\\n\\nfunc (m *MockedNodeConn) PullState(addr *ledgerstate.AliasAddress) {\\n\\tm.onPullState(addr)\\n}\\n\\nfunc (m *MockedNodeConn) PullConfirmedTransaction(addr ledgerstate.Address, txid ledgerstate.TransactionID) {\\n\\tm.onPullConfirmedTransaction(addr, txid)\\n}\\n\\nfunc (m *MockedNodeConn) PullTransactionInclusionState(addr ledgerstate.Address, txid ledgerstate.TransactionID) {\\n\\tm.onPullTransactionInclusionState(addr, txid)\\n}\\n\\nfunc (m *MockedNodeConn) PullConfirmedOutput(addr ledgerstate.Address, outputID ledgerstate.OutputID) {\\n\\tm.onPullConfirmedOutput(addr, outputID)\\n}\\n\\nfunc (m *MockedNodeConn) PostTransaction(tx *ledgerstate.Transaction) {\\n\\tm.onPostTransaction(tx)\\n}\\n\\nfunc (m *MockedNodeConn) OnPullBacklog(f func(addr *ledgerstate.AliasAddress)) {\\n\\tm.onPullBacklog = f\\n}\\n\\nfunc (m *MockedNodeConn) OnPullState(f func(addr *ledgerstate.AliasAddress)) {\\n\\tm.onPullState = f\\n}\\n\\nfunc (m *MockedNodeConn) OnPullConfirmedTransaction(f func(addr ledgerstate.Address, txid ledgerstate.TransactionID)) {\\n\\tm.onPullConfirmedTransaction = f\\n}\\n\\nfunc (m *MockedNodeConn) OnPullTransactionInclusionState(f func(addr ledgerstate.Address, txid ledgerstate.TransactionID)) {\\n\\tm.onPullTransactionInclusionState = f\\n}\\n\\nfunc (m *MockedNodeConn) OnPullConfirmedOutput(f func(addr ledgerstate.Address, outputID ledgerstate.OutputID)) {\\n\\tm.onPullConfirmedOutput = f\\n}\\n\\nfunc (m *MockedNodeConn) OnPostTransaction(f func(tx *ledgerstate.Transaction)) {\\n\\tm.onPostTransaction = f\\n}\\n',\n",
       "   'role': 'user'}]}"
      ]
     },
     "execution_count": 5,
     "metadata": {},
     "output_type": "execute_result"
    }
   ],
   "source": [
    "by_file_test_ds = by_file_ds.shuffle().take(500)\n",
    "\n",
    "by_file_test_ds.save_to_disk('../data/by_file_test_ds')\n",
    "\n",
    "print(by_file_test_ds)\n",
    "by_file_test_ds[0]"
   ]
  },
  {
   "cell_type": "code",
   "execution_count": 6,
   "metadata": {},
   "outputs": [],
   "source": [
    "by_file_test_ds = datasets.load_from_disk(DATA_DIR+'/by_file_test_ds')"
   ]
  },
  {
   "cell_type": "code",
   "execution_count": 7,
   "metadata": {},
   "outputs": [
    {
     "name": "stderr",
     "output_type": "stream",
     "text": [
      "2025-05-19 03:26:59.243822: E external/local_xla/xla/stream_executor/cuda/cuda_fft.cc:467] Unable to register cuFFT factory: Attempting to register factory for plugin cuFFT when one has already been registered\n",
      "WARNING: All log messages before absl::InitializeLog() is called are written to STDERR\n",
      "E0000 00:00:1747614419.373649    7231 cuda_dnn.cc:8579] Unable to register cuDNN factory: Attempting to register factory for plugin cuDNN when one has already been registered\n",
      "E0000 00:00:1747614419.411928    7231 cuda_blas.cc:1407] Unable to register cuBLAS factory: Attempting to register factory for plugin cuBLAS when one has already been registered\n",
      "W0000 00:00:1747614419.701020    7231 computation_placer.cc:177] computation placer already registered. Please check linkage and avoid linking the same target more than once.\n",
      "W0000 00:00:1747614419.701056    7231 computation_placer.cc:177] computation placer already registered. Please check linkage and avoid linking the same target more than once.\n",
      "W0000 00:00:1747614419.701060    7231 computation_placer.cc:177] computation placer already registered. Please check linkage and avoid linking the same target more than once.\n",
      "W0000 00:00:1747614419.701064    7231 computation_placer.cc:177] computation placer already registered. Please check linkage and avoid linking the same target more than once.\n",
      "2025-05-19 03:26:59.728427: I tensorflow/core/platform/cpu_feature_guard.cc:210] This TensorFlow binary is optimized to use available CPU instructions in performance-critical operations.\n",
      "To enable the following instructions: AVX2 FMA, in other operations, rebuild TensorFlow with the appropriate compiler flags.\n"
     ]
    },
    {
     "data": {
      "application/vnd.jupyter.widget-view+json": {
       "model_id": "b3f7bfa6aaa4477fbb92c00701a6e4d0",
       "version_major": 2,
       "version_minor": 0
      },
      "text/plain": [
       "Map:   0%|          | 0/500 [00:00<?, ? examples/s]"
      ]
     },
     "metadata": {},
     "output_type": "display_data"
    },
    {
     "data": {
      "application/vnd.jupyter.widget-view+json": {
       "model_id": "1d9a9fb88d204ebb99e2c1437075604b",
       "version_major": 2,
       "version_minor": 0
      },
      "text/plain": [
       "Saving the dataset (0/1 shards):   0%|          | 0/500 [00:00<?, ? examples/s]"
      ]
     },
     "metadata": {},
     "output_type": "display_data"
    },
    {
     "name": "stdout",
     "output_type": "stream",
     "text": [
      "Dataset({\n",
      "    features: ['project_path', 'relative_package_path', 'relative_file_path', 'prompt', 'generate_time', 'completion'],\n",
      "    num_rows: 500\n",
      "})\n"
     ]
    },
    {
     "data": {
      "text/plain": [
       "{'project_path': '8844bcf1e44c80eb6c94e96c1c0466177f3bba94/',\n",
       " 'relative_package_path': 'packages/testutil/testchain/',\n",
       " 'relative_file_path': 'packages/testutil/testchain/mock_nodeconn.go',\n",
       " 'prompt': [{'content': '\\nYou are an expert programmer. \\nYou should only return output test file containing working code.\\nThe user is going to give you code and would like to have unit tests for the first file.\\nAll the other files are just dependencies to give you context of all the possible test cases to produce.\\nCover all possible inputs and their respective outputs using tests.\\nEach subtest must be wrapped into t.Run\\n',\n",
       "   'role': 'system'},\n",
       "  {'content': 'package testchain\\n\\nimport (\\n\\t\"github.com/iotaledger/goshimmer/packages/ledgerstate\"\\n)\\n\\ntype MockedNodeConn struct {\\n\\tid                              string\\n\\tonPullBacklog                   func(addr *ledgerstate.AliasAddress)\\n\\tonPullState                     func(addr *ledgerstate.AliasAddress)\\n\\tonPullConfirmedTransaction      func(addr ledgerstate.Address, txid ledgerstate.TransactionID)\\n\\tonPullTransactionInclusionState func(addr ledgerstate.Address, txid ledgerstate.TransactionID)\\n\\tonPullConfirmedOutput           func(addr ledgerstate.Address, outputID ledgerstate.OutputID)\\n\\tonPostTransaction               func(tx *ledgerstate.Transaction)\\n}\\n\\nfunc NewMockedNodeConnection(id string) *MockedNodeConn {\\n\\treturn &MockedNodeConn{id: id}\\n}\\n\\nfunc (m *MockedNodeConn) ID() string {\\n\\treturn m.id\\n}\\n\\nfunc (m *MockedNodeConn) PullBacklog(addr *ledgerstate.AliasAddress) {\\n\\tm.onPullBacklog(addr)\\n}\\n\\nfunc (m *MockedNodeConn) PullState(addr *ledgerstate.AliasAddress) {\\n\\tm.onPullState(addr)\\n}\\n\\nfunc (m *MockedNodeConn) PullConfirmedTransaction(addr ledgerstate.Address, txid ledgerstate.TransactionID) {\\n\\tm.onPullConfirmedTransaction(addr, txid)\\n}\\n\\nfunc (m *MockedNodeConn) PullTransactionInclusionState(addr ledgerstate.Address, txid ledgerstate.TransactionID) {\\n\\tm.onPullTransactionInclusionState(addr, txid)\\n}\\n\\nfunc (m *MockedNodeConn) PullConfirmedOutput(addr ledgerstate.Address, outputID ledgerstate.OutputID) {\\n\\tm.onPullConfirmedOutput(addr, outputID)\\n}\\n\\nfunc (m *MockedNodeConn) PostTransaction(tx *ledgerstate.Transaction) {\\n\\tm.onPostTransaction(tx)\\n}\\n\\nfunc (m *MockedNodeConn) OnPullBacklog(f func(addr *ledgerstate.AliasAddress)) {\\n\\tm.onPullBacklog = f\\n}\\n\\nfunc (m *MockedNodeConn) OnPullState(f func(addr *ledgerstate.AliasAddress)) {\\n\\tm.onPullState = f\\n}\\n\\nfunc (m *MockedNodeConn) OnPullConfirmedTransaction(f func(addr ledgerstate.Address, txid ledgerstate.TransactionID)) {\\n\\tm.onPullConfirmedTransaction = f\\n}\\n\\nfunc (m *MockedNodeConn) OnPullTransactionInclusionState(f func(addr ledgerstate.Address, txid ledgerstate.TransactionID)) {\\n\\tm.onPullTransactionInclusionState = f\\n}\\n\\nfunc (m *MockedNodeConn) OnPullConfirmedOutput(f func(addr ledgerstate.Address, outputID ledgerstate.OutputID)) {\\n\\tm.onPullConfirmedOutput = f\\n}\\n\\nfunc (m *MockedNodeConn) OnPostTransaction(f func(tx *ledgerstate.Transaction)) {\\n\\tm.onPostTransaction = f\\n}\\n',\n",
       "   'role': 'user'}],\n",
       " 'generate_time': 20.40785813331604,\n",
       " 'completion': 'Here is a simple example of how you can write unit tests for the `MockedNodeConn` struct using the `testing` package in Go.\\n\\n```go\\npackage testchain\\n\\nimport (\\n\\t\"testing\"\\n\\t\"github.com/iotaledger/goshimmer/packages/ledgerstate\"\\n)\\n\\nfunc TestMockedNodeConn(t *testing.T) {\\n\\tmockedNodeConn := NewMockedNodeConnection(\"testID\")\\n\\n\\t// Test ID method\\n\\tif mockedNodeConn.ID() != \"testID\" {\\n\\t\\tt.Errorf(\"Expected ID to be \\'testID\\', got %s\", mockedNodeConn.ID())\\n\\t}\\n\\n\\t// Test PullBacklog method\\n\\texpectedAddr := &ledgerstate.AliasAddress{}\\n\\tmockedNodeConn.PullBacklog(expectedAddr)\\n\\tif mockedNodeConn.onPullBacklog == nil {\\n\\t\\tt.Errorf(\"Expected onPullBacklog to be set, got nil\")\\n\\t} else if mockedNodeConn.onPullBacklog(expectedAddr) != nil {\\n\\t\\tt.Errorf(\"onPullBacklog should not return anything\")\\n\\t}\\n\\n\\t// Test PullState method\\n\\texpectedAddr = &ledgerstate.AliasAddress{}\\n\\tmockedNodeConn.PullState(expectedAddr)\\n\\tif mockedNodeConn.onPullState == nil {\\n\\t\\tt.Errorf(\"Expected onPullState to be set, got nil\")\\n\\t} else if mockedNodeConn.onPullState(expectedAddr) != nil {\\n\\t\\tt.Errorf(\"onPullState should not return anything\")\\n\\t}\\n\\n\\t// Test PullConfirmedTransaction method\\n\\texpectedAddr = ledgerstate.Address{}\\n\\texpectedTxID := ledgerstate.TransactionID{}\\n\\tmockedNodeConn.PullConfirmedTransaction(expectedAddr, expectedTxID)\\n\\tif mockedNodeConn.onPullConfirmedTransaction == nil {\\n\\t\\tt.Errorf(\"Expected onPullConfirmedTransaction to be set, got nil\")\\n\\t} else if mockedNodeConn.onPullConfirmedTransaction(expectedAddr, expectedTxID) != nil {\\n\\t\\tt.Errorf(\"onPullConfirmedTransaction should not return anything\")\\n\\t}\\n\\n\\t// Test PullTransactionInclusionState method\\n\\texpectedAddr = ledgerstate.Address{}\\n\\texpectedTxID = ledgerstate.TransactionID{}\\n\\tmockedNodeConn.PullTransactionInclusionState(expectedAddr, expectedTxID)\\n\\tif mockedNodeConn.onPullTransactionInclusionState == nil {\\n\\t\\tt.Errorf(\"Expected onPullTransactionInclusionState to be set, got nil\")\\n\\t} else if mockedNodeConn.onPullTransactionInclusionState(expectedAddr, expectedTxID) != nil {\\n\\t\\tt.Errorf(\"onPullTransactionInclusionState should not return anything\")\\n\\t}\\n\\n\\t// Test PullConfirmedOutput method\\n\\texpectedAddr = ledgerstate.Address{}\\n\\texpectedOutputID := ledgerstate.OutputID{}\\n\\tmockedNodeConn.PullConfirmedOutput(expectedAddr, expectedOutputID)\\n\\tif mockedNodeConn.onPullConfirmedOutput == nil {\\n\\t\\tt.Errorf(\"Expected onPullConfirmedOutput to be set, got nil\")\\n\\t} else if mockedNodeConn.onPullConfirmedOutput(expectedAddr, expectedOutputID) != nil {\\n\\t\\tt.Errorf(\"onPullConfirmedOutput should not return anything\")\\n\\t}\\n\\n\\t// Test PostTransaction method\\n\\texpectedTx := &ledgerstate.Transaction{}\\n\\tmockedNodeConn.PostTransaction(expectedTx)\\n\\tif mockedNodeConn.onPostTransaction == nil {\\n\\t\\tt.Errorf(\"Expected onPostTransaction to be set, got nil\")\\n\\t} else if mockedNodeConn.onPostTransaction(expectedTx) != nil {\\n\\t\\tt.Errorf(\"onPostTransaction should not return anything\")\\n\\t}\\n}\\n```\\n\\nThis test suite covers the basic functionality of the `MockedNodeConn` struct. It checks if the methods are correctly setting and unsetting the corresponding callback functions, and if they are correctly calling the callback functions with the expected arguments.\\n'}"
      ]
     },
     "execution_count": 7,
     "metadata": {},
     "output_type": "execute_result"
    }
   ],
   "source": [
    "tokenizer, model = make_model_with_tokenizer('original')\n",
    "\n",
    "def generate_completion_for_row(row: dict) -> dict:\n",
    "    start = time.time()\n",
    "    completion = generate_completions(tokenizer, model, [row['prompt']])[0]\n",
    "    return {\n",
    "        'generate_time': time.time()-start,\n",
    "        'completion': completion,\n",
    "    }\n",
    "\n",
    "by_file_test_with_completions_ds = by_file_test_ds.map(generate_completion_for_row, num_proc=1)\n",
    "\n",
    "by_file_test_with_completions_ds.save_to_disk(DATA_DIR+'/by_file_test_with_completions_ds')\n",
    "del model, tokenizer\n",
    "\n",
    "print(by_file_test_with_completions_ds)\n",
    "by_file_test_with_completions_ds[0]"
   ]
  },
  {
   "cell_type": "markdown",
   "metadata": {},
   "source": [
    "### Скорим результат"
   ]
  },
  {
   "cell_type": "code",
   "execution_count": 3,
   "metadata": {},
   "outputs": [],
   "source": [
    "by_file_test_with_completions_ds = datasets.load_from_disk(DATA_DIR+'/by_file_test_with_completions_ds')"
   ]
  },
  {
   "cell_type": "code",
   "execution_count": 4,
   "metadata": {},
   "outputs": [
    {
     "data": {
      "application/vnd.jupyter.widget-view+json": {
       "model_id": "0b6cab0e704d4f8d8b550d8211ff9712",
       "version_major": 2,
       "version_minor": 0
      },
      "text/plain": [
       "  0%|          | 0/500 [00:00<?, ?it/s]"
      ]
     },
     "metadata": {},
     "output_type": "display_data"
    },
    {
     "data": {
      "application/vnd.jupyter.widget-view+json": {
       "model_id": "54e32608c9bd4478948ef9fbf737de76",
       "version_major": 2,
       "version_minor": 0
      },
      "text/plain": [
       "Map:   0%|          | 0/500 [00:00<?, ? examples/s]"
      ]
     },
     "metadata": {},
     "output_type": "display_data"
    },
    {
     "data": {
      "application/vnd.jupyter.widget-view+json": {
       "model_id": "5290fd8b54ca4809aae7860273b11b7f",
       "version_major": 2,
       "version_minor": 0
      },
      "text/plain": [
       "Saving the dataset (0/1 shards):   0%|          | 0/500 [00:00<?, ? examples/s]"
      ]
     },
     "metadata": {},
     "output_type": "display_data"
    },
    {
     "name": "stdout",
     "output_type": "stream",
     "text": [
      "Dataset({\n",
      "    features: ['project_path', 'relative_package_path', 'relative_file_path', 'prompt', 'generate_time', 'completion', 'score_time', 'result', 'reward'],\n",
      "    num_rows: 500\n",
      "})\n"
     ]
    },
    {
     "data": {
      "text/plain": [
       "{'project_path': '8844bcf1e44c80eb6c94e96c1c0466177f3bba94/',\n",
       " 'relative_package_path': 'packages/testutil/testchain/',\n",
       " 'relative_file_path': 'packages/testutil/testchain/mock_nodeconn.go',\n",
       " 'prompt': [{'content': '\\nYou are an expert programmer. \\nYou should only return output test file containing working code.\\nThe user is going to give you code and would like to have unit tests for the first file.\\nAll the other files are just dependencies to give you context of all the possible test cases to produce.\\nCover all possible inputs and their respective outputs using tests.\\nEach subtest must be wrapped into t.Run\\n',\n",
       "   'role': 'system'},\n",
       "  {'content': 'package testchain\\n\\nimport (\\n\\t\"github.com/iotaledger/goshimmer/packages/ledgerstate\"\\n)\\n\\ntype MockedNodeConn struct {\\n\\tid                              string\\n\\tonPullBacklog                   func(addr *ledgerstate.AliasAddress)\\n\\tonPullState                     func(addr *ledgerstate.AliasAddress)\\n\\tonPullConfirmedTransaction      func(addr ledgerstate.Address, txid ledgerstate.TransactionID)\\n\\tonPullTransactionInclusionState func(addr ledgerstate.Address, txid ledgerstate.TransactionID)\\n\\tonPullConfirmedOutput           func(addr ledgerstate.Address, outputID ledgerstate.OutputID)\\n\\tonPostTransaction               func(tx *ledgerstate.Transaction)\\n}\\n\\nfunc NewMockedNodeConnection(id string) *MockedNodeConn {\\n\\treturn &MockedNodeConn{id: id}\\n}\\n\\nfunc (m *MockedNodeConn) ID() string {\\n\\treturn m.id\\n}\\n\\nfunc (m *MockedNodeConn) PullBacklog(addr *ledgerstate.AliasAddress) {\\n\\tm.onPullBacklog(addr)\\n}\\n\\nfunc (m *MockedNodeConn) PullState(addr *ledgerstate.AliasAddress) {\\n\\tm.onPullState(addr)\\n}\\n\\nfunc (m *MockedNodeConn) PullConfirmedTransaction(addr ledgerstate.Address, txid ledgerstate.TransactionID) {\\n\\tm.onPullConfirmedTransaction(addr, txid)\\n}\\n\\nfunc (m *MockedNodeConn) PullTransactionInclusionState(addr ledgerstate.Address, txid ledgerstate.TransactionID) {\\n\\tm.onPullTransactionInclusionState(addr, txid)\\n}\\n\\nfunc (m *MockedNodeConn) PullConfirmedOutput(addr ledgerstate.Address, outputID ledgerstate.OutputID) {\\n\\tm.onPullConfirmedOutput(addr, outputID)\\n}\\n\\nfunc (m *MockedNodeConn) PostTransaction(tx *ledgerstate.Transaction) {\\n\\tm.onPostTransaction(tx)\\n}\\n\\nfunc (m *MockedNodeConn) OnPullBacklog(f func(addr *ledgerstate.AliasAddress)) {\\n\\tm.onPullBacklog = f\\n}\\n\\nfunc (m *MockedNodeConn) OnPullState(f func(addr *ledgerstate.AliasAddress)) {\\n\\tm.onPullState = f\\n}\\n\\nfunc (m *MockedNodeConn) OnPullConfirmedTransaction(f func(addr ledgerstate.Address, txid ledgerstate.TransactionID)) {\\n\\tm.onPullConfirmedTransaction = f\\n}\\n\\nfunc (m *MockedNodeConn) OnPullTransactionInclusionState(f func(addr ledgerstate.Address, txid ledgerstate.TransactionID)) {\\n\\tm.onPullTransactionInclusionState = f\\n}\\n\\nfunc (m *MockedNodeConn) OnPullConfirmedOutput(f func(addr ledgerstate.Address, outputID ledgerstate.OutputID)) {\\n\\tm.onPullConfirmedOutput = f\\n}\\n\\nfunc (m *MockedNodeConn) OnPostTransaction(f func(tx *ledgerstate.Transaction)) {\\n\\tm.onPostTransaction = f\\n}\\n',\n",
       "   'role': 'user'}],\n",
       " 'generate_time': 20.40785813331604,\n",
       " 'completion': 'Here is a simple example of how you can write unit tests for the `MockedNodeConn` struct using the `testing` package in Go.\\n\\n```go\\npackage testchain\\n\\nimport (\\n\\t\"testing\"\\n\\t\"github.com/iotaledger/goshimmer/packages/ledgerstate\"\\n)\\n\\nfunc TestMockedNodeConn(t *testing.T) {\\n\\tmockedNodeConn := NewMockedNodeConnection(\"testID\")\\n\\n\\t// Test ID method\\n\\tif mockedNodeConn.ID() != \"testID\" {\\n\\t\\tt.Errorf(\"Expected ID to be \\'testID\\', got %s\", mockedNodeConn.ID())\\n\\t}\\n\\n\\t// Test PullBacklog method\\n\\texpectedAddr := &ledgerstate.AliasAddress{}\\n\\tmockedNodeConn.PullBacklog(expectedAddr)\\n\\tif mockedNodeConn.onPullBacklog == nil {\\n\\t\\tt.Errorf(\"Expected onPullBacklog to be set, got nil\")\\n\\t} else if mockedNodeConn.onPullBacklog(expectedAddr) != nil {\\n\\t\\tt.Errorf(\"onPullBacklog should not return anything\")\\n\\t}\\n\\n\\t// Test PullState method\\n\\texpectedAddr = &ledgerstate.AliasAddress{}\\n\\tmockedNodeConn.PullState(expectedAddr)\\n\\tif mockedNodeConn.onPullState == nil {\\n\\t\\tt.Errorf(\"Expected onPullState to be set, got nil\")\\n\\t} else if mockedNodeConn.onPullState(expectedAddr) != nil {\\n\\t\\tt.Errorf(\"onPullState should not return anything\")\\n\\t}\\n\\n\\t// Test PullConfirmedTransaction method\\n\\texpectedAddr = ledgerstate.Address{}\\n\\texpectedTxID := ledgerstate.TransactionID{}\\n\\tmockedNodeConn.PullConfirmedTransaction(expectedAddr, expectedTxID)\\n\\tif mockedNodeConn.onPullConfirmedTransaction == nil {\\n\\t\\tt.Errorf(\"Expected onPullConfirmedTransaction to be set, got nil\")\\n\\t} else if mockedNodeConn.onPullConfirmedTransaction(expectedAddr, expectedTxID) != nil {\\n\\t\\tt.Errorf(\"onPullConfirmedTransaction should not return anything\")\\n\\t}\\n\\n\\t// Test PullTransactionInclusionState method\\n\\texpectedAddr = ledgerstate.Address{}\\n\\texpectedTxID = ledgerstate.TransactionID{}\\n\\tmockedNodeConn.PullTransactionInclusionState(expectedAddr, expectedTxID)\\n\\tif mockedNodeConn.onPullTransactionInclusionState == nil {\\n\\t\\tt.Errorf(\"Expected onPullTransactionInclusionState to be set, got nil\")\\n\\t} else if mockedNodeConn.onPullTransactionInclusionState(expectedAddr, expectedTxID) != nil {\\n\\t\\tt.Errorf(\"onPullTransactionInclusionState should not return anything\")\\n\\t}\\n\\n\\t// Test PullConfirmedOutput method\\n\\texpectedAddr = ledgerstate.Address{}\\n\\texpectedOutputID := ledgerstate.OutputID{}\\n\\tmockedNodeConn.PullConfirmedOutput(expectedAddr, expectedOutputID)\\n\\tif mockedNodeConn.onPullConfirmedOutput == nil {\\n\\t\\tt.Errorf(\"Expected onPullConfirmedOutput to be set, got nil\")\\n\\t} else if mockedNodeConn.onPullConfirmedOutput(expectedAddr, expectedOutputID) != nil {\\n\\t\\tt.Errorf(\"onPullConfirmedOutput should not return anything\")\\n\\t}\\n\\n\\t// Test PostTransaction method\\n\\texpectedTx := &ledgerstate.Transaction{}\\n\\tmockedNodeConn.PostTransaction(expectedTx)\\n\\tif mockedNodeConn.onPostTransaction == nil {\\n\\t\\tt.Errorf(\"Expected onPostTransaction to be set, got nil\")\\n\\t} else if mockedNodeConn.onPostTransaction(expectedTx) != nil {\\n\\t\\tt.Errorf(\"onPostTransaction should not return anything\")\\n\\t}\\n}\\n```\\n\\nThis test suite covers the basic functionality of the `MockedNodeConn` struct. It checks if the methods are correctly setting and unsetting the corresponding callback functions, and if they are correctly calling the callback functions with the expected arguments.\\n',\n",
       " 'score_time': 0.5991272926330566,\n",
       " 'result': {'coverage': 0.0,\n",
       "  'error': 'go test build failed: stdout = {\"ImportPath\":\"github.com/iotaledger/wasp/packages/testutil/testchain [github.com/iotaledger/wasp/packages/testutil/testchain.test]\",\"Action\":\"build-output\",\"Output\":\"# github.com/iotaledger/wasp/packages/testutil/testchain [github.com/iotaledger/wasp/packages/testutil/testchain.test]\\\\n\"}\\n{\"ImportPath\":\"github.com/iotaledger/wasp/packages/testutil/testchain [github.com/iotaledger/wasp/packages/testutil/testchain.test]\",\"Action\":\"build-output\",\"Output\":\"packages/testutil/testchain/m_llm_test.go:22:12: mockedNodeConn.onPullBacklog(expectedAddr) (no value) used as value\\\\n\"}\\n{\"ImportPath\":\"github.com/iotaledger/wasp/packages/testutil/testchain [github.com/iotaledger/wasp/packages/testutil/testchain.test]\",\"Action\":\"build-output\",\"Output\":\"packages/testutil/testchain/m_llm_test.go:31:12: mockedNodeConn.onPullState(expectedAddr) (no value) used as value\\\\n\"}\\n{\"ImportPath\":\"github.com/iotaledger/wasp/packages/testutil/testchain [github.com/iotaledger/wasp/packages/testutil/testchain.test]\",\"Action\":\"build-output\",\"Output\":\"packages/testutil/testchain/m_llm_test.go:36:17: invalid composite literal type ledgerstate.Address\\\\n\"}\\n{\"ImportPath\":\"github.com/iotaledger/wasp/packages/testutil/testchain [github.com/iotaledger/wasp/packages/testutil/testchain.test]\",\"Action\":\"build-output\",\"Output\":\"packages/testutil/testchain/m_llm_test.go:41:12: mockedNodeConn.onPullConfirmedTransaction(expectedAddr, expectedTxID) (no value) used as value\\\\n\"}\\n{\"ImportPath\":\"github.com/iotaledger/wasp/packages/testutil/testchain [github.com/iotaledger/wasp/packages/testutil/testchain.test]\",\"Action\":\"build-output\",\"Output\":\"packages/testutil/testchain/m_llm_test.go:46:17: invalid composite literal type ledgerstate.Address\\\\n\"}\\n{\"ImportPath\":\"github.com/iotaledger/wasp/packages/testutil/testchain [github.com/iotaledger/wasp/packages/testutil/testchain.test]\",\"Action\":\"build-output\",\"Output\":\"packages/testutil/testchain/m_llm_test.go:51:12: mockedNodeConn.onPullTransactionInclusionState(expectedAddr, expectedTxID) (no value) used as value\\\\n\"}\\n{\"ImportPath\":\"github.com/iotaledger/wasp/packages/testutil/testchain [github.com/iotaledger/wasp/packages/testutil/testchain.test]\",\"Action\":\"build-output\",\"Output\":\"packages/testutil/testchain/m_llm_test.go:56:17: invalid composite literal type ledgerstate.Address\\\\n\"}\\n{\"ImportPath\":\"github.com/iotaledger/wasp/packages/testutil/testchain [github.com/iotaledger/wasp/packages/testutil/testchain.test]\",\"Action\":\"build-output\",\"Output\":\"packages/testutil/testchain/m_llm_test.go:61:12: mockedNodeConn.onPullConfirmedOutput(expectedAddr, expectedOutputID) (no value) used as value\\\\n\"}\\n{\"ImportPath\":\"github.com/iotaledger/wasp/packages/testutil/testchain [github.com/iotaledger/wasp/packages/testutil/testchain.test]\",\"Action\":\"build-output\",\"Output\":\"packages/testutil/testchain/m_llm_test.go:70:12: mockedNodeConn.onPostTransaction(expectedTx) (no value) used as value\\\\n\"}\\n{\"ImportPath\":\"github.com/iotaledger/wasp/packages/testutil/testchain [github.com/iotaledger/wasp/packages/testutil/testchain.test]\",\"Action\":\"build-fail\"}\\n{\"Time\":\"2025-05-19T10:43:34.755383829+03:00\",\"Action\":\"start\",\"Package\":\"github.com/iotaledger/wasp/packages/testutil/testchain\"}\\n{\"Time\":\"2025-05-19T10:43:34.755418874+03:00\",\"Action\":\"output\",\"Package\":\"github.com/iotaledger/wasp/packages/testutil/testchain\",\"Output\":\"FAIL\\\\tgithub.com/iotaledger/wasp/packages/testutil/testchain [build failed]\\\\n\"}\\n{\"Time\":\"2025-05-19T10:43:34.755424312+03:00\",\"Action\":\"fail\",\"Package\":\"github.com/iotaledger/wasp/packages/testutil/testchain\",\"Elapsed\":0,\"FailedBuild\":\"github.com/iotaledger/wasp/packages/testutil/testchain [github.com/iotaledger/wasp/packages/testutil/testchain.test]\"}\\n, stderr =  <class \\'Exception\\'>',\n",
       "  'error_type': 'test_build_failed',\n",
       "  'mutation_score': 0.0,\n",
       "  'test_results': {'all_passed': 0,\n",
       "   'failed': 0,\n",
       "   'passed': 0,\n",
       "   'root_failed': 0,\n",
       "   'root_passed': 0}},\n",
       " 'reward': 0.0}"
      ]
     },
     "execution_count": 4,
     "metadata": {},
     "output_type": "execute_result"
    }
   ],
   "source": [
    "async def score_row(row: dict) -> dict:\n",
    "    start = time.time()\n",
    "    scorer = Scorer(row['project_path'], row['relative_package_path'], None, relative_file_path=row['relative_file_path'])\n",
    "\n",
    "    evaluation_result = await scorer.score(row['completion'])\n",
    "\n",
    "    reward = scorer.calculate_reward(evaluation_result)\n",
    "\n",
    "    return {\n",
    "        'score_time': time.time()-start,\n",
    "        'result': evaluation_result,\n",
    "        'reward': reward,\n",
    "    }\n",
    "\n",
    "results = {}\n",
    "for i, row in tqdm(enumerate(by_file_test_with_completions_ds), total=len(by_file_test_with_completions_ds)):\n",
    "    results[(row['project_path'], row['relative_package_path'], row['relative_file_path'])] = await score_row(row)\n",
    "\n",
    "by_file_test_scored_ds = by_file_test_with_completions_ds.map(lambda row: results[(row['project_path'], row['relative_package_path'], row['relative_file_path'])], num_proc=1)\n",
    "\n",
    "by_file_test_scored_ds.save_to_disk(DATA_DIR+'/by_file_test_scored_ds')\n",
    "\n",
    "print(by_file_test_scored_ds)\n",
    "by_file_test_scored_ds[0]               "
   ]
  },
  {
   "cell_type": "markdown",
   "metadata": {},
   "source": [
    "### Анализ результатов"
   ]
  },
  {
   "cell_type": "code",
   "execution_count": 5,
   "metadata": {},
   "outputs": [],
   "source": [
    "df = datasets.load_from_disk(DATA_DIR+'/by_file_test_scored_ds').to_pandas()"
   ]
  },
  {
   "cell_type": "code",
   "execution_count": 6,
   "metadata": {},
   "outputs": [],
   "source": [
    "df['coverage'] = df['result'].apply(lambda x: float(x['coverage']))\n",
    "df['mutation_score'] = df['result'].apply(lambda x: float(x['mutation_score']))\n",
    "df['error_type'] = df['result'].apply(lambda x: str(x['error_type']))\n",
    "df['all_passed'] = df['result'].apply(lambda x: int(x['test_results']['all_passed']))\n",
    "df['is_error'] = df['error_type'] != ''"
   ]
  },
  {
   "cell_type": "code",
   "execution_count": 7,
   "metadata": {},
   "outputs": [
    {
     "name": "stdout",
     "output_type": "stream",
     "text": [
      "error count 370\n"
     ]
    },
    {
     "data": {
      "text/plain": [
       "error_type\n",
       "test_build_failed    170\n",
       "completion_parse     133\n",
       "go_tool_cover         34\n",
       "other                 21\n",
       "get_deps               7\n",
       "goimports              5\n",
       "Name: count, dtype: int64"
      ]
     },
     "execution_count": 7,
     "metadata": {},
     "output_type": "execute_result"
    }
   ],
   "source": [
    "print('error count', len(df.query('is_error')))\n",
    "\n",
    "df.query('is_error')['error_type'].value_counts()"
   ]
  },
  {
   "cell_type": "code",
   "execution_count": 9,
   "metadata": {},
   "outputs": [
    {
     "name": "stdout",
     "output_type": "stream",
     "text": [
      "reward 0.17719959840000002\n",
      "coverage 21.313846153846157\n",
      "mutation_score 0.29743661666666665\n",
      "all_passed_count 60\n"
     ]
    }
   ],
   "source": [
    "print('reward', df['reward'].mean())\n",
    "print('coverage', df.query('is_error == False')['coverage'].mean())\n",
    "print('mutation_score', df.query('all_passed == 1')['mutation_score'].mean())\n",
    "print('all_passed_count', len(df.query('all_passed == 1')['mutation_score']))"
   ]
  },
  {
   "cell_type": "code",
   "execution_count": null,
   "metadata": {},
   "outputs": [],
   "source": []
  }
 ],
 "metadata": {
  "kernelspec": {
   "display_name": ".venv",
   "language": "python",
   "name": "python3"
  },
  "language_info": {
   "codemirror_mode": {
    "name": "ipython",
    "version": 3
   },
   "file_extension": ".py",
   "mimetype": "text/x-python",
   "name": "python",
   "nbconvert_exporter": "python",
   "pygments_lexer": "ipython3",
   "version": "3.11.12"
  }
 },
 "nbformat": 4,
 "nbformat_minor": 2
}
