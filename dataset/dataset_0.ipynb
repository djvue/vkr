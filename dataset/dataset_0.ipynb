{
 "cells": [
  {
   "cell_type": "markdown",
   "metadata": {},
   "source": [
    "# Подготовка датасета - 1 часть, скачивание и фильтрация файлов"
   ]
  },
  {
   "cell_type": "markdown",
   "metadata": {},
   "source": [
    "### Импорты и сетап окружения"
   ]
  },
  {
   "cell_type": "code",
   "execution_count": 1,
   "metadata": {
    "ExecuteTime": {
     "end_time": "2025-04-06T09:36:35.720883Z",
     "start_time": "2025-04-06T09:36:34.354367Z"
    }
   },
   "outputs": [],
   "source": [
    "import datasets\n",
    "import os\n",
    "import pandas as pd\n",
    "import subprocess\n",
    "import re\n",
    "from tqdm.notebook import tqdm\n",
    "from pathlib import Path\n",
    "import asyncio\n",
    "import aiopath\n",
    "import sys\n",
    "\n",
    "ROOT_DIR = str(aiopath.AsyncPath.cwd().parent)\n",
    "DATA_DIR = ROOT_DIR+'/data'\n",
    "REPOS_DIR = DATA_DIR+'/repos'\n",
    "if ROOT_DIR not in sys.path:\n",
    "    sys.path.append(ROOT_DIR)\n",
    "\n",
    "gvm_root = os.environ['GVM_ROOT']\n",
    "os.environ['PATH'] = f\"{gvm_root}/bin:{gvm_root}/pkgsets/go1.24.2/global/bin:{gvm_root}/gos/go1.24.2/bin:{gvm_root}/pkgsets/go1.24.2/global/overlay/bin:{os.environ['PATH']}\""
   ]
  },
  {
   "cell_type": "markdown",
   "metadata": {},
   "source": [
    "### Скачиваем исходный dataset\n",
    "\n",
    "В качестве индекса репозиториев гитхаба используется датасет `bigcode/the-stack-v2-dedup`, содержащий 8.25 млн записей для языка go (`.go`, `go.mod`, `go.sum`)"
   ]
  },
  {
   "cell_type": "code",
   "execution_count": 3,
   "metadata": {
    "ExecuteTime": {
     "end_time": "2025-04-06T09:35:21.194063Z",
     "start_time": "2025-04-06T09:35:20.377911Z"
    }
   },
   "outputs": [
    {
     "name": "stdout",
     "output_type": "stream",
     "text": [
      "8248983\n"
     ]
    },
    {
     "data": {
      "text/html": [
       "<div>\n",
       "<style scoped>\n",
       "    .dataframe tbody tr th:only-of-type {\n",
       "        vertical-align: middle;\n",
       "    }\n",
       "\n",
       "    .dataframe tbody tr th {\n",
       "        vertical-align: top;\n",
       "    }\n",
       "\n",
       "    .dataframe thead th {\n",
       "        text-align: right;\n",
       "    }\n",
       "</style>\n",
       "<table border=\"1\" class=\"dataframe\">\n",
       "  <thead>\n",
       "    <tr style=\"text-align: right;\">\n",
       "      <th></th>\n",
       "      <th>path</th>\n",
       "      <th>repo_name</th>\n",
       "      <th>revision_id</th>\n",
       "      <th>star_events_count</th>\n",
       "      <th>fork_events_count</th>\n",
       "      <th>is_vendor</th>\n",
       "      <th>is_generated</th>\n",
       "      <th>length_bytes</th>\n",
       "      <th>extension</th>\n",
       "      <th>filename</th>\n",
       "    </tr>\n",
       "  </thead>\n",
       "  <tbody>\n",
       "    <tr>\n",
       "      <th>0</th>\n",
       "      <td>/backend/cmd/main.go</td>\n",
       "      <td>0-10V/real-time-metrics</td>\n",
       "      <td>766dc882d779f07821bde740ce49802f67ae42b3</td>\n",
       "      <td>0</td>\n",
       "      <td>0</td>\n",
       "      <td>False</td>\n",
       "      <td>False</td>\n",
       "      <td>118</td>\n",
       "      <td>go</td>\n",
       "      <td>main.go</td>\n",
       "    </tr>\n",
       "    <tr>\n",
       "      <th>1</th>\n",
       "      <td>/backend/controllers/controllers.go</td>\n",
       "      <td>0-10V/real-time-metrics</td>\n",
       "      <td>766dc882d779f07821bde740ce49802f67ae42b3</td>\n",
       "      <td>0</td>\n",
       "      <td>0</td>\n",
       "      <td>False</td>\n",
       "      <td>False</td>\n",
       "      <td>1164</td>\n",
       "      <td>go</td>\n",
       "      <td>controllers.go</td>\n",
       "    </tr>\n",
       "    <tr>\n",
       "      <th>2</th>\n",
       "      <td>/backend/go.mod</td>\n",
       "      <td>0-10V/real-time-metrics</td>\n",
       "      <td>766dc882d779f07821bde740ce49802f67ae42b3</td>\n",
       "      <td>0</td>\n",
       "      <td>0</td>\n",
       "      <td>False</td>\n",
       "      <td>False</td>\n",
       "      <td>126</td>\n",
       "      <td>mod</td>\n",
       "      <td>go.mod</td>\n",
       "    </tr>\n",
       "    <tr>\n",
       "      <th>3</th>\n",
       "      <td>/backend/models/models.go</td>\n",
       "      <td>0-10V/real-time-metrics</td>\n",
       "      <td>766dc882d779f07821bde740ce49802f67ae42b3</td>\n",
       "      <td>0</td>\n",
       "      <td>0</td>\n",
       "      <td>False</td>\n",
       "      <td>False</td>\n",
       "      <td>767</td>\n",
       "      <td>go</td>\n",
       "      <td>models.go</td>\n",
       "    </tr>\n",
       "    <tr>\n",
       "      <th>4</th>\n",
       "      <td>/backend/routes/router.go</td>\n",
       "      <td>0-10V/real-time-metrics</td>\n",
       "      <td>766dc882d779f07821bde740ce49802f67ae42b3</td>\n",
       "      <td>0</td>\n",
       "      <td>0</td>\n",
       "      <td>False</td>\n",
       "      <td>False</td>\n",
       "      <td>233</td>\n",
       "      <td>go</td>\n",
       "      <td>router.go</td>\n",
       "    </tr>\n",
       "  </tbody>\n",
       "</table>\n",
       "</div>"
      ],
      "text/plain": [
       "                                  path                repo_name  \\\n",
       "0                 /backend/cmd/main.go  0-10V/real-time-metrics   \n",
       "1  /backend/controllers/controllers.go  0-10V/real-time-metrics   \n",
       "2                      /backend/go.mod  0-10V/real-time-metrics   \n",
       "3            /backend/models/models.go  0-10V/real-time-metrics   \n",
       "4            /backend/routes/router.go  0-10V/real-time-metrics   \n",
       "\n",
       "                                revision_id  star_events_count  \\\n",
       "0  766dc882d779f07821bde740ce49802f67ae42b3                  0   \n",
       "1  766dc882d779f07821bde740ce49802f67ae42b3                  0   \n",
       "2  766dc882d779f07821bde740ce49802f67ae42b3                  0   \n",
       "3  766dc882d779f07821bde740ce49802f67ae42b3                  0   \n",
       "4  766dc882d779f07821bde740ce49802f67ae42b3                  0   \n",
       "\n",
       "   fork_events_count  is_vendor  is_generated  length_bytes extension  \\\n",
       "0                  0      False         False           118        go   \n",
       "1                  0      False         False          1164        go   \n",
       "2                  0      False         False           126       mod   \n",
       "3                  0      False         False           767        go   \n",
       "4                  0      False         False           233        go   \n",
       "\n",
       "         filename  \n",
       "0         main.go  \n",
       "1  controllers.go  \n",
       "2          go.mod  \n",
       "3       models.go  \n",
       "4       router.go  "
      ]
     },
     "execution_count": 3,
     "metadata": {},
     "output_type": "execute_result"
    }
   ],
   "source": [
    "# Go 7.84M\n",
    "# Go_Checksums 62.4K\n",
    "# Go_Module 351K\n",
    "\n",
    "if not os.path.isdir(DATA_DIR+'/source_dedup_ds'):\n",
    "    go_ds = datasets.load_dataset(\"bigcode/the-stack-v2-dedup\", \"Go\", split=\"train\")\n",
    "    go_checksums_ds = datasets.load_dataset(\"bigcode/the-stack-v2-dedup\", \"Go_Checksums\", split=\"train\")\n",
    "    go_module_ds = datasets.load_dataset(\"bigcode/the-stack-v2-dedup\", \"Go_Module\", split=\"train\")\n",
    "    source_ds = datasets.concatenate_datasets([\n",
    "        go_ds,\n",
    "        go_checksums_ds,\n",
    "        go_module_ds,\n",
    "    ])\n",
    "    del go_ds, go_checksums_ds, go_module_ds\n",
    "\n",
    "    source_ds = source_ds.remove_columns([\n",
    "        'blob_id', 'directory_id', 'content_id', 'detected_licenses', 'license_type',\n",
    "        'snapshot_id', 'branch_name', 'visit_date', 'revision_date', 'committer_date',\n",
    "        'github_id', 'gha_license_id', 'gha_event_created_at', 'gha_created_at',\n",
    "        'gha_language', 'src_encoding', 'language',\n",
    "    ])\n",
    "    source_ds = source_ds.sort([\"repo_name\", \"path\"])\n",
    "    source_ds.save_to_disk(DATA_DIR+'/source_dedup_ds')\n",
    "\n",
    "source_ds = datasets.load_from_disk(DATA_DIR+'/source_dedup_ds')\n",
    "\n",
    "print(len(source_ds))\n",
    "source_ds.take(5).to_pandas()"
   ]
  },
  {
   "cell_type": "markdown",
   "metadata": {},
   "source": [
    "### Подготовка и фильтрация данных\n",
    "\n",
    "Берем 100000 файлов из самых популярных репозиториев"
   ]
  },
  {
   "cell_type": "code",
   "execution_count": 4,
   "metadata": {},
   "outputs": [
    {
     "name": "stdout",
     "output_type": "stream",
     "text": [
      "500000\n"
     ]
    },
    {
     "data": {
      "text/html": [
       "<div>\n",
       "<style scoped>\n",
       "    .dataframe tbody tr th:only-of-type {\n",
       "        vertical-align: middle;\n",
       "    }\n",
       "\n",
       "    .dataframe tbody tr th {\n",
       "        vertical-align: top;\n",
       "    }\n",
       "\n",
       "    .dataframe thead th {\n",
       "        text-align: right;\n",
       "    }\n",
       "</style>\n",
       "<table border=\"1\" class=\"dataframe\">\n",
       "  <thead>\n",
       "    <tr style=\"text-align: right;\">\n",
       "      <th></th>\n",
       "      <th>path</th>\n",
       "      <th>repo_name</th>\n",
       "      <th>revision_id</th>\n",
       "      <th>star_events_count</th>\n",
       "      <th>fork_events_count</th>\n",
       "      <th>is_vendor</th>\n",
       "      <th>is_generated</th>\n",
       "      <th>length_bytes</th>\n",
       "      <th>extension</th>\n",
       "      <th>filename</th>\n",
       "    </tr>\n",
       "  </thead>\n",
       "  <tbody>\n",
       "    <tr>\n",
       "      <th>0</th>\n",
       "      <td>/backend/cmd/main.go</td>\n",
       "      <td>0-10V/real-time-metrics</td>\n",
       "      <td>766dc882d779f07821bde740ce49802f67ae42b3</td>\n",
       "      <td>0</td>\n",
       "      <td>0</td>\n",
       "      <td>False</td>\n",
       "      <td>False</td>\n",
       "      <td>118</td>\n",
       "      <td>go</td>\n",
       "      <td>main.go</td>\n",
       "    </tr>\n",
       "    <tr>\n",
       "      <th>1</th>\n",
       "      <td>/backend/controllers/controllers.go</td>\n",
       "      <td>0-10V/real-time-metrics</td>\n",
       "      <td>766dc882d779f07821bde740ce49802f67ae42b3</td>\n",
       "      <td>0</td>\n",
       "      <td>0</td>\n",
       "      <td>False</td>\n",
       "      <td>False</td>\n",
       "      <td>1164</td>\n",
       "      <td>go</td>\n",
       "      <td>controllers.go</td>\n",
       "    </tr>\n",
       "    <tr>\n",
       "      <th>2</th>\n",
       "      <td>/backend/go.mod</td>\n",
       "      <td>0-10V/real-time-metrics</td>\n",
       "      <td>766dc882d779f07821bde740ce49802f67ae42b3</td>\n",
       "      <td>0</td>\n",
       "      <td>0</td>\n",
       "      <td>False</td>\n",
       "      <td>False</td>\n",
       "      <td>126</td>\n",
       "      <td>mod</td>\n",
       "      <td>go.mod</td>\n",
       "    </tr>\n",
       "    <tr>\n",
       "      <th>3</th>\n",
       "      <td>/backend/models/models.go</td>\n",
       "      <td>0-10V/real-time-metrics</td>\n",
       "      <td>766dc882d779f07821bde740ce49802f67ae42b3</td>\n",
       "      <td>0</td>\n",
       "      <td>0</td>\n",
       "      <td>False</td>\n",
       "      <td>False</td>\n",
       "      <td>767</td>\n",
       "      <td>go</td>\n",
       "      <td>models.go</td>\n",
       "    </tr>\n",
       "    <tr>\n",
       "      <th>4</th>\n",
       "      <td>/backend/routes/router.go</td>\n",
       "      <td>0-10V/real-time-metrics</td>\n",
       "      <td>766dc882d779f07821bde740ce49802f67ae42b3</td>\n",
       "      <td>0</td>\n",
       "      <td>0</td>\n",
       "      <td>False</td>\n",
       "      <td>False</td>\n",
       "      <td>233</td>\n",
       "      <td>go</td>\n",
       "      <td>router.go</td>\n",
       "    </tr>\n",
       "  </tbody>\n",
       "</table>\n",
       "</div>"
      ],
      "text/plain": [
       "                                  path                repo_name  \\\n",
       "0                 /backend/cmd/main.go  0-10V/real-time-metrics   \n",
       "1  /backend/controllers/controllers.go  0-10V/real-time-metrics   \n",
       "2                      /backend/go.mod  0-10V/real-time-metrics   \n",
       "3            /backend/models/models.go  0-10V/real-time-metrics   \n",
       "4            /backend/routes/router.go  0-10V/real-time-metrics   \n",
       "\n",
       "                                revision_id  star_events_count  \\\n",
       "0  766dc882d779f07821bde740ce49802f67ae42b3                  0   \n",
       "1  766dc882d779f07821bde740ce49802f67ae42b3                  0   \n",
       "2  766dc882d779f07821bde740ce49802f67ae42b3                  0   \n",
       "3  766dc882d779f07821bde740ce49802f67ae42b3                  0   \n",
       "4  766dc882d779f07821bde740ce49802f67ae42b3                  0   \n",
       "\n",
       "   fork_events_count  is_vendor  is_generated  length_bytes extension  \\\n",
       "0                  0      False         False           118        go   \n",
       "1                  0      False         False          1164        go   \n",
       "2                  0      False         False           126       mod   \n",
       "3                  0      False         False           767        go   \n",
       "4                  0      False         False           233        go   \n",
       "\n",
       "         filename  \n",
       "0         main.go  \n",
       "1  controllers.go  \n",
       "2          go.mod  \n",
       "3       models.go  \n",
       "4       router.go  "
      ]
     },
     "execution_count": 4,
     "metadata": {},
     "output_type": "execute_result"
    }
   ],
   "source": [
    "source_ds = source_ds.sort(['star_events_count', 'repo_name', 'path'])\n",
    "\n",
    "source_ds = source_ds.take(500_000)\n",
    "\n",
    "print(len(source_ds))\n",
    "source_ds.take(5).to_pandas()"
   ]
  },
  {
   "cell_type": "code",
   "execution_count": 5,
   "metadata": {},
   "outputs": [
    {
     "data": {
      "application/vnd.jupyter.widget-view+json": {
       "model_id": "d3b619aad3d64b0fa861de1202ad2bdf",
       "version_major": 2,
       "version_minor": 0
      },
      "text/plain": [
       "Generating train split: 0 examples [00:00, ? examples/s]"
      ]
     },
     "metadata": {},
     "output_type": "display_data"
    },
    {
     "data": {
      "application/vnd.jupyter.widget-view+json": {
       "model_id": "b2477f7acb57461bbd69909eece621db",
       "version_major": 2,
       "version_minor": 0
      },
      "text/plain": [
       "Saving the dataset (0/1 shards):   0%|          | 0/66857 [00:00<?, ? examples/s]"
      ]
     },
     "metadata": {},
     "output_type": "display_data"
    },
    {
     "name": "stdout",
     "output_type": "stream",
     "text": [
      "66857\n"
     ]
    },
    {
     "data": {
      "text/html": [
       "<div>\n",
       "<style scoped>\n",
       "    .dataframe tbody tr th:only-of-type {\n",
       "        vertical-align: middle;\n",
       "    }\n",
       "\n",
       "    .dataframe tbody tr th {\n",
       "        vertical-align: top;\n",
       "    }\n",
       "\n",
       "    .dataframe thead th {\n",
       "        text-align: right;\n",
       "    }\n",
       "</style>\n",
       "<table border=\"1\" class=\"dataframe\">\n",
       "  <thead>\n",
       "    <tr style=\"text-align: right;\">\n",
       "      <th></th>\n",
       "      <th>repo_name</th>\n",
       "      <th>revision_id</th>\n",
       "    </tr>\n",
       "  </thead>\n",
       "  <tbody>\n",
       "    <tr>\n",
       "      <th>0</th>\n",
       "      <td>JonCooperWorks/dnsd</td>\n",
       "      <td>811d12ea9e546ba6e2e17f34f4130f5876b88fbb</td>\n",
       "    </tr>\n",
       "    <tr>\n",
       "      <th>1</th>\n",
       "      <td>Avatarchik/assetview</td>\n",
       "      <td>5ad9636cc8e40b5495208185922c83fdf2d1e65f</td>\n",
       "    </tr>\n",
       "    <tr>\n",
       "      <th>2</th>\n",
       "      <td>BlueXDog/gochat2</td>\n",
       "      <td>f67ed2b90ae0395d1ed015633667dcbbe869e4b0</td>\n",
       "    </tr>\n",
       "    <tr>\n",
       "      <th>3</th>\n",
       "      <td>DasonYang/mmh3_128_string</td>\n",
       "      <td>03f97a17300bf1b183af6e1c67c3efbbd3e8a478</td>\n",
       "    </tr>\n",
       "    <tr>\n",
       "      <th>4</th>\n",
       "      <td>1Crazymoney/TestSafeHarborServer</td>\n",
       "      <td>e64c6d5a40cbcda6d4e24babd3785b93dd96ca69</td>\n",
       "    </tr>\n",
       "  </tbody>\n",
       "</table>\n",
       "</div>"
      ],
      "text/plain": [
       "                          repo_name                               revision_id\n",
       "0               JonCooperWorks/dnsd  811d12ea9e546ba6e2e17f34f4130f5876b88fbb\n",
       "1              Avatarchik/assetview  5ad9636cc8e40b5495208185922c83fdf2d1e65f\n",
       "2                  BlueXDog/gochat2  f67ed2b90ae0395d1ed015633667dcbbe869e4b0\n",
       "3         DasonYang/mmh3_128_string  03f97a17300bf1b183af6e1c67c3efbbd3e8a478\n",
       "4  1Crazymoney/TestSafeHarborServer  e64c6d5a40cbcda6d4e24babd3785b93dd96ca69"
      ]
     },
     "execution_count": 5,
     "metadata": {},
     "output_type": "execute_result"
    }
   ],
   "source": [
    "repo_names = set()\n",
    "\n",
    "for row in source_ds:\n",
    "    repo_names.add((row['repo_name'], row['revision_id']))\n",
    "\n",
    "def repo_names_generator():\n",
    "    for (repo_name, revision_id) in repo_names:\n",
    "        yield {'repo_name': repo_name, 'revision_id': revision_id}\n",
    "\n",
    "repo_names_ds = datasets.Dataset.from_generator(repo_names_generator)\n",
    "del repo_names\n",
    "\n",
    "repo_names_ds.save_to_disk(DATA_DIR+'/repo_names_ds')\n",
    "\n",
    "print(len(repo_names_ds))\n",
    "repo_names_ds.take(5).to_pandas()"
   ]
  },
  {
   "cell_type": "markdown",
   "metadata": {},
   "source": [
    "### Выгрузка архивов репозиториев с github.com\n",
    "\n",
    "Дальше нужно выкачать архивы с репозиториями github и распаковать их\n",
    "\n",
    "Код для этого код вынесен в отдельный скрипт `scrap_dataset.py`.\n",
    "\n",
    "Запускаем\n",
    "`python scrap_dataset.py`"
   ]
  },
  {
   "cell_type": "markdown",
   "metadata": {},
   "source": [
    "### Проверяем наличие файлов из индекса на диске"
   ]
  },
  {
   "cell_type": "code",
   "execution_count": 8,
   "metadata": {},
   "outputs": [
    {
     "data": {
      "application/vnd.jupyter.widget-view+json": {
       "model_id": "7049d104df264af3a2bc34f4b9cc7483",
       "version_major": 2,
       "version_minor": 0
      },
      "text/plain": [
       "Map (num_proc=32):   0%|          | 0/500000 [00:00<?, ? examples/s]"
      ]
     },
     "metadata": {},
     "output_type": "display_data"
    },
    {
     "data": {
      "application/vnd.jupyter.widget-view+json": {
       "model_id": "60de1380fb7742129f201d9a2e76ea93",
       "version_major": 2,
       "version_minor": 0
      },
      "text/plain": [
       "Saving the dataset (0/1 shards):   0%|          | 0/500000 [00:00<?, ? examples/s]"
      ]
     },
     "metadata": {},
     "output_type": "display_data"
    },
    {
     "name": "stdout",
     "output_type": "stream",
     "text": [
      "Dataset({\n",
      "    features: ['path', 'repo_name', 'revision_id', 'star_events_count', 'fork_events_count', 'is_vendor', 'is_generated', 'length_bytes', 'extension', 'filename', 'file_exists', 'file_hash'],\n",
      "    num_rows: 500000\n",
      "})\n"
     ]
    },
    {
     "data": {
      "text/plain": [
       "{'path': '/backend/cmd/main.go',\n",
       " 'repo_name': '0-10V/real-time-metrics',\n",
       " 'revision_id': '766dc882d779f07821bde740ce49802f67ae42b3',\n",
       " 'star_events_count': 0,\n",
       " 'fork_events_count': 0,\n",
       " 'is_vendor': False,\n",
       " 'is_generated': False,\n",
       " 'length_bytes': 118,\n",
       " 'extension': 'go',\n",
       " 'filename': 'main.go',\n",
       " 'file_exists': True,\n",
       " 'file_hash': '7eecb166bd857daa233eff94b56109f2cef0a8d01c0e1438c698f53de3bf930c'}"
      ]
     },
     "execution_count": 8,
     "metadata": {},
     "output_type": "execute_result"
    }
   ],
   "source": [
    "import hashlib\n",
    "\n",
    "if not os.path.isdir(DATA_DIR+'/files_ds'):\n",
    "\n",
    "    def check_file(row):\n",
    "        download_path = f\"{REPOS_DIR}/{row['revision_id']}{row['path']}\"    \n",
    "\n",
    "        try:\n",
    "            with open(download_path, \"rb\") as f:\n",
    "                digest = hashlib.file_digest(f, \"sha256\")\n",
    "                hash = digest.hexdigest()\n",
    "\n",
    "                return {'file_exists': True, \"file_hash\": hash}\n",
    "        except OSError:\n",
    "            return {'file_exists': False, \"file_hash\": \"\"}\n",
    "\n",
    "    files_ds = source_ds.sort(['star_events_count', 'repo_name', 'path'], reverse=[True, False, False]).map(check_file, num_proc=32)\n",
    "\n",
    "    files_ds.save_to_disk(DATA_DIR+'/files_ds')\n",
    "\n",
    "files_ds = datasets.load_from_disk(DATA_DIR+'/files_ds')\n",
    "\n",
    "print(files_ds)\n",
    "files_ds[0]"
   ]
  },
  {
   "cell_type": "markdown",
   "metadata": {},
   "source": [
    "### Очистим тестовые файлы в проектах"
   ]
  },
  {
   "cell_type": "markdown",
   "metadata": {},
   "source": [
    "Такие файлы не нужны для выбранного метода обучения"
   ]
  },
  {
   "cell_type": "code",
   "execution_count": null,
   "metadata": {},
   "outputs": [],
   "source": [
    "revisions = files_ds.unique('revision_id')\n",
    "print(len(revisions))\n",
    "print(revisions[0])\n",
    "\n",
    "for revision_id in tqdm(revisions):\n",
    "    project_path = REPOS_DIR+'/'+revision_id\n",
    "    for p in Path(project_path).glob(\"**/*_test.go\"):\n",
    "        if p.is_file():\n",
    "            p.unlink()"
   ]
  },
  {
   "cell_type": "markdown",
   "metadata": {},
   "source": [
    "### Отфильтруем из датасета отсутствующие файлы, с именем, отличающимися от (`*.go`, `go.mod`, `go.sum`)"
   ]
  },
  {
   "cell_type": "code",
   "execution_count": 10,
   "metadata": {},
   "outputs": [
    {
     "data": {
      "application/vnd.jupyter.widget-view+json": {
       "model_id": "d17b1bc4686f4b45852f4d1d721e0755",
       "version_major": 2,
       "version_minor": 0
      },
      "text/plain": [
       "Filter:   0%|          | 0/500000 [00:00<?, ? examples/s]"
      ]
     },
     "metadata": {},
     "output_type": "display_data"
    },
    {
     "name": "stdout",
     "output_type": "stream",
     "text": [
      "Dataset({\n",
      "    features: ['path', 'repo_name', 'revision_id', 'star_events_count', 'fork_events_count', 'is_vendor', 'is_generated', 'length_bytes', 'extension', 'filename', 'file_exists', 'file_hash'],\n",
      "    num_rows: 414960\n",
      "})\n"
     ]
    },
    {
     "data": {
      "text/plain": [
       "{'not_exists_count': 47489, 'test_files_count': 37551, 'wrong_ext_count': 0}"
      ]
     },
     "execution_count": 10,
     "metadata": {},
     "output_type": "execute_result"
    }
   ],
   "source": [
    "filter_stats = {\n",
    "    \"not_exists_count\": 0,\n",
    "    \"test_files_count\": 0,\n",
    "    \"wrong_ext_count\": 0,\n",
    "}\n",
    "\n",
    "def filter_files(row) -> bool:\n",
    "    if not row['file_exists']:\n",
    "        filter_stats['not_exists_count'] += 1\n",
    "        return False\n",
    "\n",
    "    lower_path = row['path'].lower()\n",
    "    if lower_path.endswith(\"_test.go\"):\n",
    "        filter_stats['test_files_count'] += 1\n",
    "        return False\n",
    "    if not lower_path.endswith(\".go\") and not lower_path.endswith(\"/go.mod\") and not lower_path.endswith(\"/go.sum\"):\n",
    "        filter_stats['wrong_ext_count'] += 1\n",
    "        return False\n",
    "\n",
    "    return True\n",
    "\n",
    "ds = files_ds.filter(filter_files, num_proc=1)\n",
    "\n",
    "print(ds)\n",
    "filter_stats"
   ]
  },
  {
   "cell_type": "markdown",
   "metadata": {},
   "source": [
    "### Проанализируем структуру репозиториев\n",
    "\n",
    "Определим project (директория внутри репозитория с `go.mod`), в одном репозитории может быть несколько проектов.\n",
    "\n",
    "Определим относительный путь файла в проекте\n",
    "\n",
    "Определим относительный путь пакета файла (директория внутри проекта)"
   ]
  },
  {
   "cell_type": "code",
   "execution_count": 11,
   "metadata": {},
   "outputs": [
    {
     "data": {
      "application/vnd.jupyter.widget-view+json": {
       "model_id": "5091df990c024d1aa1dc59733ee9794f",
       "version_major": 2,
       "version_minor": 0
      },
      "text/plain": [
       "Map:   0%|          | 0/414960 [00:00<?, ? examples/s]"
      ]
     },
     "metadata": {},
     "output_type": "display_data"
    },
    {
     "data": {
      "application/vnd.jupyter.widget-view+json": {
       "model_id": "9f5006a32d4a489fa7334c802e265477",
       "version_major": 2,
       "version_minor": 0
      },
      "text/plain": [
       "Map (num_proc=32):   0%|          | 0/414960 [00:00<?, ? examples/s]"
      ]
     },
     "metadata": {},
     "output_type": "display_data"
    },
    {
     "name": "stdout",
     "output_type": "stream",
     "text": [
      "Dataset({\n",
      "    features: ['path', 'repo_name', 'revision_id', 'star_events_count', 'fork_events_count', 'is_vendor', 'is_generated', 'length_bytes', 'extension', 'filename', 'file_exists', 'file_hash', 'project', 'relative_project_path', 'relative_go_package'],\n",
      "    num_rows: 414960\n",
      "})\n"
     ]
    },
    {
     "data": {
      "text/plain": [
       "{'path': '/backend/cmd/main.go',\n",
       " 'repo_name': '0-10V/real-time-metrics',\n",
       " 'revision_id': '766dc882d779f07821bde740ce49802f67ae42b3',\n",
       " 'star_events_count': 0,\n",
       " 'fork_events_count': 0,\n",
       " 'is_vendor': False,\n",
       " 'is_generated': False,\n",
       " 'length_bytes': 118,\n",
       " 'extension': 'go',\n",
       " 'filename': 'main.go',\n",
       " 'file_exists': True,\n",
       " 'file_hash': '7eecb166bd857daa233eff94b56109f2cef0a8d01c0e1438c698f53de3bf930c',\n",
       " 'project': '/backend/',\n",
       " 'relative_project_path': 'cmd/main.go',\n",
       " 'relative_go_package': 'cmd/'}"
      ]
     },
     "execution_count": 11,
     "metadata": {},
     "output_type": "execute_result"
    }
   ],
   "source": [
    "projects_by_repo: dict[str, set[str]] = {}\n",
    "\n",
    "def get_go_package(relative_project_path: str) -> str:\n",
    "    filename_slash_pos = relative_project_path.rfind('/')\n",
    "    return relative_project_path[:filename_slash_pos+1]\n",
    "\n",
    "def collect_projects(row):\n",
    "    lower_path = row['path'].lower()\n",
    "    if lower_path.endswith(\"/go.mod\"):\n",
    "        project = row['path'][:len(row['path'])-6]\n",
    "\n",
    "        repo_projects = projects_by_repo.get(row['repo_name'], set())\n",
    "        repo_projects.add(project)\n",
    "        projects_by_repo[row['repo_name']] = repo_projects\n",
    "\n",
    "ds.map(collect_projects)\n",
    "\n",
    "def add_project_column(row):\n",
    "    lower_path = row['path'].lower()\n",
    "    if lower_path.endswith(\"/go.mod\"):\n",
    "        project = row['path'][:len(row['path'])-6]\n",
    "        return {'project': project, 'relative_project_path': row['path'][len(row['path'])-7:], 'relative_go_package': ''}\n",
    "\n",
    "    repo_projects = list(projects_by_repo.get(row[\"repo_name\"], set()))\n",
    "    repo_projects.sort(key=len, reverse=True)\n",
    "\n",
    "    for repo_project in repo_projects:\n",
    "        if ((lower_path.endswith('.go') and row['path'].startswith(repo_project)) or\n",
    "            (lower_path == repo_project.lower()+\"go.sum\")):\n",
    "\n",
    "            relative_project_path = row['path'][len(repo_project):]\n",
    "            return {'project': repo_project, 'relative_project_path': relative_project_path, 'relative_go_package': get_go_package(relative_project_path)}\n",
    "\n",
    "    return {'project': '', 'relative_project_path': '', 'relative_go_package': ''}\n",
    "\n",
    "ds = ds.map(add_project_column, num_proc=32)\n",
    "\n",
    "print(ds)\n",
    "ds[0]"
   ]
  },
  {
   "cell_type": "markdown",
   "metadata": {},
   "source": [
    "### Отфильтруем файлы go без go module"
   ]
  },
  {
   "cell_type": "markdown",
   "metadata": {},
   "source": [
    "Проекты без go.mod - это legacy проекты, который с большой вероятностью не получится запустить без ручной работы"
   ]
  },
  {
   "cell_type": "code",
   "execution_count": 12,
   "metadata": {},
   "outputs": [
    {
     "data": {
      "application/vnd.jupyter.widget-view+json": {
       "model_id": "f435ee3ae2784001bd1de95f935a0b5b",
       "version_major": 2,
       "version_minor": 0
      },
      "text/plain": [
       "Filter (num_proc=32):   0%|          | 0/414960 [00:00<?, ? examples/s]"
      ]
     },
     "metadata": {},
     "output_type": "display_data"
    },
    {
     "name": "stdout",
     "output_type": "stream",
     "text": [
      "Dataset({\n",
      "    features: ['path', 'repo_name', 'revision_id', 'star_events_count', 'fork_events_count', 'is_vendor', 'is_generated', 'length_bytes', 'extension', 'filename', 'file_exists', 'file_hash', 'project', 'relative_project_path', 'relative_go_package'],\n",
      "    num_rows: 170126\n",
      "})\n"
     ]
    },
    {
     "data": {
      "text/plain": [
       "{'path': '/basic/api/prod/prods.pb.go',\n",
       " 'repo_name': '00arthur00/micro-simple-study',\n",
       " 'revision_id': '6f4a3acac7dbac1fb7c1377862da1abf3a989f2f',\n",
       " 'star_events_count': 0,\n",
       " 'fork_events_count': 0,\n",
       " 'is_vendor': False,\n",
       " 'is_generated': True,\n",
       " 'length_bytes': 5956,\n",
       " 'extension': 'go',\n",
       " 'filename': 'prods.pb.go',\n",
       " 'file_exists': True,\n",
       " 'file_hash': 'ea093c07732747284b6468dc0dc3f12612d26716c95e377f479a9531f5232aa5',\n",
       " 'project': '/basic/',\n",
       " 'relative_project_path': 'api/prod/prods.pb.go',\n",
       " 'relative_go_package': 'api/prod/'}"
      ]
     },
     "execution_count": 12,
     "metadata": {},
     "output_type": "execute_result"
    }
   ],
   "source": [
    "ds = ds.filter(lambda row: row['project'] != '', num_proc=32)\n",
    "\n",
    "print(ds)\n",
    "ds.skip(100)[0]"
   ]
  },
  {
   "cell_type": "markdown",
   "metadata": {},
   "source": [
    "TODO: отфильтровать build теги `//go:build ...`"
   ]
  },
  {
   "cell_type": "markdown",
   "metadata": {},
   "source": [
    "### Отфильтруем проекты с /generated/ в пути\n",
    "\n",
    "Это с большой вероятностью означает, что они сгенерированы"
   ]
  },
  {
   "cell_type": "code",
   "execution_count": null,
   "id": "65ab30f3",
   "metadata": {},
   "outputs": [
    {
     "name": "stdout",
     "output_type": "stream",
     "text": [
      "Dataset({\n",
      "    features: ['path', 'repo_name', 'revision_id', 'star_events_count', 'fork_events_count', 'is_vendor', 'is_generated', 'length_bytes', 'extension', 'filename', 'file_exists', 'file_hash', 'project', 'relative_project_path', 'relative_go_package'],\n",
      "    num_rows: 2664663\n",
      "})\n"
     ]
    }
   ],
   "source": [
    "ds = ds.filter(lambda row: '/generated/' not in '/'+row['relative_go_package'], num_proc=32)\n",
    "\n",
    "print(ds)"
   ]
  },
  {
   "cell_type": "code",
   "execution_count": null,
   "id": "df538944",
   "metadata": {},
   "outputs": [
    {
     "name": "stdout",
     "output_type": "stream",
     "text": [
      "Dataset({\n",
      "    features: ['path', 'repo_name', 'revision_id', 'star_events_count', 'fork_events_count', 'is_vendor', 'is_generated', 'length_bytes', 'extension', 'filename', 'file_exists', 'file_hash', 'project', 'relative_project_path', 'relative_go_package'],\n",
      "    num_rows: 2664663\n",
      "})\n"
     ]
    },
    {
     "data": {
      "text/plain": [
       "{'path': '/go.mod',\n",
       " 'repo_name': 'avelino/awesome-go',\n",
       " 'revision_id': 'c3643eb9da5c673101f8fe15a6deb40bfc4a1c85',\n",
       " 'star_events_count': 112752,\n",
       " 'fork_events_count': 13739,\n",
       " 'is_vendor': False,\n",
       " 'is_generated': False,\n",
       " 'length_bytes': 603,\n",
       " 'extension': 'mod',\n",
       " 'filename': 'go.mod',\n",
       " 'file_exists': True,\n",
       " 'file_hash': '0adeb56bf0ed5a68b4e0ac51da9f3d38e6623754e262f9e4cd1a9f7c4c5ce817',\n",
       " 'project': '/',\n",
       " 'relative_project_path': '/go.mod',\n",
       " 'relative_go_package': ''}"
      ]
     },
     "metadata": {},
     "output_type": "display_data"
    }
   ],
   "source": [
    "if not os.path.isdir(DATA_DIR+'/before_files_funcs_ds'):\n",
    "    ds.save_to_disk(DATA_DIR+'/before_files_funcs_ds')\n",
    "\n",
    "ds = datasets.load_from_disk(DATA_DIR+'/before_files_funcs_ds')\n",
    "\n",
    "print(ds)\n",
    "ds[0]"
   ]
  },
  {
   "cell_type": "markdown",
   "id": "3293245b",
   "metadata": {},
   "source": [
    "### Отфильтруем файлы без функций\n",
    "\n",
    "Это могут быть константы, структуры без методов, которые не нужно тестить"
   ]
  },
  {
   "cell_type": "code",
   "execution_count": 15,
   "id": "b0fe41a3",
   "metadata": {},
   "outputs": [
    {
     "name": "stdout",
     "output_type": "stream",
     "text": [
      "Dataset({\n",
      "    features: ['path', 'repo_name', 'revision_id', 'star_events_count', 'fork_events_count', 'is_vendor', 'is_generated', 'length_bytes', 'extension', 'filename', 'file_exists', 'file_hash', 'project', 'relative_project_path', 'relative_go_package', 'funcs', 'methods'],\n",
      "    num_rows: 169891\n",
      "})\n"
     ]
    },
    {
     "data": {
      "text/plain": [
       "{'path': '/backend/cmd/main.go',\n",
       " 'repo_name': '0-10V/real-time-metrics',\n",
       " 'revision_id': '766dc882d779f07821bde740ce49802f67ae42b3',\n",
       " 'star_events_count': 0,\n",
       " 'fork_events_count': 0,\n",
       " 'is_vendor': False,\n",
       " 'is_generated': False,\n",
       " 'length_bytes': 118,\n",
       " 'extension': 'go',\n",
       " 'filename': 'main.go',\n",
       " 'file_exists': True,\n",
       " 'file_hash': '7eecb166bd857daa233eff94b56109f2cef0a8d01c0e1438c698f53de3bf930c',\n",
       " 'project': '/backend/',\n",
       " 'relative_project_path': 'cmd/main.go',\n",
       " 'relative_go_package': 'cmd/',\n",
       " 'funcs': 'main',\n",
       " 'methods': ''}"
      ]
     },
     "execution_count": 15,
     "metadata": {},
     "output_type": "execute_result"
    }
   ],
   "source": [
    "if not os.path.isdir(DATA_DIR+'/files_funcs_ds'):\n",
    "\n",
    "    def extract_funcs(row):\n",
    "        download_path = f\"{REPOS_DIR}/{row['revision_id']}{row['path']}\"\n",
    "\n",
    "        if row['extension'] != 'go':\n",
    "            return {'funcs': '', 'methods': ''}\n",
    "\n",
    "        try:\n",
    "            with open(download_path, \"rb\") as f:\n",
    "                content = f.read().decode('utf-8')\n",
    "                test_fns: list[str] = re.findall(r'\\nfunc\\W*(\\w+)\\W*\\(', content)\n",
    "                test_methods: list[str] = re.findall(r'\\nfunc\\W*\\(\\w+ +(\\*?\\w+)\\)\\W*(\\w+)\\W*\\(', content)\n",
    "                test_methods_joined = [t+'.'+m for (t, m) in test_methods]\n",
    "\n",
    "                return {'funcs': ','.join(test_fns), 'methods': ','.join(test_methods_joined)}\n",
    "        except Exception as e:\n",
    "            return {'funcs': '', 'methods': ''}\n",
    "\n",
    "    ds = ds.map(extract_funcs, num_proc=16)\n",
    "\n",
    "    ds.save_to_disk(DATA_DIR+'/files_funcs_ds')\n",
    "\n",
    "ds = datasets.load_from_disk(DATA_DIR+'/files_funcs_ds')\n",
    "\n",
    "print(ds)\n",
    "ds[0]"
   ]
  },
  {
   "cell_type": "code",
   "execution_count": 16,
   "id": "ab854ee0",
   "metadata": {},
   "outputs": [
    {
     "name": "stdout",
     "output_type": "stream",
     "text": [
      "Dataset({\n",
      "    features: ['path', 'repo_name', 'revision_id', 'star_events_count', 'fork_events_count', 'is_vendor', 'is_generated', 'length_bytes', 'extension', 'filename', 'file_exists', 'file_hash', 'project', 'relative_project_path', 'relative_go_package', 'funcs', 'methods'],\n",
      "    num_rows: 132771\n",
      "})\n"
     ]
    },
    {
     "data": {
      "text/plain": [
       "{'path': '/backend/cmd/main.go',\n",
       " 'repo_name': '0-10V/real-time-metrics',\n",
       " 'revision_id': '766dc882d779f07821bde740ce49802f67ae42b3',\n",
       " 'star_events_count': 0,\n",
       " 'fork_events_count': 0,\n",
       " 'is_vendor': False,\n",
       " 'is_generated': False,\n",
       " 'length_bytes': 118,\n",
       " 'extension': 'go',\n",
       " 'filename': 'main.go',\n",
       " 'file_exists': True,\n",
       " 'file_hash': '7eecb166bd857daa233eff94b56109f2cef0a8d01c0e1438c698f53de3bf930c',\n",
       " 'project': '/backend/',\n",
       " 'relative_project_path': 'cmd/main.go',\n",
       " 'relative_go_package': 'cmd/',\n",
       " 'funcs': 'main',\n",
       " 'methods': ''}"
      ]
     },
     "execution_count": 16,
     "metadata": {},
     "output_type": "execute_result"
    }
   ],
   "source": [
    "ds = ds.filter(lambda row: row['extension'] != 'go' or row['funcs'] != ''\n",
    "    # or row['methods'] != '' # Отфильтруем файлы с методами типов. Маленькая вероятность генерации успешных тестов для таких методов, так как нужно обеспечить работу моков\n",
    ")\n",
    "\n",
    "print(ds)\n",
    "ds[0]"
   ]
  },
  {
   "cell_type": "markdown",
   "id": "85ca9b6a",
   "metadata": {},
   "source": [
    "### Скачивание зависимостей проектов"
   ]
  },
  {
   "cell_type": "code",
   "execution_count": 17,
   "id": "a8c9ac4b",
   "metadata": {},
   "outputs": [
    {
     "data": {
      "application/vnd.jupyter.widget-view+json": {
       "model_id": "114e3f429cd24df2b68aa3fe73160dd5",
       "version_major": 2,
       "version_minor": 0
      },
      "text/plain": [
       "Filter:   0%|          | 0/132771 [00:00<?, ? examples/s]"
      ]
     },
     "metadata": {},
     "output_type": "display_data"
    },
    {
     "data": {
      "application/vnd.jupyter.widget-view+json": {
       "model_id": "99fc22a80c3b4e7e817e80aad59b6b3f",
       "version_major": 2,
       "version_minor": 0
      },
      "text/plain": [
       "Map:   0%|          | 0/106864 [00:00<?, ? examples/s]"
      ]
     },
     "metadata": {},
     "output_type": "display_data"
    }
   ],
   "source": [
    "ds = ds.filter(lambda row: row['extension'] == 'go')\n",
    "ds = ds.map(lambda row: {'project_path': row['revision_id']+row['project']})"
   ]
  },
  {
   "cell_type": "markdown",
   "id": "e1201752",
   "metadata": {},
   "source": [
    "Зависимости слишком тяжелый для скачивания во всех репозиториях, возьмем 100k файлов из самых популярных репозиториев"
   ]
  },
  {
   "cell_type": "code",
   "execution_count": 18,
   "id": "b01707a1",
   "metadata": {},
   "outputs": [],
   "source": [
    "ds = ds.take(50_000)"
   ]
  },
  {
   "cell_type": "code",
   "execution_count": 19,
   "id": "5f6cf24b",
   "metadata": {},
   "outputs": [
    {
     "name": "stdout",
     "output_type": "stream",
     "text": [
      "8243\n"
     ]
    },
    {
     "data": {
      "text/plain": [
       "'766dc882d779f07821bde740ce49802f67ae42b3/backend/'"
      ]
     },
     "execution_count": 19,
     "metadata": {},
     "output_type": "execute_result"
    }
   ],
   "source": [
    "project_paths = ds.unique('project_path')\n",
    "\n",
    "print(len(project_paths))\n",
    "project_paths[0]"
   ]
  },
  {
   "cell_type": "code",
   "execution_count": 20,
   "id": "add7ef63",
   "metadata": {},
   "outputs": [
    {
     "data": {
      "application/vnd.jupyter.widget-view+json": {
       "model_id": "a63d51f88346488a80f2029decf21db8",
       "version_major": 2,
       "version_minor": 0
      },
      "text/plain": [
       "  0%|          | 0/8243 [00:00<?, ?it/s]"
      ]
     },
     "metadata": {},
     "output_type": "display_data"
    },
    {
     "data": {
      "text/plain": [
       "693"
      ]
     },
     "execution_count": 20,
     "metadata": {},
     "output_type": "execute_result"
    }
   ],
   "source": [
    "project_download_deps_errors: dict[str, str] = {}\n",
    "\n",
    "concurrency = 32\n",
    "next_index = 0\n",
    "last_error = ''\n",
    "updated_count = 0\n",
    "\n",
    "async def worker(pbar, i):\n",
    "    global next_index\n",
    "    global last_error\n",
    "    global updated_count\n",
    "    while next_index < len(project_paths):\n",
    "        project_path = project_paths[next_index]\n",
    "        next_index += 1\n",
    "\n",
    "        go_mod_content = ''\n",
    "        try:\n",
    "            go_mod_content = await aiopath.AsyncPath(f\"{REPOS_DIR}/{project_path}go.mod\").read_text()\n",
    "        except Exception:\n",
    "            project_download_deps_errors[project_path] = 'go.mod not found'\n",
    "            last_error = 'go.mod not found'\n",
    "            pbar.update(1)\n",
    "            pbar.set_postfix(errors_count=len(project_download_deps_errors), updated_count=updated_count, last_error=last_error)\n",
    "            continue\n",
    "\n",
    "        async for p in aiopath.AsyncPath(f\"{REPOS_DIR}/{project_path}\").glob(\"**/*_test.go\"):\n",
    "            await p.unlink()\n",
    "\n",
    "        update_libs = ['github.com/!azure/azure-sdk-for-go', 'github.com/aws/aws-sdk-go-v2', 'github.com/aws/aws-sdk-go',\n",
    "                       'google.golang.org/genproto', 'google.golang.org/api', 'google.golang.org/grpc', 'google.golang.org/protobuf']\n",
    "        presented_libs = [lib for lib in update_libs if lib+' ' in go_mod_content]\n",
    "        if len(presented_libs) > 0:\n",
    "            libs_str = ' '.join([lib+'@latest' if lib != 'github.com/!azure/azure-sdk-for-go' else 'github.com/\\!azure/azure-sdk-for-go' for lib in presented_libs])\n",
    "            proc = await asyncio.create_subprocess_shell(\n",
    "                \"go get -u \"+libs_str,\n",
    "                cwd=f\"{REPOS_DIR}/{project_path}\",\n",
    "                stdout=asyncio.subprocess.PIPE,\n",
    "                stderr=asyncio.subprocess.PIPE)\n",
    "\n",
    "            stdout, stderr = await proc.communicate()\n",
    "            \n",
    "            if proc.returncode != 0:\n",
    "                project_download_deps_errors[project_path] = 'go get -u: '+stderr.decode()\n",
    "                last_error = 'go get -u: '+stderr.decode()[:100]\n",
    "\n",
    "                pbar.update(1)\n",
    "                pbar.set_postfix(errors_count=len(project_download_deps_errors), updated_count=updated_count, last_error=last_error)\n",
    "\n",
    "            updated_count += 1\n",
    "        \n",
    "\n",
    "        proc = await asyncio.create_subprocess_shell(\n",
    "            \"go mod tidy\",\n",
    "            cwd=f\"{REPOS_DIR}/{project_path}\",\n",
    "            stdout=asyncio.subprocess.PIPE,\n",
    "            stderr=asyncio.subprocess.PIPE)\n",
    "\n",
    "        stdout, stderr = await proc.communicate()\n",
    "        \n",
    "        if proc.returncode != 0:\n",
    "            project_download_deps_errors[project_path] = stderr\n",
    "            last_error = stderr.decode()[:100]\n",
    "\n",
    "        pbar.update(1)\n",
    "        pbar.set_postfix(errors_count=len(project_download_deps_errors), updated_count=updated_count, last_error=last_error)\n",
    "\n",
    "\n",
    "\n",
    "with tqdm(total=len(project_paths)) as pbar:\n",
    "    features = [worker(pbar, i) for i in range(concurrency)]\n",
    "\n",
    "    await asyncio.gather(*features)\n",
    "\n",
    "len(project_download_deps_errors)"
   ]
  },
  {
   "cell_type": "code",
   "execution_count": 27,
   "id": "b7c69271",
   "metadata": {},
   "outputs": [
    {
     "data": {
      "text/plain": [
       "{'f431ca5434407961c5bd08c1c68a8b6a4b1b3f66/': b'go: github.com/go-exec/exec@v0.0.0-20190715174909-f3ac22ac3ec0 (replaced by ../exec): reading ../exec/go.mod: open /media/hdd_1/vkr/data/repos/exec/go.mod: no such file or directory\\n',\n",
       " '6f4a3acac7dbac1fb7c1377862da1abf3a989f2f/micro/': b\"go: github.com/micro/go-micro@v1.18.0 requires\\n\\tgithub.com/micro/protoc-gen-micro@v1.0.0: reading github.com/micro/protoc-gen-micro/go.mod at revision v1.0.0: git ls-remote -q origin in /home/djvue/.gvm/pkgsets/go1.24.2/global/pkg/mod/cache/vcs/28cfbca4f5e41691076780b2017d5a1000b007b1d3d37b7a9d3b562c7adc9377: exit status 128:\\n\\tfatal: could not read Username for 'https://github.com': terminal prompts disabled\\nConfirm the import path was entered correctly.\\nIf this is a private repository, see https://golang.org/doc/faq#git_https for additional information.\\n\",\n",
       " '6f4a3acac7dbac1fb7c1377862da1abf3a989f2f/basic/': b\"go: github.com/micro/protoc-gen-micro/v2@v2.0.0: reading github.com/micro/protoc-gen-micro/go.mod at revision v2.0.0: git ls-remote -q origin in /home/djvue/.gvm/pkgsets/go1.24.2/global/pkg/mod/cache/vcs/28cfbca4f5e41691076780b2017d5a1000b007b1d3d37b7a9d3b562c7adc9377: exit status 128:\\n\\tfatal: could not read Username for 'https://github.com': terminal prompts disabled\\nConfirm the import path was entered correctly.\\nIf this is a private repository, see https://golang.org/doc/faq#git_https for additional information.\\n\",\n",
       " '6f4a3acac7dbac1fb7c1377862da1abf3a989f2f/go-micro-grpc-http/': b\"go: github.com/micro/go-micro@v1.18.0 requires\\n\\tgithub.com/micro/protoc-gen-micro@v1.0.0: reading github.com/micro/protoc-gen-micro/go.mod at revision v1.0.0: git ls-remote -q origin in /home/djvue/.gvm/pkgsets/go1.24.2/global/pkg/mod/cache/vcs/28cfbca4f5e41691076780b2017d5a1000b007b1d3d37b7a9d3b562c7adc9377: exit status 128:\\n\\tfatal: could not read Username for 'https://github.com': terminal prompts disabled\\nConfirm the import path was entered correctly.\\nIf this is a private repository, see https://golang.org/doc/faq#git_https for additional information.\\n\",\n",
       " '2bcaf55be1a8ded0b8395d1c45cee651567c8c91/': b'go: github.com/01-edu/rc/tests imports\\n\\t./util: \"./util\" is relative, but relative import paths are not supported in module mode\\ngo: github.com/01-edu/rc/tests/util imports\\n\\t../utilDepth2: \"../utilDepth2\" is relative, but relative import paths are not supported in module mode\\n',\n",
       " '8c5be27ab5a259523dffbde0a2f088a90815b78e/': b'go: github.com/thinkgos/gomodbus@v1.1.2: reading github.com/thinkgos/gomodbus/go.mod at revision v1.1.2: unknown revision v1.1.2\\n',\n",
       " '655578775cd7bc50f85af8b35849f0782e29d12f/': b\"go: github.com/0mili/mili@v0.4.0: reading github.com/0mili/mili/go.mod at revision v0.4.0: git ls-remote -q origin in /home/djvue/.gvm/pkgsets/go1.24.2/global/pkg/mod/cache/vcs/b31dab6e184a38128c3bcda694a586660dc3ed97df76046ff6056d4ceed8bc00: exit status 128:\\n\\tfatal: could not read Username for 'https://github.com': terminal prompts disabled\\nConfirm the import path was entered correctly.\\nIf this is a private repository, see https://golang.org/doc/faq#git_https for additional information.\\n\",\n",
       " '67cc1dfa5b5b50df78d94ff9521cdd7cbd8b0042/server_go/': b'go: finding module for package github.com/gin-gonic/gin\\ngo: finding module for package github.com/PacktPublishing/Hands-On-Full-Stack-Development-with-Go/final-application/src/rest\\ngo: finding module for package github.com/PacktPublishing/Hands-On-Full-Stack-Development-with-Go/Chapter/backend/src/models\\ngo: finding module for package github.com/PacktPublishing/Hands-On-Full-Stack-Development-with-Go/Chapter07/backend/src/models\\ngo: finding module for package github.com/PacktPublishing/Hands-On-Full-Stack-Development-with-Go/tree/master/Chapter08/backend/src/models\\ngo: found github.com/PacktPublishing/Hands-On-Full-Stack-Development-with-Go/final-application/src/rest in github.com/PacktPublishing/Hands-On-Full-Stack-Development-with-Go v0.0.0-20230130083113-990aa43095b6\\ngo: found github.com/PacktPublishing/Hands-On-Full-Stack-Development-with-Go/Chapter07/backend/src/models in github.com/PacktPublishing/Hands-On-Full-Stack-Development-with-Go v0.0.0-20230130083113-990aa43095b6\\ngo: found github.com/gin-gonic/gin in github.com/gin-gonic/gin v1.10.0\\ngo: finding module for package github.com/stripe/stripe-go/customer\\ngo: finding module for package github.com/PacktPublishing/Hands-On-Full-Stack-Development-with-Go/tree/master/Chapter08/backend/src/models\\ngo: finding module for package github.com/PacktPublishing/Hands-On-Full-Stack-Development-with-Go/Chapter/backend/src/models\\ngo: finding module for package github.com/stripe/stripe-go/charge\\ngo: finding module for package github.com/gin-contrib/static\\ngo: finding module for package github.com/stripe/stripe-go\\ngo: found github.com/gin-contrib/static in github.com/gin-contrib/static v1.1.5\\ngo: found github.com/stripe/stripe-go in github.com/stripe/stripe-go v70.15.0+incompatible\\ngo: found github.com/stripe/stripe-go/charge in github.com/stripe/stripe-go v70.15.0+incompatible\\ngo: found github.com/stripe/stripe-go/customer in github.com/stripe/stripe-go v70.15.0+incompatible\\ngo: finding module for package github.com/PacktPublishing/Hands-On-Full-Stack-Development-with-Go/tree/master/Chapter08/backend/src/models\\ngo: finding module for package github.com/PacktPublishing/Hands-On-Full-Stack-Development-with-Go/Chapter/backend/src/models\\ngo: example.com/m/src/dblayer imports\\n\\tgithub.com/PacktPublishing/Hands-On-Full-Stack-Development-with-Go/Chapter/backend/src/models: module github.com/PacktPublishing/Hands-On-Full-Stack-Development-with-Go@latest found (v0.0.0-20230130083113-990aa43095b6), but does not contain package github.com/PacktPublishing/Hands-On-Full-Stack-Development-with-Go/Chapter/backend/src/models\\ngo: example.com/m/src/dblayer imports\\n\\tgithub.com/PacktPublishing/Hands-On-Full-Stack-Development-with-Go/tree/master/Chapter08/backend/src/models: module github.com/PacktPublishing/Hands-On-Full-Stack-Development-with-Go@latest found (v0.0.0-20230130083113-990aa43095b6), but does not contain package github.com/PacktPublishing/Hands-On-Full-Stack-Development-with-Go/tree/master/Chapter08/backend/src/models\\n',\n",
       " 'e7c96543175236ef9f9e3d3e1cbac5b62059c4b2/': b'go: finding module for package google.golang.org/grpc/test/grpc_testing\\ngo: github.com/Code-Hex/testing-grpc/cmd/client imports\\n\\tgithub.com/jhump/protoreflect/grpcreflect tested by\\n\\tgithub.com/jhump/protoreflect/grpcreflect.test imports\\n\\tgithub.com/jhump/protoreflect/internal/testutil imports\\n\\tgoogle.golang.org/grpc/test/grpc_testing: module google.golang.org/grpc@latest found (v1.72.1), but does not contain package google.golang.org/grpc/test/grpc_testing\\n',\n",
       " 'b8028e6f7c3135963692b65682dfef74003f04f1/': b\"go: github.com/0mili/mili@v0.9.0: reading github.com/0mili/mili/go.mod at revision v0.9.0: git ls-remote -q origin in /home/djvue/.gvm/pkgsets/go1.24.2/global/pkg/mod/cache/vcs/b31dab6e184a38128c3bcda694a586660dc3ed97df76046ff6056d4ceed8bc00: exit status 128:\\n\\tfatal: could not read Username for 'https://github.com': terminal prompts disabled\\nConfirm the import path was entered correctly.\\nIf this is a private repository, see https://golang.org/doc/faq#git_https for additional information.\\n\"}"
      ]
     },
     "execution_count": 27,
     "metadata": {},
     "output_type": "execute_result"
    }
   ],
   "source": [
    "{k: project_download_deps_errors[k] for k in list(project_download_deps_errors)[:10]}"
   ]
  },
  {
   "cell_type": "markdown",
   "id": "1c30af03",
   "metadata": {},
   "source": [
    "### Проверка валидности исходных файлов по go пакетам"
   ]
  },
  {
   "cell_type": "code",
   "execution_count": 31,
   "id": "0afb98fd",
   "metadata": {},
   "outputs": [
    {
     "data": {
      "text/plain": [
       "24169"
      ]
     },
     "execution_count": 31,
     "metadata": {},
     "output_type": "execute_result"
    }
   ],
   "source": [
    "go_project_packages: set[(str, str)] = set()\n",
    "for row in ds:\n",
    "    if row['project_path'] in project_download_deps_errors:\n",
    "        continue\n",
    "    go_project_packages.add((row['project_path'], row['relative_go_package']))\n",
    "\n",
    "go_project_packages = list(go_project_packages)\n",
    "\n",
    "len(go_project_packages)"
   ]
  },
  {
   "cell_type": "code",
   "execution_count": null,
   "id": "b4e71d50",
   "metadata": {},
   "outputs": [],
   "source": [
    "compile_project_package_errors: dict[tuple[str, str], str] = {}\n",
    "compile_project_package_no_error: set[tuple[str, str]] = set()"
   ]
  },
  {
   "cell_type": "code",
   "execution_count": 36,
   "id": "db574e93",
   "metadata": {},
   "outputs": [
    {
     "data": {
      "application/vnd.jupyter.widget-view+json": {
       "model_id": "7edd5854b31a48568d25b9592d1b9dba",
       "version_major": 2,
       "version_minor": 0
      },
      "text/plain": [
       "  0%|          | 0/24169 [00:00<?, ?it/s]"
      ]
     },
     "metadata": {},
     "output_type": "display_data"
    },
    {
     "data": {
      "text/plain": [
       "2606"
      ]
     },
     "execution_count": 36,
     "metadata": {},
     "output_type": "execute_result"
    }
   ],
   "source": [
    "concurrency = 11\n",
    "next_index = 0\n",
    "last_error = ''\n",
    "\n",
    "async def worker(pbar, i):\n",
    "    global next_index\n",
    "    global last_error\n",
    "    while next_index < len(go_project_packages):\n",
    "        (project_path, relative_go_package) = go_project_packages[next_index]\n",
    "        next_index += 1\n",
    "\n",
    "        if (project_path, relative_go_package) in compile_project_package_no_error:\n",
    "            pbar.update(1)\n",
    "            continue\n",
    "\n",
    "        proc = await asyncio.create_subprocess_shell(\n",
    "            \"go build -o /dev/null ./\"+relative_go_package,\n",
    "            cwd=f\"{REPOS_DIR}/{project_path}\",\n",
    "            stdout=asyncio.subprocess.PIPE,\n",
    "            stderr=asyncio.subprocess.PIPE)\n",
    "\n",
    "        stdout, stderr = await proc.communicate()\n",
    "        \n",
    "        if proc.returncode != 0:\n",
    "            compile_project_package_errors[(project_path, relative_go_package)] = stderr\n",
    "            last_error = stderr.decode()[:100]\n",
    "        else:\n",
    "            compile_project_package_no_error.add((project_path, relative_go_package))\n",
    "\n",
    "        pbar.update(1)\n",
    "        pbar.set_postfix(errors_count=len(compile_project_package_errors), last_error=last_error)\n",
    "\n",
    "\n",
    "with tqdm(total=len(go_project_packages)) as pbar:\n",
    "    features = [worker(pbar, i) for i in range(concurrency)]\n",
    "\n",
    "    await asyncio.gather(*features)\n",
    "\n",
    "len(compile_project_package_errors)\n",
    "    "
   ]
  },
  {
   "cell_type": "code",
   "execution_count": 37,
   "id": "e85d92e4",
   "metadata": {},
   "outputs": [
    {
     "data": {
      "application/vnd.jupyter.widget-view+json": {
       "model_id": "9bfc4997de42450f88d609c2791bba9d",
       "version_major": 2,
       "version_minor": 0
      },
      "text/plain": [
       "Filter:   0%|          | 0/40285 [00:00<?, ? examples/s]"
      ]
     },
     "metadata": {},
     "output_type": "display_data"
    },
    {
     "name": "stdout",
     "output_type": "stream",
     "text": [
      "36687\n"
     ]
    },
    {
     "data": {
      "text/plain": [
       "{'path': '/backend/cmd/main.go',\n",
       " 'repo_name': '0-10V/real-time-metrics',\n",
       " 'revision_id': '766dc882d779f07821bde740ce49802f67ae42b3',\n",
       " 'star_events_count': 0,\n",
       " 'fork_events_count': 0,\n",
       " 'is_vendor': False,\n",
       " 'is_generated': False,\n",
       " 'length_bytes': 118,\n",
       " 'extension': 'go',\n",
       " 'filename': 'main.go',\n",
       " 'file_exists': True,\n",
       " 'file_hash': '7eecb166bd857daa233eff94b56109f2cef0a8d01c0e1438c698f53de3bf930c',\n",
       " 'project': '/backend/',\n",
       " 'relative_project_path': 'cmd/main.go',\n",
       " 'relative_go_package': 'cmd/',\n",
       " 'funcs': 'main',\n",
       " 'methods': '',\n",
       " 'project_path': '766dc882d779f07821bde740ce49802f67ae42b3/backend/'}"
      ]
     },
     "execution_count": 37,
     "metadata": {},
     "output_type": "execute_result"
    }
   ],
   "source": [
    "ds = ds.filter(lambda row: row['project_path'] not in project_download_deps_errors and (row['project_path'], row['relative_go_package']) not in compile_project_package_errors)\n",
    "\n",
    "print(len(ds))\n",
    "ds[0]"
   ]
  },
  {
   "cell_type": "code",
   "execution_count": 38,
   "id": "32c6c78d",
   "metadata": {},
   "outputs": [
    {
     "data": {
      "text/plain": [
       "[(('61f270ea4ca54163f8507f526e20cae2fd1ae79d/src/go/k8s/',\n",
       "   'apis/redpanda/v1alpha1/'),\n",
       "  b'# sigs.k8s.io/controller-runtime/pkg/log\\n/home/djvue/.gvm/pkgsets/go1.24.2/global/pkg/mod/sigs.k8s.io/controller-runtime@v0.7.2/pkg/log/log.go:67:16: cannot use NullLogger{} (value of struct type NullLogger) as logr.Logger value in argument to Log.Fulfill\\n/home/djvue/.gvm/pkgsets/go1.24.2/global/pkg/mod/sigs.k8s.io/controller-runtime@v0.7.2/pkg/log/log.go:82:31: cannot use NullLogger{} (value of struct type NullLogger) as logr.Logger value in argument to NewDelegatingLogger\\n/home/djvue/.gvm/pkgsets/go1.24.2/global/pkg/mod/sigs.k8s.io/controller-runtime@v0.7.2/pkg/log/log.go:86:24: cannot use Log (variable of type *DelegatingLogger) as logr.Logger value in variable declaration\\n/home/djvue/.gvm/pkgsets/go1.24.2/global/pkg/mod/sigs.k8s.io/controller-runtime@v0.7.2/pkg/log/log.go:88:16: assignment mismatch: 1 variable but logr.FromContext returns 2 values\\n/home/djvue/.gvm/pkgsets/go1.24.2/global/pkg/mod/sigs.k8s.io/controller-runtime@v0.7.2/pkg/log/null.go:30:21: cannot use NullLogger{} (value of struct type NullLogger) as logr.Logger value in variable declaration\\n/home/djvue/.gvm/pkgsets/go1.24.2/global/pkg/mod/sigs.k8s.io/controller-runtime@v0.7.2/pkg/log/null.go:48:37: undefined: logr.InfoLogger\\n/home/djvue/.gvm/pkgsets/go1.24.2/global/pkg/mod/sigs.k8s.io/controller-runtime@v0.7.2/pkg/log/null.go:54:9: cannot use log (variable of struct type NullLogger) as logr.Logger value in return statement\\n/home/djvue/.gvm/pkgsets/go1.24.2/global/pkg/mod/sigs.k8s.io/controller-runtime@v0.7.2/pkg/log/null.go:59:9: cannot use log (variable of struct type NullLogger) as logr.Logger value in return statement\\n/home/djvue/.gvm/pkgsets/go1.24.2/global/pkg/mod/sigs.k8s.io/controller-runtime@v0.7.2/pkg/log/deleg.go:103:9: cannot use res (variable of type *DelegatingLogger) as logr.Logger value in return statement\\n/home/djvue/.gvm/pkgsets/go1.24.2/global/pkg/mod/sigs.k8s.io/controller-runtime@v0.7.2/pkg/log/deleg.go:116:9: cannot use res (variable of type *DelegatingLogger) as logr.Logger value in return statement\\n/home/djvue/.gvm/pkgsets/go1.24.2/global/pkg/mod/sigs.k8s.io/controller-runtime@v0.7.2/pkg/log/null.go:59:9: too many errors\\n# k8s.io/klog/v2\\n/home/djvue/.gvm/pkgsets/go1.24.2/global/pkg/mod/k8s.io/klog/v2@v2.2.0/klog.go:694:13: invalid operation: logr != nil (mismatched types logr.Logger and untyped nil)\\n/home/djvue/.gvm/pkgsets/go1.24.2/global/pkg/mod/k8s.io/klog/v2@v2.2.0/klog.go:710:13: invalid operation: logr != nil (mismatched types logr.Logger and untyped nil)\\n/home/djvue/.gvm/pkgsets/go1.24.2/global/pkg/mod/k8s.io/klog/v2@v2.2.0/klog.go:725:13: invalid operation: logr != nil (mismatched types logr.Logger and untyped nil)\\n/home/djvue/.gvm/pkgsets/go1.24.2/global/pkg/mod/k8s.io/klog/v2@v2.2.0/klog.go:743:13: invalid operation: logr != nil (mismatched types logr.Logger and untyped nil)\\n/home/djvue/.gvm/pkgsets/go1.24.2/global/pkg/mod/k8s.io/klog/v2@v2.2.0/klog.go:756:14: invalid operation: loggr != nil (mismatched types logr.Logger and untyped nil)\\n/home/djvue/.gvm/pkgsets/go1.24.2/global/pkg/mod/k8s.io/klog/v2@v2.2.0/klog.go:765:14: invalid operation: loggr != nil (mismatched types logr.Logger and untyped nil)\\n/home/djvue/.gvm/pkgsets/go1.24.2/global/pkg/mod/k8s.io/klog/v2@v2.2.0/klog.go:889:12: invalid operation: log != nil (mismatched types logr.Logger and untyped nil)\\n/home/djvue/.gvm/pkgsets/go1.24.2/global/pkg/mod/k8s.io/klog/v2@v2.2.0/klog.go:1238:21: invalid operation: logging.logr == nil (mismatched types logr.Logger and untyped nil)\\n/home/djvue/.gvm/pkgsets/go1.24.2/global/pkg/mod/k8s.io/klog/v2@v2.2.0/klog.go:1239:21: cannot use nil as logr.Logger value in struct literal\\n'),\n",
       " (('c66244356e073b60a99ed80731760d1368fa863e/', 'pkg/zaplog/'),\n",
       "  b'# github.com/go-logr/zapr\\n/home/djvue/.gvm/pkgsets/go1.24.2/global/pkg/mod/github.com/go-logr/zapr@v0.4.0/zapr.go:138:9: cannot use &zapLogger{\\xe2\\x80\\xa6} (value of type *zapLogger) as logr.Logger value in return statement\\n/home/djvue/.gvm/pkgsets/go1.24.2/global/pkg/mod/github.com/go-logr/zapr@v0.4.0/zapr.go:173:9: cannot use &zapLogger{\\xe2\\x80\\xa6} (value of type *zapLogger) as logr.Logger value in return statement\\n/home/djvue/.gvm/pkgsets/go1.24.2/global/pkg/mod/github.com/go-logr/zapr@v0.4.0/zapr.go:185:21: cannot use &zapLogger{} (value of type *zapLogger) as logr.Logger value in variable declaration\\n/home/djvue/.gvm/pkgsets/go1.24.2/global/pkg/mod/github.com/go-logr/zapr@v0.4.0/zapr.go:186:12: undefined: logr.CallDepthLogger\\n'),\n",
       " (('f398ef3b0c3e477b58f8e253810fb80574dc6054/', ''),\n",
       "  b'# github.com/BEN00262/GoSymbolsTable\\nruntime.main_main\\xc2\\xb7f: function main is undeclared in the main package\\n'),\n",
       " (('7a1a7832ae2f0bbdf02e85f92f2b5b8f7e5b809b/', ''),\n",
       "  b'# datastruct\\n./sort.go:117:1: missing return\\n'),\n",
       " (('2698d1cd299c7231c7c93eebb462241662b4ca18/', ''),\n",
       "  b'# github.com/amourlinux/deployk8s-module/merr\\nmerr/merrs.go:28:2: not enough arguments in call to xerrors.FormatError\\n\\thave ()\\n\\twant (xerrors.Formatter, fmt.State, rune)\\nmerr/merrs.go:29:2: not enough arguments in call to fmt.Printf\\n\\thave ()\\n\\twant (string, ...any)\\n'),\n",
       " (('ce9ba8b686a1ee75ad14fbbcaf54ed3f39d683a2/docker-nginx-loadbalancer/',\n",
       "   'routes/'),\n",
       "  b'routes/userGetProfile.go:5:2: package fiber-docker-nginx/database/user is not in std (/home/djvue/.gvm/gos/go1.24.2/src/fiber-docker-nginx/database/user)\\nroutes/userUpdateProfile.go:9:2: package fiber-docker-nginx/models is not in std (/home/djvue/.gvm/gos/go1.24.2/src/fiber-docker-nginx/models)\\nroutes/userUpdateProfile.go:10:2: package fiber-docker-nginx/utilities is not in std (/home/djvue/.gvm/gos/go1.24.2/src/fiber-docker-nginx/utilities)\\nroutes/userLogin.go:8:42: string literal not terminated\\n'),\n",
       " (('06d683581729eee5435bdaf4e76cf47cc82ed3c3/', ''),\n",
       "  b'# github.com/DGHeroin/gweb\\n./gweb.go:17:5: servePath redeclared in this block\\n\\t./gweb-lite.go:14:5: other declaration of servePath\\n./gweb.go:18:5: servePort redeclared in this block\\n\\t./gweb-lite.go:15:5: other declaration of servePort\\n./gweb.go:41:6: main redeclared in this block\\n\\t./gweb-lite.go:96:6: other declaration of main\\n'),\n",
       " (('76b32bcdc04b8de63558472494695071f1eea5e9/', 'cmd/client/'),\n",
       "  b'# github.com/Akshit8/go-grpc/cmd/client\\ncmd/client/main.go:105:2: declared and not used: ctx\\ncmd/client/main.go:108:2: undefined: stream\\ncmd/client/main.go:129:2: declared and not used: laptopCient\\n'),\n",
       " (('6f03641d5c75801bd9dcda7212fe8bb0af21d8c6/', 'framework/graphics/shape/'),\n",
       "  b\"# github.com/go-gl/gl/v3.3-core/gl\\n# [pkg-config --cflags  -- gl gl]\\nPackage gl was not found in the pkg-config search path.\\nPerhaps you should add the directory containing `gl.pc'\\nto the PKG_CONFIG_PATH environment variable\\nPackage 'gl', required by 'virtual:world', not found\\nPackage 'gl', required by 'virtual:world', not found\\n# github.com/go-gl/glfw/v3.3/glfw\\nIn file included from ./glfw/src/internal.h:188,\\n                 from /home/djvue/.gvm/pkgsets/go1.24.2/global/pkg/mod/github.com/go-gl/glfw/v3.3/glfw@v0.0.0-20210727001814-0db043d8d5be/vulkan.go:4:\\n./glfw/src/x11_platform.h:36:10: fatal error: X11/Xcursor/Xcursor.h: No such file or directory\\n   36 | #include <X11/Xcursor/Xcursor.h>\\n      |          ^~~~~~~~~~~~~~~~~~~~~~~\\ncompilation terminated.\\n\"),\n",
       " (('ae80ac6c501a0f7d24c36bc15ffc3e9851200466/', 'sdk_libs/'),\n",
       "  b'# github.com/Arrome/Golang_learning/sdk_libs\\nsdk_libs/flag.go:26:6: main redeclared in this block\\n\\tsdk_libs/buildin.go:5:6: other declaration of main\\n')]"
      ]
     },
     "execution_count": 38,
     "metadata": {},
     "output_type": "execute_result"
    }
   ],
   "source": [
    "list(compile_project_package_errors.items())[:10]"
   ]
  },
  {
   "cell_type": "code",
   "execution_count": 39,
   "id": "919e19ce",
   "metadata": {},
   "outputs": [
    {
     "data": {
      "application/vnd.jupyter.widget-view+json": {
       "model_id": "60e5d1b2bd0346e393f124b3c6ce3c40",
       "version_major": 2,
       "version_minor": 0
      },
      "text/plain": [
       "Filter:   0%|          | 0/36687 [00:00<?, ? examples/s]"
      ]
     },
     "metadata": {},
     "output_type": "display_data"
    },
    {
     "data": {
      "application/vnd.jupyter.widget-view+json": {
       "model_id": "ae26cfaa1c3c4577a6242cd8702fd22d",
       "version_major": 2,
       "version_minor": 0
      },
      "text/plain": [
       "Saving the dataset (0/1 shards):   0%|          | 0/33251 [00:00<?, ? examples/s]"
      ]
     },
     "metadata": {},
     "output_type": "display_data"
    },
    {
     "name": "stdout",
     "output_type": "stream",
     "text": [
      "33251\n"
     ]
    },
    {
     "data": {
      "text/plain": [
       "{'path': '/backend/controllers/controllers.go',\n",
       " 'repo_name': '0-10V/real-time-metrics',\n",
       " 'revision_id': '766dc882d779f07821bde740ce49802f67ae42b3',\n",
       " 'star_events_count': 0,\n",
       " 'fork_events_count': 0,\n",
       " 'is_vendor': False,\n",
       " 'is_generated': False,\n",
       " 'length_bytes': 1164,\n",
       " 'extension': 'go',\n",
       " 'filename': 'controllers.go',\n",
       " 'file_exists': True,\n",
       " 'file_hash': '13358f5485df15f54f7732b3248303449b611e207cb8ccb82f1638b8ecd7c2bb',\n",
       " 'project': '/backend/',\n",
       " 'relative_project_path': 'controllers/controllers.go',\n",
       " 'relative_go_package': 'controllers/',\n",
       " 'funcs': 'NewController,Init',\n",
       " 'methods': '*controller.HomeController,*controller.StreamController',\n",
       " 'project_path': '766dc882d779f07821bde740ce49802f67ae42b3/backend/'}"
      ]
     },
     "execution_count": 39,
     "metadata": {},
     "output_type": "execute_result"
    }
   ],
   "source": [
    "test_candidates_ds = ds.filter(lambda row: not row['is_generated']\n",
    "                               and not row['is_vendor']\n",
    "                               and row['path'].lower().endswith('.go')\n",
    "                               and (row['filename'] != 'main.go' or row['funcs'] != 'main' or row['methods'] != ''))\n",
    "\n",
    "test_candidates_ds.save_to_disk(DATA_DIR+'/test_candidates_ds')\n",
    "\n",
    "print(len(test_candidates_ds))\n",
    "test_candidates_ds[0]"
   ]
  }
 ],
 "metadata": {
  "kernelspec": {
   "display_name": ".venv",
   "language": "python",
   "name": "python3"
  },
  "language_info": {
   "codemirror_mode": {
    "name": "ipython",
    "version": 3
   },
   "file_extension": ".py",
   "mimetype": "text/x-python",
   "name": "python",
   "nbconvert_exporter": "python",
   "pygments_lexer": "ipython3",
   "version": "3.11.12"
  }
 },
 "nbformat": 4,
 "nbformat_minor": 5
}
