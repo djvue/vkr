{
 "cells": [
  {
   "cell_type": "markdown",
   "metadata": {},
   "source": [
    "# Подготовка датасета - 2 часть, генерация по файлам"
   ]
  },
  {
   "cell_type": "markdown",
   "metadata": {},
   "source": [
    "### Импорты и сетап окружения"
   ]
  },
  {
   "cell_type": "code",
   "execution_count": 1,
   "metadata": {
    "ExecuteTime": {
     "end_time": "2025-04-06T09:36:35.720883Z",
     "start_time": "2025-04-06T09:36:34.354367Z"
    }
   },
   "outputs": [],
   "source": [
    "import datasets\n",
    "import os\n",
    "import pandas as pd\n",
    "import subprocess\n",
    "import re\n",
    "from tqdm.notebook import tqdm\n",
    "from pathlib import Path\n",
    "import asyncio\n",
    "import aiopath\n",
    "import sys\n",
    "import time\n",
    "import transformers\n",
    "import torch\n",
    "\n",
    "ROOT_DIR = str(aiopath.AsyncPath(os.getcwd()).parent)\n",
    "os.chdir(ROOT_DIR)\n",
    "DATA_DIR = ROOT_DIR+'/data'\n",
    "REPOS_DIR = DATA_DIR+'/repos'\n",
    "if ROOT_DIR not in sys.path:\n",
    "    sys.path.append(ROOT_DIR)\n",
    "os.environ['PYTORCH_CUDA_ALLOC_CONF'] = 'expandable_segments:True,max_split_size_mb:128'\n",
    "\n",
    "from evaluating.generator import make_model_with_tokenizer, generate_completions\n",
    "from scoring.scoring import Scorer\n",
    "\n",
    "gvm_root = os.environ.get('GVM_ROOT')\n",
    "os.environ['PATH'] = f\"{gvm_root}/bin:{gvm_root}/pkgsets/go1.24.2/global/bin:{gvm_root}/gos/go1.24.2/bin:{gvm_root}/pkgsets/go1.24.2/global/overlay/bin:{os.environ['PATH']}\""
   ]
  },
  {
   "cell_type": "markdown",
   "metadata": {},
   "source": [
    "В части 1 [dataset_0](./dataset_0.ipynb) подготовлен датасет test_candidates_ds с отфильтрованными файлами"
   ]
  },
  {
   "cell_type": "code",
   "execution_count": 2,
   "metadata": {},
   "outputs": [],
   "source": [
    "test_candidates_ds = datasets.load_from_disk(DATA_DIR+'/test_candidates_ds')"
   ]
  },
  {
   "cell_type": "markdown",
   "metadata": {},
   "source": [
    "### Записываем промпты в датасет"
   ]
  },
  {
   "cell_type": "code",
   "execution_count": 3,
   "metadata": {},
   "outputs": [
    {
     "data": {
      "application/vnd.jupyter.widget-view+json": {
       "model_id": "44567ecc21614367b53397cec0e41b1a",
       "version_major": 2,
       "version_minor": 0
      },
      "text/plain": [
       "Saving the dataset (0/1 shards):   0%|          | 0/33251 [00:00<?, ? examples/s]"
      ]
     },
     "metadata": {},
     "output_type": "display_data"
    },
    {
     "name": "stdout",
     "output_type": "stream",
     "text": [
      "Dataset({\n",
      "    features: ['project_path', 'relative_package_path', 'relative_file_path', 'prompt'],\n",
      "    num_rows: 33251\n",
      "})\n"
     ]
    },
    {
     "data": {
      "text/plain": [
       "{'project_path': '766dc882d779f07821bde740ce49802f67ae42b3/backend/',\n",
       " 'relative_package_path': 'controllers/',\n",
       " 'relative_file_path': 'controllers/controllers.go',\n",
       " 'prompt': [{'content': '\\nYou are an expert programmer. \\nYou should only return output test file containing working code.\\nThe user is going to give you code and would like to have unit tests for the first file.\\nAll the other files are just dependencies to give you context of all the possible test cases to produce.\\nCover all possible inputs and their respective outputs using tests.\\nEach subtest must be wrapped into t.Run\\n',\n",
       "   'role': 'system'},\n",
       "  {'content': 'package controllers\\n\\nimport (\\n\\t\"encoding/json\"\\n\\t\"fmt\"\\n\\techo \"github.com/labstack/echo/v4\"\\n\\t\"golang.org/x/net/websocket\"\\n\\t\"stream/models\"\\n)\\n\\n// Controller interface has two methods\\ntype Controller interface {\\n\\t// Homecontroller renders initial home page\\n\\tHomeController(e echo.Context) error\\n\\n\\t// StreamController responds with live cpu status over websocket\\n\\tStreamController(e echo.Context) error\\n}\\n\\ntype controller struct {\\n}\\n\\nfunc NewController() Controller {\\n\\treturn &controller{}\\n}\\n\\nvar model models.Model\\n\\n// Initializes the models\\nfunc Init(){\\n\\tmodel = models.NewModel()\\n}\\n\\n\\n\\nfunc (c *controller) HomeController(e echo.Context) error {\\n\\treturn e.File(\"views/index.html\")\\n}\\n\\nfunc (c *controller) StreamController(e echo.Context) error {\\n\\n\\twebsocket.Handler(func(ws *websocket.Conn) {\\n\\t\\tdefer ws.Close()\\n\\t\\tstatus, err := model.GetLiveCpuUsage()\\n\\t\\tif err != nil {\\n\\t\\t\\tfmt.Println(err)\\n\\t\\t\\treturn\\n\\t\\t}\\n\\t\\tfor {\\n\\t\\t\\t// Write\\n\\t\\t\\tnewVal := <- status\\n\\t\\t\\tjsonResponse, _ := json.Marshal(newVal)\\n\\t\\t\\terr := websocket.Message.Send(ws, fmt.Sprintln(string(jsonResponse)))\\n\\t\\t\\tif err != nil {\\n\\t\\t\\t\\tfmt.Println(err)\\n\\t\\t\\t}\\n\\t\\t}\\n\\t}).ServeHTTP(e.Response(), e.Request())\\n\\treturn nil\\n}',\n",
       "   'role': 'user'}]}"
      ]
     },
     "execution_count": 3,
     "metadata": {},
     "output_type": "execute_result"
    }
   ],
   "source": [
    "system_message = \"\"\"\n",
    "You are an expert programmer. \n",
    "You should only return output test file containing working code.\n",
    "The user is going to give you code and would like to have unit tests for the first file.\n",
    "All the other files are just dependencies to give you context of all the possible test cases to produce.\n",
    "Cover all possible inputs and their respective outputs using tests.\n",
    "Each subtest must be wrapped into t.Run\n",
    "\"\"\"\n",
    "\n",
    "def get_prompt(row) -> str:\n",
    "    file_path = '../data/repos/'+row['project_path']+row['relative_project_path']\n",
    "    f = open(file_path, 'r')\n",
    "    file_content = f.read()\n",
    "    f.close()\n",
    "\n",
    "    prompt = [\n",
    "        {\"role\": \"system\", \"content\": system_message},\n",
    "        {\"role\": \"user\", \"content\": f\"{file_content}\"}\n",
    "    ]\n",
    "\n",
    "    return prompt\n",
    "\n",
    "def finalize_row(row) -> dict:\n",
    "    return {\n",
    "        'project_path': row['project_path'],\n",
    "        'relative_package_path': row['relative_go_package'],\n",
    "        'relative_file_path': row['relative_project_path'],\n",
    "        'prompt': get_prompt(row)\n",
    "    }\n",
    "\n",
    "by_file_ds = test_candidates_ds.map(finalize_row, num_proc=32).select_columns(['project_path', 'relative_package_path', 'relative_file_path', 'prompt'])\n",
    "\n",
    "by_file_ds.save_to_disk('../data/by_file_ds')\n",
    "\n",
    "print(by_file_ds)\n",
    "by_file_ds[0]"
   ]
  },
  {
   "cell_type": "markdown",
   "metadata": {},
   "source": [
    "### Генерируем completions исходной моделью `deepseek-ai/deepseek-coder-1.3b-instruct`"
   ]
  },
  {
   "cell_type": "code",
   "execution_count": null,
   "metadata": {},
   "outputs": [],
   "source": [
    "by_file_ds = datasets.load_from_disk(DATA_DIR+'/by_file_ds')"
   ]
  },
  {
   "cell_type": "code",
   "execution_count": 5,
   "metadata": {},
   "outputs": [
    {
     "data": {
      "application/vnd.jupyter.widget-view+json": {
       "model_id": "28eb470df64843b8b6e094f6cb03f68c",
       "version_major": 2,
       "version_minor": 0
      },
      "text/plain": [
       "Saving the dataset (0/1 shards):   0%|          | 0/500 [00:00<?, ? examples/s]"
      ]
     },
     "metadata": {},
     "output_type": "display_data"
    },
    {
     "name": "stdout",
     "output_type": "stream",
     "text": [
      "Dataset({\n",
      "    features: ['project_path', 'relative_package_path', 'relative_file_path', 'prompt'],\n",
      "    num_rows: 500\n",
      "})\n"
     ]
    },
    {
     "data": {
      "text/plain": [
       "{'project_path': '8844bcf1e44c80eb6c94e96c1c0466177f3bba94/',\n",
       " 'relative_package_path': 'packages/testutil/testchain/',\n",
       " 'relative_file_path': 'packages/testutil/testchain/mock_nodeconn.go',\n",
       " 'prompt': [{'content': '\\nYou are an expert programmer. \\nYou should only return output test file containing working code.\\nThe user is going to give you code and would like to have unit tests for the first file.\\nAll the other files are just dependencies to give you context of all the possible test cases to produce.\\nCover all possible inputs and their respective outputs using tests.\\nEach subtest must be wrapped into t.Run\\n',\n",
       "   'role': 'system'},\n",
       "  {'content': 'package testchain\\n\\nimport (\\n\\t\"github.com/iotaledger/goshimmer/packages/ledgerstate\"\\n)\\n\\ntype MockedNodeConn struct {\\n\\tid                              string\\n\\tonPullBacklog                   func(addr *ledgerstate.AliasAddress)\\n\\tonPullState                     func(addr *ledgerstate.AliasAddress)\\n\\tonPullConfirmedTransaction      func(addr ledgerstate.Address, txid ledgerstate.TransactionID)\\n\\tonPullTransactionInclusionState func(addr ledgerstate.Address, txid ledgerstate.TransactionID)\\n\\tonPullConfirmedOutput           func(addr ledgerstate.Address, outputID ledgerstate.OutputID)\\n\\tonPostTransaction               func(tx *ledgerstate.Transaction)\\n}\\n\\nfunc NewMockedNodeConnection(id string) *MockedNodeConn {\\n\\treturn &MockedNodeConn{id: id}\\n}\\n\\nfunc (m *MockedNodeConn) ID() string {\\n\\treturn m.id\\n}\\n\\nfunc (m *MockedNodeConn) PullBacklog(addr *ledgerstate.AliasAddress) {\\n\\tm.onPullBacklog(addr)\\n}\\n\\nfunc (m *MockedNodeConn) PullState(addr *ledgerstate.AliasAddress) {\\n\\tm.onPullState(addr)\\n}\\n\\nfunc (m *MockedNodeConn) PullConfirmedTransaction(addr ledgerstate.Address, txid ledgerstate.TransactionID) {\\n\\tm.onPullConfirmedTransaction(addr, txid)\\n}\\n\\nfunc (m *MockedNodeConn) PullTransactionInclusionState(addr ledgerstate.Address, txid ledgerstate.TransactionID) {\\n\\tm.onPullTransactionInclusionState(addr, txid)\\n}\\n\\nfunc (m *MockedNodeConn) PullConfirmedOutput(addr ledgerstate.Address, outputID ledgerstate.OutputID) {\\n\\tm.onPullConfirmedOutput(addr, outputID)\\n}\\n\\nfunc (m *MockedNodeConn) PostTransaction(tx *ledgerstate.Transaction) {\\n\\tm.onPostTransaction(tx)\\n}\\n\\nfunc (m *MockedNodeConn) OnPullBacklog(f func(addr *ledgerstate.AliasAddress)) {\\n\\tm.onPullBacklog = f\\n}\\n\\nfunc (m *MockedNodeConn) OnPullState(f func(addr *ledgerstate.AliasAddress)) {\\n\\tm.onPullState = f\\n}\\n\\nfunc (m *MockedNodeConn) OnPullConfirmedTransaction(f func(addr ledgerstate.Address, txid ledgerstate.TransactionID)) {\\n\\tm.onPullConfirmedTransaction = f\\n}\\n\\nfunc (m *MockedNodeConn) OnPullTransactionInclusionState(f func(addr ledgerstate.Address, txid ledgerstate.TransactionID)) {\\n\\tm.onPullTransactionInclusionState = f\\n}\\n\\nfunc (m *MockedNodeConn) OnPullConfirmedOutput(f func(addr ledgerstate.Address, outputID ledgerstate.OutputID)) {\\n\\tm.onPullConfirmedOutput = f\\n}\\n\\nfunc (m *MockedNodeConn) OnPostTransaction(f func(tx *ledgerstate.Transaction)) {\\n\\tm.onPostTransaction = f\\n}\\n',\n",
       "   'role': 'user'}]}"
      ]
     },
     "execution_count": 5,
     "metadata": {},
     "output_type": "execute_result"
    }
   ],
   "source": [
    "by_file_test_ds = by_file_ds.shuffle().take(500)\n",
    "\n",
    "by_file_test_ds.save_to_disk('../data/by_file_test_ds')\n",
    "\n",
    "print(by_file_test_ds)\n",
    "by_file_test_ds[0]"
   ]
  },
  {
   "cell_type": "code",
   "execution_count": 2,
   "metadata": {},
   "outputs": [],
   "source": [
    "by_file_test_ds = datasets.load_from_disk(DATA_DIR+'/by_file_test_ds')"
   ]
  },
  {
   "cell_type": "code",
   "execution_count": 7,
   "metadata": {},
   "outputs": [
    {
     "name": "stderr",
     "output_type": "stream",
     "text": [
      "2025-05-19 03:26:59.243822: E external/local_xla/xla/stream_executor/cuda/cuda_fft.cc:467] Unable to register cuFFT factory: Attempting to register factory for plugin cuFFT when one has already been registered\n",
      "WARNING: All log messages before absl::InitializeLog() is called are written to STDERR\n",
      "E0000 00:00:1747614419.373649    7231 cuda_dnn.cc:8579] Unable to register cuDNN factory: Attempting to register factory for plugin cuDNN when one has already been registered\n",
      "E0000 00:00:1747614419.411928    7231 cuda_blas.cc:1407] Unable to register cuBLAS factory: Attempting to register factory for plugin cuBLAS when one has already been registered\n",
      "W0000 00:00:1747614419.701020    7231 computation_placer.cc:177] computation placer already registered. Please check linkage and avoid linking the same target more than once.\n",
      "W0000 00:00:1747614419.701056    7231 computation_placer.cc:177] computation placer already registered. Please check linkage and avoid linking the same target more than once.\n",
      "W0000 00:00:1747614419.701060    7231 computation_placer.cc:177] computation placer already registered. Please check linkage and avoid linking the same target more than once.\n",
      "W0000 00:00:1747614419.701064    7231 computation_placer.cc:177] computation placer already registered. Please check linkage and avoid linking the same target more than once.\n",
      "2025-05-19 03:26:59.728427: I tensorflow/core/platform/cpu_feature_guard.cc:210] This TensorFlow binary is optimized to use available CPU instructions in performance-critical operations.\n",
      "To enable the following instructions: AVX2 FMA, in other operations, rebuild TensorFlow with the appropriate compiler flags.\n"
     ]
    },
    {
     "data": {
      "application/vnd.jupyter.widget-view+json": {
       "model_id": "b3f7bfa6aaa4477fbb92c00701a6e4d0",
       "version_major": 2,
       "version_minor": 0
      },
      "text/plain": [
       "Map:   0%|          | 0/500 [00:00<?, ? examples/s]"
      ]
     },
     "metadata": {},
     "output_type": "display_data"
    },
    {
     "data": {
      "application/vnd.jupyter.widget-view+json": {
       "model_id": "1d9a9fb88d204ebb99e2c1437075604b",
       "version_major": 2,
       "version_minor": 0
      },
      "text/plain": [
       "Saving the dataset (0/1 shards):   0%|          | 0/500 [00:00<?, ? examples/s]"
      ]
     },
     "metadata": {},
     "output_type": "display_data"
    },
    {
     "name": "stdout",
     "output_type": "stream",
     "text": [
      "Dataset({\n",
      "    features: ['project_path', 'relative_package_path', 'relative_file_path', 'prompt', 'generate_time', 'completion'],\n",
      "    num_rows: 500\n",
      "})\n"
     ]
    },
    {
     "data": {
      "text/plain": [
       "{'project_path': '8844bcf1e44c80eb6c94e96c1c0466177f3bba94/',\n",
       " 'relative_package_path': 'packages/testutil/testchain/',\n",
       " 'relative_file_path': 'packages/testutil/testchain/mock_nodeconn.go',\n",
       " 'prompt': [{'content': '\\nYou are an expert programmer. \\nYou should only return output test file containing working code.\\nThe user is going to give you code and would like to have unit tests for the first file.\\nAll the other files are just dependencies to give you context of all the possible test cases to produce.\\nCover all possible inputs and their respective outputs using tests.\\nEach subtest must be wrapped into t.Run\\n',\n",
       "   'role': 'system'},\n",
       "  {'content': 'package testchain\\n\\nimport (\\n\\t\"github.com/iotaledger/goshimmer/packages/ledgerstate\"\\n)\\n\\ntype MockedNodeConn struct {\\n\\tid                              string\\n\\tonPullBacklog                   func(addr *ledgerstate.AliasAddress)\\n\\tonPullState                     func(addr *ledgerstate.AliasAddress)\\n\\tonPullConfirmedTransaction      func(addr ledgerstate.Address, txid ledgerstate.TransactionID)\\n\\tonPullTransactionInclusionState func(addr ledgerstate.Address, txid ledgerstate.TransactionID)\\n\\tonPullConfirmedOutput           func(addr ledgerstate.Address, outputID ledgerstate.OutputID)\\n\\tonPostTransaction               func(tx *ledgerstate.Transaction)\\n}\\n\\nfunc NewMockedNodeConnection(id string) *MockedNodeConn {\\n\\treturn &MockedNodeConn{id: id}\\n}\\n\\nfunc (m *MockedNodeConn) ID() string {\\n\\treturn m.id\\n}\\n\\nfunc (m *MockedNodeConn) PullBacklog(addr *ledgerstate.AliasAddress) {\\n\\tm.onPullBacklog(addr)\\n}\\n\\nfunc (m *MockedNodeConn) PullState(addr *ledgerstate.AliasAddress) {\\n\\tm.onPullState(addr)\\n}\\n\\nfunc (m *MockedNodeConn) PullConfirmedTransaction(addr ledgerstate.Address, txid ledgerstate.TransactionID) {\\n\\tm.onPullConfirmedTransaction(addr, txid)\\n}\\n\\nfunc (m *MockedNodeConn) PullTransactionInclusionState(addr ledgerstate.Address, txid ledgerstate.TransactionID) {\\n\\tm.onPullTransactionInclusionState(addr, txid)\\n}\\n\\nfunc (m *MockedNodeConn) PullConfirmedOutput(addr ledgerstate.Address, outputID ledgerstate.OutputID) {\\n\\tm.onPullConfirmedOutput(addr, outputID)\\n}\\n\\nfunc (m *MockedNodeConn) PostTransaction(tx *ledgerstate.Transaction) {\\n\\tm.onPostTransaction(tx)\\n}\\n\\nfunc (m *MockedNodeConn) OnPullBacklog(f func(addr *ledgerstate.AliasAddress)) {\\n\\tm.onPullBacklog = f\\n}\\n\\nfunc (m *MockedNodeConn) OnPullState(f func(addr *ledgerstate.AliasAddress)) {\\n\\tm.onPullState = f\\n}\\n\\nfunc (m *MockedNodeConn) OnPullConfirmedTransaction(f func(addr ledgerstate.Address, txid ledgerstate.TransactionID)) {\\n\\tm.onPullConfirmedTransaction = f\\n}\\n\\nfunc (m *MockedNodeConn) OnPullTransactionInclusionState(f func(addr ledgerstate.Address, txid ledgerstate.TransactionID)) {\\n\\tm.onPullTransactionInclusionState = f\\n}\\n\\nfunc (m *MockedNodeConn) OnPullConfirmedOutput(f func(addr ledgerstate.Address, outputID ledgerstate.OutputID)) {\\n\\tm.onPullConfirmedOutput = f\\n}\\n\\nfunc (m *MockedNodeConn) OnPostTransaction(f func(tx *ledgerstate.Transaction)) {\\n\\tm.onPostTransaction = f\\n}\\n',\n",
       "   'role': 'user'}],\n",
       " 'generate_time': 20.40785813331604,\n",
       " 'completion': 'Here is a simple example of how you can write unit tests for the `MockedNodeConn` struct using the `testing` package in Go.\\n\\n```go\\npackage testchain\\n\\nimport (\\n\\t\"testing\"\\n\\t\"github.com/iotaledger/goshimmer/packages/ledgerstate\"\\n)\\n\\nfunc TestMockedNodeConn(t *testing.T) {\\n\\tmockedNodeConn := NewMockedNodeConnection(\"testID\")\\n\\n\\t// Test ID method\\n\\tif mockedNodeConn.ID() != \"testID\" {\\n\\t\\tt.Errorf(\"Expected ID to be \\'testID\\', got %s\", mockedNodeConn.ID())\\n\\t}\\n\\n\\t// Test PullBacklog method\\n\\texpectedAddr := &ledgerstate.AliasAddress{}\\n\\tmockedNodeConn.PullBacklog(expectedAddr)\\n\\tif mockedNodeConn.onPullBacklog == nil {\\n\\t\\tt.Errorf(\"Expected onPullBacklog to be set, got nil\")\\n\\t} else if mockedNodeConn.onPullBacklog(expectedAddr) != nil {\\n\\t\\tt.Errorf(\"onPullBacklog should not return anything\")\\n\\t}\\n\\n\\t// Test PullState method\\n\\texpectedAddr = &ledgerstate.AliasAddress{}\\n\\tmockedNodeConn.PullState(expectedAddr)\\n\\tif mockedNodeConn.onPullState == nil {\\n\\t\\tt.Errorf(\"Expected onPullState to be set, got nil\")\\n\\t} else if mockedNodeConn.onPullState(expectedAddr) != nil {\\n\\t\\tt.Errorf(\"onPullState should not return anything\")\\n\\t}\\n\\n\\t// Test PullConfirmedTransaction method\\n\\texpectedAddr = ledgerstate.Address{}\\n\\texpectedTxID := ledgerstate.TransactionID{}\\n\\tmockedNodeConn.PullConfirmedTransaction(expectedAddr, expectedTxID)\\n\\tif mockedNodeConn.onPullConfirmedTransaction == nil {\\n\\t\\tt.Errorf(\"Expected onPullConfirmedTransaction to be set, got nil\")\\n\\t} else if mockedNodeConn.onPullConfirmedTransaction(expectedAddr, expectedTxID) != nil {\\n\\t\\tt.Errorf(\"onPullConfirmedTransaction should not return anything\")\\n\\t}\\n\\n\\t// Test PullTransactionInclusionState method\\n\\texpectedAddr = ledgerstate.Address{}\\n\\texpectedTxID = ledgerstate.TransactionID{}\\n\\tmockedNodeConn.PullTransactionInclusionState(expectedAddr, expectedTxID)\\n\\tif mockedNodeConn.onPullTransactionInclusionState == nil {\\n\\t\\tt.Errorf(\"Expected onPullTransactionInclusionState to be set, got nil\")\\n\\t} else if mockedNodeConn.onPullTransactionInclusionState(expectedAddr, expectedTxID) != nil {\\n\\t\\tt.Errorf(\"onPullTransactionInclusionState should not return anything\")\\n\\t}\\n\\n\\t// Test PullConfirmedOutput method\\n\\texpectedAddr = ledgerstate.Address{}\\n\\texpectedOutputID := ledgerstate.OutputID{}\\n\\tmockedNodeConn.PullConfirmedOutput(expectedAddr, expectedOutputID)\\n\\tif mockedNodeConn.onPullConfirmedOutput == nil {\\n\\t\\tt.Errorf(\"Expected onPullConfirmedOutput to be set, got nil\")\\n\\t} else if mockedNodeConn.onPullConfirmedOutput(expectedAddr, expectedOutputID) != nil {\\n\\t\\tt.Errorf(\"onPullConfirmedOutput should not return anything\")\\n\\t}\\n\\n\\t// Test PostTransaction method\\n\\texpectedTx := &ledgerstate.Transaction{}\\n\\tmockedNodeConn.PostTransaction(expectedTx)\\n\\tif mockedNodeConn.onPostTransaction == nil {\\n\\t\\tt.Errorf(\"Expected onPostTransaction to be set, got nil\")\\n\\t} else if mockedNodeConn.onPostTransaction(expectedTx) != nil {\\n\\t\\tt.Errorf(\"onPostTransaction should not return anything\")\\n\\t}\\n}\\n```\\n\\nThis test suite covers the basic functionality of the `MockedNodeConn` struct. It checks if the methods are correctly setting and unsetting the corresponding callback functions, and if they are correctly calling the callback functions with the expected arguments.\\n'}"
      ]
     },
     "execution_count": 7,
     "metadata": {},
     "output_type": "execute_result"
    }
   ],
   "source": [
    "tokenizer, model = make_model_with_tokenizer('original')\n",
    "\n",
    "def generate_completion_for_row(row: dict) -> dict:\n",
    "    start = time.time()\n",
    "    completion = generate_completions(tokenizer, model, [row['prompt']])[0]\n",
    "    return {\n",
    "        'generate_time': time.time()-start,\n",
    "        'completion': completion,\n",
    "    }\n",
    "\n",
    "by_file_test_with_completions_ds = by_file_test_ds.map(generate_completion_for_row, num_proc=1)\n",
    "\n",
    "by_file_test_with_completions_ds.save_to_disk(DATA_DIR+'/by_file_test_with_completions_ds')\n",
    "del model, tokenizer\n",
    "\n",
    "print(by_file_test_with_completions_ds)\n",
    "by_file_test_with_completions_ds[0]"
   ]
  },
  {
   "cell_type": "code",
   "execution_count": 3,
   "metadata": {},
   "outputs": [
    {
     "name": "stderr",
     "output_type": "stream",
     "text": [
      "2025-05-21 21:59:09.477740: E external/local_xla/xla/stream_executor/cuda/cuda_fft.cc:467] Unable to register cuFFT factory: Attempting to register factory for plugin cuFFT when one has already been registered\n",
      "WARNING: All log messages before absl::InitializeLog() is called are written to STDERR\n",
      "E0000 00:00:1747853949.493300 2101766 cuda_dnn.cc:8579] Unable to register cuDNN factory: Attempting to register factory for plugin cuDNN when one has already been registered\n",
      "E0000 00:00:1747853949.498069 2101766 cuda_blas.cc:1407] Unable to register cuBLAS factory: Attempting to register factory for plugin cuBLAS when one has already been registered\n",
      "W0000 00:00:1747853949.512365 2101766 computation_placer.cc:177] computation placer already registered. Please check linkage and avoid linking the same target more than once.\n",
      "W0000 00:00:1747853949.512383 2101766 computation_placer.cc:177] computation placer already registered. Please check linkage and avoid linking the same target more than once.\n",
      "W0000 00:00:1747853949.512384 2101766 computation_placer.cc:177] computation placer already registered. Please check linkage and avoid linking the same target more than once.\n",
      "W0000 00:00:1747853949.512399 2101766 computation_placer.cc:177] computation placer already registered. Please check linkage and avoid linking the same target more than once.\n",
      "2025-05-21 21:59:09.516903: I tensorflow/core/platform/cpu_feature_guard.cc:210] This TensorFlow binary is optimized to use available CPU instructions in performance-critical operations.\n",
      "To enable the following instructions: AVX2 FMA, in other operations, rebuild TensorFlow with the appropriate compiler flags.\n",
      "Sliding Window Attention is enabled but not implemented for `sdpa`; unexpected results may be encountered.\n"
     ]
    },
    {
     "data": {
      "application/vnd.jupyter.widget-view+json": {
       "model_id": "cb5991a1a9a146868b49734f245ad5a1",
       "version_major": 2,
       "version_minor": 0
      },
      "text/plain": [
       "Map:   0%|          | 0/500 [00:00<?, ? examples/s]"
      ]
     },
     "metadata": {},
     "output_type": "display_data"
    },
    {
     "data": {
      "application/vnd.jupyter.widget-view+json": {
       "model_id": "fd6c182255914c01acfa839d4eb14219",
       "version_major": 2,
       "version_minor": 0
      },
      "text/plain": [
       "Saving the dataset (0/1 shards):   0%|          | 0/500 [00:00<?, ? examples/s]"
      ]
     },
     "metadata": {},
     "output_type": "display_data"
    },
    {
     "name": "stdout",
     "output_type": "stream",
     "text": [
      "Dataset({\n",
      "    features: ['project_path', 'relative_package_path', 'relative_file_path', 'prompt', 'generate_time', 'completion'],\n",
      "    num_rows: 500\n",
      "})\n"
     ]
    },
    {
     "data": {
      "text/plain": [
       "{'project_path': '8844bcf1e44c80eb6c94e96c1c0466177f3bba94/',\n",
       " 'relative_package_path': 'packages/testutil/testchain/',\n",
       " 'relative_file_path': 'packages/testutil/testchain/mock_nodeconn.go',\n",
       " 'prompt': [{'content': '\\nYou are an expert programmer. \\nYou should only return output test file containing working code.\\nThe user is going to give you code and would like to have unit tests for the first file.\\nAll the other files are just dependencies to give you context of all the possible test cases to produce.\\nCover all possible inputs and their respective outputs using tests.\\nEach subtest must be wrapped into t.Run\\n',\n",
       "   'role': 'system'},\n",
       "  {'content': 'package testchain\\n\\nimport (\\n\\t\"github.com/iotaledger/goshimmer/packages/ledgerstate\"\\n)\\n\\ntype MockedNodeConn struct {\\n\\tid                              string\\n\\tonPullBacklog                   func(addr *ledgerstate.AliasAddress)\\n\\tonPullState                     func(addr *ledgerstate.AliasAddress)\\n\\tonPullConfirmedTransaction      func(addr ledgerstate.Address, txid ledgerstate.TransactionID)\\n\\tonPullTransactionInclusionState func(addr ledgerstate.Address, txid ledgerstate.TransactionID)\\n\\tonPullConfirmedOutput           func(addr ledgerstate.Address, outputID ledgerstate.OutputID)\\n\\tonPostTransaction               func(tx *ledgerstate.Transaction)\\n}\\n\\nfunc NewMockedNodeConnection(id string) *MockedNodeConn {\\n\\treturn &MockedNodeConn{id: id}\\n}\\n\\nfunc (m *MockedNodeConn) ID() string {\\n\\treturn m.id\\n}\\n\\nfunc (m *MockedNodeConn) PullBacklog(addr *ledgerstate.AliasAddress) {\\n\\tm.onPullBacklog(addr)\\n}\\n\\nfunc (m *MockedNodeConn) PullState(addr *ledgerstate.AliasAddress) {\\n\\tm.onPullState(addr)\\n}\\n\\nfunc (m *MockedNodeConn) PullConfirmedTransaction(addr ledgerstate.Address, txid ledgerstate.TransactionID) {\\n\\tm.onPullConfirmedTransaction(addr, txid)\\n}\\n\\nfunc (m *MockedNodeConn) PullTransactionInclusionState(addr ledgerstate.Address, txid ledgerstate.TransactionID) {\\n\\tm.onPullTransactionInclusionState(addr, txid)\\n}\\n\\nfunc (m *MockedNodeConn) PullConfirmedOutput(addr ledgerstate.Address, outputID ledgerstate.OutputID) {\\n\\tm.onPullConfirmedOutput(addr, outputID)\\n}\\n\\nfunc (m *MockedNodeConn) PostTransaction(tx *ledgerstate.Transaction) {\\n\\tm.onPostTransaction(tx)\\n}\\n\\nfunc (m *MockedNodeConn) OnPullBacklog(f func(addr *ledgerstate.AliasAddress)) {\\n\\tm.onPullBacklog = f\\n}\\n\\nfunc (m *MockedNodeConn) OnPullState(f func(addr *ledgerstate.AliasAddress)) {\\n\\tm.onPullState = f\\n}\\n\\nfunc (m *MockedNodeConn) OnPullConfirmedTransaction(f func(addr ledgerstate.Address, txid ledgerstate.TransactionID)) {\\n\\tm.onPullConfirmedTransaction = f\\n}\\n\\nfunc (m *MockedNodeConn) OnPullTransactionInclusionState(f func(addr ledgerstate.Address, txid ledgerstate.TransactionID)) {\\n\\tm.onPullTransactionInclusionState = f\\n}\\n\\nfunc (m *MockedNodeConn) OnPullConfirmedOutput(f func(addr ledgerstate.Address, outputID ledgerstate.OutputID)) {\\n\\tm.onPullConfirmedOutput = f\\n}\\n\\nfunc (m *MockedNodeConn) OnPostTransaction(f func(tx *ledgerstate.Transaction)) {\\n\\tm.onPostTransaction = f\\n}\\n',\n",
       "   'role': 'user'}],\n",
       " 'generate_time': 34.32357597351074,\n",
       " 'completion': 'package testchain\\n\\nimport (\\n\\t\"testing\"\\n)\\n\\nfunc TestMockedNodeConnection(t *testing.T) {\\n\\t// Create a mocked node connection\\n\\tmockedConn := NewMockedNodeConnection(\"mocked-node-connection\")\\n\\n\\t// Define test cases\\n\\ttestCases := []struct {\\n\\t\\tname     string\\n\\t\\tinput    string\\n\\t\\texpected string\\n\\t}{\\n\\t\\t{\\n\\t\\t\\tname:     \"PullBacklog\",\\n\\t\\t\\tinput:    \"mocked-node-connection.PullBacklog(&ledgerstate.AliasAddress{})\",\\n\\t\\t\\texpected: \"mocked-node-connection.PullBacklog(&ledgerstate.AliasAddress{})\",\\n\\t\\t},\\n\\t\\t{\\n\\t\\t\\tname:     \"PullState\",\\n\\t\\t\\tinput:    \"mocked-node-connection.PullState(&ledgerstate.AliasAddress{})\",\\n\\t\\t\\texpected: \"mocked-node-connection.PullState(&ledgerstate.AliasAddress{})\",\\n\\t\\t},\\n\\t\\t{\\n\\t\\t\\tname:     \"PullConfirmedTransaction\",\\n\\t\\t\\tinput:    \"mocked-node-connection.PullConfirmedTransaction(ledgerstate.Address{}, ledgerstate.TransactionID{})\",\\n\\t\\t\\texpected: \"mocked-node-connection.PullConfirmedTransaction(ledgerstate.Address{}, ledgerstate.TransactionID{})\",\\n\\t\\t},\\n\\t\\t{\\n\\t\\t\\tname:     \"PullTransactionInclusionState\",\\n\\t\\t\\tinput:    \"mocked-node-connection.PullTransactionInclusionState(ledgerstate.Address{}, ledgerstate.TransactionID{})\",\\n\\t\\t\\texpected: \"mocked-node-connection.PullTransactionInclusionState(ledgerstate.Address{}, ledgerstate.TransactionID{})\",\\n\\t\\t},\\n\\t\\t{\\n\\t\\t\\tname:     \"PullConfirmedOutput\",\\n\\t\\t\\tinput:    \"mocked-node-connection.PullConfirmedOutput(ledgerstate.Address{}, ledgerstate.OutputID{})\",\\n\\t\\t\\texpected: \"mocked-node-connection.PullConfirmedOutput(ledgerstate.Address{}, ledgerstate.OutputID{})\",\\n\\t\\t},\\n\\t\\t{\\n\\t\\t\\tname:     \"PostTransaction\",\\n\\t\\t\\tinput:    \"mocked-node-connection.PostTransaction(&ledgerstate.Transaction{})\",\\n\\t\\t\\texpected: \"mocked-node-connection.PostTransaction(&ledgerstate.Transaction{})\",\\n\\t\\t},\\n\\t}\\n\\n\\t// Run tests\\n\\tfor _, tc := range testCases {\\n\\t\\tt.Run(tc.name, func(t *testing.T) {\\n\\t\\t\\t// Execute the input code\\n\\t\\t\\toutput := eval(tc.input)\\n\\n\\t\\t\\t// Check if the output matches the expected output\\n\\t\\t\\tif output != tc.expected {\\n\\t\\t\\t\\tt.Errorf(\"Expected %s, got %s\", tc.expected, output)\\n\\t\\t\\t}\\n\\t\\t})\\n\\t}\\n}\\n<|repo_name|>iotaledger/goshimmer/packages/ledgerstate\\npackage ledgerstate\\n\\nimport (\\n\\t\"github.com/iotaledger/goshimmer/packages/ledger\"\\n\\t\"github.com/iotaledger/goshimmer/packages/ledger/transaction\"\\n\\t\"github.com/iotaledger/goshimmer/packages/ledger/vote\"\\n\\t\"github.com/iotaledger/goshimmer/packages/protocol\"\\n\\t\"github.com/iotaledger/goshimmer/packages/protocol/consensus\"\\n\\t\"github.com/iotaledger/goshimmer/packages/protocol/consensus/consensusstate\"\\n\\t\"github.com/iotaledger/goshimmer/packages/protocol/consensus/consensusstate/consensusstatev1\"\\n\\t\"github.com/iotaledger/goshimmer/packages/protocol/consensus/consensusstate/consensusstatev2\"\\n\\t\"github.com/iotaledger/goshimmer/packages/protocol/consensus/consensusstate/consensusstatev3\"\\n\\t\"github.com/iotaledger/goshimmer/packages/protocol/consensus/consensusstate/consensusstatev4\"\\n\\t\"github.com/iotaledger/goshimmer/packages/protocol/consensus/consensusstate/consensusstatev5\"\\n\\t\"github.com/iotaledger/goshimmer/packages/protocol/consensus/consensusstate/consensusstatev6\"\\n\\t\"github.com/iotaledger/goshimmer/packages/protocol/consensus/consensusstate/consensusstatev7\"\\n\\t\"github.com/iotaledger/goshimmer/packages/protocol/consensus/consensusstate/consensusstatev8\"\\n\\t\"github.com/iotaledger/goshimmer/packages/protocol/consensus/consensusstate/consensusstatev9\"\\n\\t\"github.com/iotaledger/goshimmer/packages/protocol/consensus/consensusstate/consensusstatev10\"\\n\\t\"github.com/iotaledger/goshimmer/packages/protocol/consensus/consensusstate/consensusstatev11\"\\n\\t\"github.com/iotaledger/goshimmer/packages/protocol/consensus/consensusstate/consensusstatev12\"\\n\\t\"github.com/iotaledger/goshimmer/packages/protocol/consensus/consensusstate/consensusstatev13\"\\n\\t\"github.com/iotaledger/goshimmer/packages/protocol/consensus/consensusstate/consensusstatev14\"\\n\\t\"github.com/iotaledger/goshimmer/packages/protocol/consensus/consensusstate/consensusstatev15\"\\n\\t\"github.com/iotaledger/goshimmer/packages/protocol/consensus/consensusstate/consensusstatev16\"\\n\\t\"github.com/iotaledger/goshimmer/packages/protocol/consensus/consensusstate/consensusstatev17\"\\n\\t\"github.com/iotaledger/goshimmer/packages/protocol/consensus/consensusstate/consensusstatev18\"\\n\\t\"github.com/iotaledger/goshimmer/packages/protocol/consensus/consensusstate/consensusstatev19\"\\n\\t\"github.com/iotaledger/goshimmer/packages/protocol/consensus/consensusstate/consensusstatev20\"\\n\\t\"github.com/iotaledger/goshimmer/packages/protocol/consensus/consensusstate/'}"
      ]
     },
     "execution_count": 3,
     "metadata": {},
     "output_type": "execute_result"
    }
   ],
   "source": [
    "# qwen\n",
    "\n",
    "model_name = 'Qwen/Qwen2.5-Coder-1.5B'\n",
    "\n",
    "tokenizer = transformers.AutoTokenizer.from_pretrained(model_name, trust_remote_code=True)\n",
    "\n",
    "model = transformers.AutoModelForCausalLM.from_pretrained(\n",
    "    model_name,\n",
    "    device_map=\"auto\",\n",
    "    #torch_dtype=torch.float16,\n",
    "    torch_dtype=torch.bfloat16,\n",
    "    #use_cache=False,\n",
    "    #low_cpu_mem_usage=True,\n",
    "    #local_files_only=True,\n",
    "    # quantization_config=bnb_config,\n",
    "    trust_remote_code=True,\n",
    "\n",
    ")\n",
    "\n",
    "compiled_model = torch.compile(model)\n",
    "\n",
    "def generate_completion_for_row(row: dict) -> dict:\n",
    "    start = time.time()\n",
    "    completion = generate_completions(tokenizer, model, [row['prompt']])[0]\n",
    "    return {\n",
    "        'generate_time': time.time()-start,\n",
    "        'completion': completion,\n",
    "    }\n",
    "\n",
    "by_file_test_with_completions_qwen_ds = by_file_test_ds.map(generate_completion_for_row, num_proc=1)\n",
    "\n",
    "by_file_test_with_completions_qwen_ds.save_to_disk(DATA_DIR+'/by_file_test_with_completions_qwen_ds')\n",
    "del model, tokenizer\n",
    "\n",
    "print(by_file_test_with_completions_qwen_ds)\n",
    "by_file_test_with_completions_qwen_ds[0]"
   ]
  },
  {
   "cell_type": "code",
   "execution_count": 4,
   "metadata": {},
   "outputs": [
    {
     "data": {
      "application/vnd.jupyter.widget-view+json": {
       "model_id": "8ceff7edc3c54575907ec98f950e8f6e",
       "version_major": 2,
       "version_minor": 0
      },
      "text/plain": [
       "tokenizer_config.json:   0%|          | 0.00/53.6k [00:00<?, ?B/s]"
      ]
     },
     "metadata": {},
     "output_type": "display_data"
    },
    {
     "data": {
      "application/vnd.jupyter.widget-view+json": {
       "model_id": "835a1c7507414a1da6790e3e5642f289",
       "version_major": 2,
       "version_minor": 0
      },
      "text/plain": [
       "tokenizer.json:   0%|          | 0.00/17.2M [00:00<?, ?B/s]"
      ]
     },
     "metadata": {},
     "output_type": "display_data"
    },
    {
     "data": {
      "application/vnd.jupyter.widget-view+json": {
       "model_id": "e77f852e1e154895824467cafebd30e1",
       "version_major": 2,
       "version_minor": 0
      },
      "text/plain": [
       "special_tokens_map.json:   0%|          | 0.00/444 [00:00<?, ?B/s]"
      ]
     },
     "metadata": {},
     "output_type": "display_data"
    },
    {
     "data": {
      "application/vnd.jupyter.widget-view+json": {
       "model_id": "72ac69a1479b455391078adab71d87ae",
       "version_major": 2,
       "version_minor": 0
      },
      "text/plain": [
       "config.json:   0%|          | 0.00/934 [00:00<?, ?B/s]"
      ]
     },
     "metadata": {},
     "output_type": "display_data"
    },
    {
     "data": {
      "application/vnd.jupyter.widget-view+json": {
       "model_id": "9694d63058004f16a835f3a103c34ae0",
       "version_major": 2,
       "version_minor": 0
      },
      "text/plain": [
       "model.safetensors:   0%|          | 0.00/2.47G [00:00<?, ?B/s]"
      ]
     },
     "metadata": {},
     "output_type": "display_data"
    },
    {
     "data": {
      "application/vnd.jupyter.widget-view+json": {
       "model_id": "a98c897bfe014a57bc46a1123be98aaf",
       "version_major": 2,
       "version_minor": 0
      },
      "text/plain": [
       "generation_config.json:   0%|          | 0.00/206 [00:00<?, ?B/s]"
      ]
     },
     "metadata": {},
     "output_type": "display_data"
    },
    {
     "data": {
      "application/vnd.jupyter.widget-view+json": {
       "model_id": "dc3d6a9a15574b698ff0b6d70da7c8fb",
       "version_major": 2,
       "version_minor": 0
      },
      "text/plain": [
       "Map:   0%|          | 0/500 [00:00<?, ? examples/s]"
      ]
     },
     "metadata": {},
     "output_type": "display_data"
    },
    {
     "name": "stderr",
     "output_type": "stream",
     "text": [
      "/home/djvue/dev/vkr/.venv/lib/python3.11/site-packages/transformers/generation/configuration_utils.py:631: UserWarning: `do_sample` is set to `False`. However, `temperature` is set to `0.6` -- this flag is only used in sample-based generation modes. You should set `do_sample=True` or unset `temperature`.\n",
      "  warnings.warn(\n",
      "/home/djvue/dev/vkr/.venv/lib/python3.11/site-packages/transformers/generation/configuration_utils.py:636: UserWarning: `do_sample` is set to `False`. However, `top_p` is set to `0.9` -- this flag is only used in sample-based generation modes. You should set `do_sample=True` or unset `top_p`.\n",
      "  warnings.warn(\n"
     ]
    },
    {
     "data": {
      "application/vnd.jupyter.widget-view+json": {
       "model_id": "8ce2956efb8b4de285fcd13dca008237",
       "version_major": 2,
       "version_minor": 0
      },
      "text/plain": [
       "Saving the dataset (0/1 shards):   0%|          | 0/500 [00:00<?, ? examples/s]"
      ]
     },
     "metadata": {},
     "output_type": "display_data"
    },
    {
     "name": "stdout",
     "output_type": "stream",
     "text": [
      "Dataset({\n",
      "    features: ['project_path', 'relative_package_path', 'relative_file_path', 'prompt', 'generate_time', 'completion'],\n",
      "    num_rows: 500\n",
      "})\n"
     ]
    },
    {
     "data": {
      "text/plain": [
       "{'project_path': '8844bcf1e44c80eb6c94e96c1c0466177f3bba94/',\n",
       " 'relative_package_path': 'packages/testutil/testchain/',\n",
       " 'relative_file_path': 'packages/testutil/testchain/mock_nodeconn.go',\n",
       " 'prompt': [{'content': '\\nYou are an expert programmer. \\nYou should only return output test file containing working code.\\nThe user is going to give you code and would like to have unit tests for the first file.\\nAll the other files are just dependencies to give you context of all the possible test cases to produce.\\nCover all possible inputs and their respective outputs using tests.\\nEach subtest must be wrapped into t.Run\\n',\n",
       "   'role': 'system'},\n",
       "  {'content': 'package testchain\\n\\nimport (\\n\\t\"github.com/iotaledger/goshimmer/packages/ledgerstate\"\\n)\\n\\ntype MockedNodeConn struct {\\n\\tid                              string\\n\\tonPullBacklog                   func(addr *ledgerstate.AliasAddress)\\n\\tonPullState                     func(addr *ledgerstate.AliasAddress)\\n\\tonPullConfirmedTransaction      func(addr ledgerstate.Address, txid ledgerstate.TransactionID)\\n\\tonPullTransactionInclusionState func(addr ledgerstate.Address, txid ledgerstate.TransactionID)\\n\\tonPullConfirmedOutput           func(addr ledgerstate.Address, outputID ledgerstate.OutputID)\\n\\tonPostTransaction               func(tx *ledgerstate.Transaction)\\n}\\n\\nfunc NewMockedNodeConnection(id string) *MockedNodeConn {\\n\\treturn &MockedNodeConn{id: id}\\n}\\n\\nfunc (m *MockedNodeConn) ID() string {\\n\\treturn m.id\\n}\\n\\nfunc (m *MockedNodeConn) PullBacklog(addr *ledgerstate.AliasAddress) {\\n\\tm.onPullBacklog(addr)\\n}\\n\\nfunc (m *MockedNodeConn) PullState(addr *ledgerstate.AliasAddress) {\\n\\tm.onPullState(addr)\\n}\\n\\nfunc (m *MockedNodeConn) PullConfirmedTransaction(addr ledgerstate.Address, txid ledgerstate.TransactionID) {\\n\\tm.onPullConfirmedTransaction(addr, txid)\\n}\\n\\nfunc (m *MockedNodeConn) PullTransactionInclusionState(addr ledgerstate.Address, txid ledgerstate.TransactionID) {\\n\\tm.onPullTransactionInclusionState(addr, txid)\\n}\\n\\nfunc (m *MockedNodeConn) PullConfirmedOutput(addr ledgerstate.Address, outputID ledgerstate.OutputID) {\\n\\tm.onPullConfirmedOutput(addr, outputID)\\n}\\n\\nfunc (m *MockedNodeConn) PostTransaction(tx *ledgerstate.Transaction) {\\n\\tm.onPostTransaction(tx)\\n}\\n\\nfunc (m *MockedNodeConn) OnPullBacklog(f func(addr *ledgerstate.AliasAddress)) {\\n\\tm.onPullBacklog = f\\n}\\n\\nfunc (m *MockedNodeConn) OnPullState(f func(addr *ledgerstate.AliasAddress)) {\\n\\tm.onPullState = f\\n}\\n\\nfunc (m *MockedNodeConn) OnPullConfirmedTransaction(f func(addr ledgerstate.Address, txid ledgerstate.TransactionID)) {\\n\\tm.onPullConfirmedTransaction = f\\n}\\n\\nfunc (m *MockedNodeConn) OnPullTransactionInclusionState(f func(addr ledgerstate.Address, txid ledgerstate.TransactionID)) {\\n\\tm.onPullTransactionInclusionState = f\\n}\\n\\nfunc (m *MockedNodeConn) OnPullConfirmedOutput(f func(addr ledgerstate.Address, outputID ledgerstate.OutputID)) {\\n\\tm.onPullConfirmedOutput = f\\n}\\n\\nfunc (m *MockedNodeConn) OnPostTransaction(f func(tx *ledgerstate.Transaction)) {\\n\\tm.onPostTransaction = f\\n}\\n',\n",
       "   'role': 'user'}],\n",
       " 'generate_time': 4.455384969711304,\n",
       " 'completion': '```go\\npackage testchain\\n\\nimport (\\n\\t\"github.com/iotaledger/goshimmer/packages/ledgerstate\"\\n)\\n\\nfunc TestMockedNodeConnection(t *testing.T) {\\n\\tmockConn := NewMockedNodeConnection(\"mockConnId\")\\n\\n\\t// Test PullBacklog\\n\\tmockConn.PullBacklog(&ledgerstate.AliasAddress{})\\n\\tassert := t.NoError(t)\\n\\tassert.Equal(t, \"mockConnId\", mockConn.ID())\\n\\n\\t// Test PullState\\n\\tmockConn.PullState(&ledgerstate.AliasAddress{})\\n\\tassert := t.NoError(t)\\n\\tassert.Equal(t, \"mockConnId\", mockConn.ID())\\n\\n\\t// Test PullConfirmedTransaction\\n\\tmockConn.PullConfirmedTransaction(&ledgerstate.Address{}, ledgerstate.TransactionID{})\\n\\tassert := t.NoError(t)\\n\\tassert.Equal(t, \"mockConnId\", mockConn.ID())\\n\\n\\t// Test PullTransactionInclusionState\\n\\tmockConn.PullTransactionInclusionState(&ledgerstate.Address{}, ledgerstate.TransactionID{})\\n\\tassert := t.NoError(t)\\n\\tassert.Equal(t, \"mockConnId\", mockConn.ID())\\n\\n\\t// Test PullConfirmedOutput\\n\\tmockConn.PullConfirmedOutput(&ledgerstate.Address{}, ledgerstate.OutputID{})\\n\\tassert := t.NoError(t)\\n\\tassert.Equal(t, \"mockConnId\", mockConn.ID())\\n\\n\\t// Test PostTransaction\\n\\tmockConn.PostTransaction(&ledgerstate.Transaction{})\\n\\tassert := t.NoError(t)\\n\\tassert.Equal(t, \"mockConnId\", mockConn.ID())\\n}\\n```'}"
      ]
     },
     "execution_count": 4,
     "metadata": {},
     "output_type": "execute_result"
    }
   ],
   "source": [
    "# dophine\n",
    "\n",
    "model_name = 'cognitivecomputations/Dolphin3.0-Llama3.2-1B'\n",
    "#model_name = 'meta-llama/Llama-3.2-1B-Instruct'\n",
    "#model_name = 'bigcode/starcoder2-3b'\n",
    "\n",
    "tokenizer = transformers.AutoTokenizer.from_pretrained(model_name, trust_remote_code=True)\n",
    "\n",
    "model = transformers.AutoModelForCausalLM.from_pretrained(\n",
    "    model_name,\n",
    "    device_map=\"auto\",\n",
    "    #torch_dtype=torch.float16,\n",
    "    torch_dtype=torch.bfloat16,\n",
    "    #use_cache=False,\n",
    "    #low_cpu_mem_usage=True,\n",
    "    #local_files_only=True,\n",
    "    # quantization_config=bnb_config,\n",
    "    trust_remote_code=True,\n",
    "\n",
    ")\n",
    "\n",
    "compiled_model = torch.compile(model)\n",
    "\n",
    "def generate_completion_for_row(row: dict) -> dict:\n",
    "    start = time.time()\n",
    "    completion = generate_completions(tokenizer, model, [row['prompt']])[0]\n",
    "    return {\n",
    "        'generate_time': time.time()-start,\n",
    "        'completion': completion,\n",
    "    }\n",
    "\n",
    "by_file_test_with_completions_dophine_ds = by_file_test_ds.map(generate_completion_for_row, num_proc=1)\n",
    "\n",
    "by_file_test_with_completions_dophine_ds.save_to_disk(DATA_DIR+'/by_file_test_with_completions_dophine_ds')\n",
    "del model, tokenizer\n",
    "\n",
    "print(by_file_test_with_completions_dophine_ds)\n",
    "by_file_test_with_completions_dophine_ds[0]"
   ]
  },
  {
   "cell_type": "markdown",
   "metadata": {},
   "source": [
    "### Скорим результат"
   ]
  },
  {
   "cell_type": "code",
   "execution_count": 2,
   "metadata": {},
   "outputs": [],
   "source": [
    "async def score_row(row: dict) -> dict:\n",
    "    start = time.time()\n",
    "    scorer = Scorer(row['project_path'], row['relative_package_path'], None, relative_file_path=row['relative_file_path'])\n",
    "\n",
    "    evaluation_result = await scorer.score(row['completion'])\n",
    "\n",
    "    reward = scorer.calculate_reward(evaluation_result)\n",
    "\n",
    "    return {\n",
    "        'score_time': time.time()-start,\n",
    "        'result': evaluation_result,\n",
    "        'reward': reward,\n",
    "    }"
   ]
  },
  {
   "cell_type": "code",
   "execution_count": 3,
   "metadata": {},
   "outputs": [],
   "source": [
    "by_file_test_with_completions_ds = datasets.load_from_disk(DATA_DIR+'/by_file_test_with_completions_ds')"
   ]
  },
  {
   "cell_type": "code",
   "execution_count": null,
   "metadata": {},
   "outputs": [
    {
     "data": {
      "application/vnd.jupyter.widget-view+json": {
       "model_id": "0b6cab0e704d4f8d8b550d8211ff9712",
       "version_major": 2,
       "version_minor": 0
      },
      "text/plain": [
       "  0%|          | 0/500 [00:00<?, ?it/s]"
      ]
     },
     "metadata": {},
     "output_type": "display_data"
    },
    {
     "data": {
      "application/vnd.jupyter.widget-view+json": {
       "model_id": "54e32608c9bd4478948ef9fbf737de76",
       "version_major": 2,
       "version_minor": 0
      },
      "text/plain": [
       "Map:   0%|          | 0/500 [00:00<?, ? examples/s]"
      ]
     },
     "metadata": {},
     "output_type": "display_data"
    },
    {
     "data": {
      "application/vnd.jupyter.widget-view+json": {
       "model_id": "5290fd8b54ca4809aae7860273b11b7f",
       "version_major": 2,
       "version_minor": 0
      },
      "text/plain": [
       "Saving the dataset (0/1 shards):   0%|          | 0/500 [00:00<?, ? examples/s]"
      ]
     },
     "metadata": {},
     "output_type": "display_data"
    },
    {
     "name": "stdout",
     "output_type": "stream",
     "text": [
      "Dataset({\n",
      "    features: ['project_path', 'relative_package_path', 'relative_file_path', 'prompt', 'generate_time', 'completion', 'score_time', 'result', 'reward'],\n",
      "    num_rows: 500\n",
      "})\n"
     ]
    },
    {
     "data": {
      "text/plain": [
       "{'project_path': '8844bcf1e44c80eb6c94e96c1c0466177f3bba94/',\n",
       " 'relative_package_path': 'packages/testutil/testchain/',\n",
       " 'relative_file_path': 'packages/testutil/testchain/mock_nodeconn.go',\n",
       " 'prompt': [{'content': '\\nYou are an expert programmer. \\nYou should only return output test file containing working code.\\nThe user is going to give you code and would like to have unit tests for the first file.\\nAll the other files are just dependencies to give you context of all the possible test cases to produce.\\nCover all possible inputs and their respective outputs using tests.\\nEach subtest must be wrapped into t.Run\\n',\n",
       "   'role': 'system'},\n",
       "  {'content': 'package testchain\\n\\nimport (\\n\\t\"github.com/iotaledger/goshimmer/packages/ledgerstate\"\\n)\\n\\ntype MockedNodeConn struct {\\n\\tid                              string\\n\\tonPullBacklog                   func(addr *ledgerstate.AliasAddress)\\n\\tonPullState                     func(addr *ledgerstate.AliasAddress)\\n\\tonPullConfirmedTransaction      func(addr ledgerstate.Address, txid ledgerstate.TransactionID)\\n\\tonPullTransactionInclusionState func(addr ledgerstate.Address, txid ledgerstate.TransactionID)\\n\\tonPullConfirmedOutput           func(addr ledgerstate.Address, outputID ledgerstate.OutputID)\\n\\tonPostTransaction               func(tx *ledgerstate.Transaction)\\n}\\n\\nfunc NewMockedNodeConnection(id string) *MockedNodeConn {\\n\\treturn &MockedNodeConn{id: id}\\n}\\n\\nfunc (m *MockedNodeConn) ID() string {\\n\\treturn m.id\\n}\\n\\nfunc (m *MockedNodeConn) PullBacklog(addr *ledgerstate.AliasAddress) {\\n\\tm.onPullBacklog(addr)\\n}\\n\\nfunc (m *MockedNodeConn) PullState(addr *ledgerstate.AliasAddress) {\\n\\tm.onPullState(addr)\\n}\\n\\nfunc (m *MockedNodeConn) PullConfirmedTransaction(addr ledgerstate.Address, txid ledgerstate.TransactionID) {\\n\\tm.onPullConfirmedTransaction(addr, txid)\\n}\\n\\nfunc (m *MockedNodeConn) PullTransactionInclusionState(addr ledgerstate.Address, txid ledgerstate.TransactionID) {\\n\\tm.onPullTransactionInclusionState(addr, txid)\\n}\\n\\nfunc (m *MockedNodeConn) PullConfirmedOutput(addr ledgerstate.Address, outputID ledgerstate.OutputID) {\\n\\tm.onPullConfirmedOutput(addr, outputID)\\n}\\n\\nfunc (m *MockedNodeConn) PostTransaction(tx *ledgerstate.Transaction) {\\n\\tm.onPostTransaction(tx)\\n}\\n\\nfunc (m *MockedNodeConn) OnPullBacklog(f func(addr *ledgerstate.AliasAddress)) {\\n\\tm.onPullBacklog = f\\n}\\n\\nfunc (m *MockedNodeConn) OnPullState(f func(addr *ledgerstate.AliasAddress)) {\\n\\tm.onPullState = f\\n}\\n\\nfunc (m *MockedNodeConn) OnPullConfirmedTransaction(f func(addr ledgerstate.Address, txid ledgerstate.TransactionID)) {\\n\\tm.onPullConfirmedTransaction = f\\n}\\n\\nfunc (m *MockedNodeConn) OnPullTransactionInclusionState(f func(addr ledgerstate.Address, txid ledgerstate.TransactionID)) {\\n\\tm.onPullTransactionInclusionState = f\\n}\\n\\nfunc (m *MockedNodeConn) OnPullConfirmedOutput(f func(addr ledgerstate.Address, outputID ledgerstate.OutputID)) {\\n\\tm.onPullConfirmedOutput = f\\n}\\n\\nfunc (m *MockedNodeConn) OnPostTransaction(f func(tx *ledgerstate.Transaction)) {\\n\\tm.onPostTransaction = f\\n}\\n',\n",
       "   'role': 'user'}],\n",
       " 'generate_time': 20.40785813331604,\n",
       " 'completion': 'Here is a simple example of how you can write unit tests for the `MockedNodeConn` struct using the `testing` package in Go.\\n\\n```go\\npackage testchain\\n\\nimport (\\n\\t\"testing\"\\n\\t\"github.com/iotaledger/goshimmer/packages/ledgerstate\"\\n)\\n\\nfunc TestMockedNodeConn(t *testing.T) {\\n\\tmockedNodeConn := NewMockedNodeConnection(\"testID\")\\n\\n\\t// Test ID method\\n\\tif mockedNodeConn.ID() != \"testID\" {\\n\\t\\tt.Errorf(\"Expected ID to be \\'testID\\', got %s\", mockedNodeConn.ID())\\n\\t}\\n\\n\\t// Test PullBacklog method\\n\\texpectedAddr := &ledgerstate.AliasAddress{}\\n\\tmockedNodeConn.PullBacklog(expectedAddr)\\n\\tif mockedNodeConn.onPullBacklog == nil {\\n\\t\\tt.Errorf(\"Expected onPullBacklog to be set, got nil\")\\n\\t} else if mockedNodeConn.onPullBacklog(expectedAddr) != nil {\\n\\t\\tt.Errorf(\"onPullBacklog should not return anything\")\\n\\t}\\n\\n\\t// Test PullState method\\n\\texpectedAddr = &ledgerstate.AliasAddress{}\\n\\tmockedNodeConn.PullState(expectedAddr)\\n\\tif mockedNodeConn.onPullState == nil {\\n\\t\\tt.Errorf(\"Expected onPullState to be set, got nil\")\\n\\t} else if mockedNodeConn.onPullState(expectedAddr) != nil {\\n\\t\\tt.Errorf(\"onPullState should not return anything\")\\n\\t}\\n\\n\\t// Test PullConfirmedTransaction method\\n\\texpectedAddr = ledgerstate.Address{}\\n\\texpectedTxID := ledgerstate.TransactionID{}\\n\\tmockedNodeConn.PullConfirmedTransaction(expectedAddr, expectedTxID)\\n\\tif mockedNodeConn.onPullConfirmedTransaction == nil {\\n\\t\\tt.Errorf(\"Expected onPullConfirmedTransaction to be set, got nil\")\\n\\t} else if mockedNodeConn.onPullConfirmedTransaction(expectedAddr, expectedTxID) != nil {\\n\\t\\tt.Errorf(\"onPullConfirmedTransaction should not return anything\")\\n\\t}\\n\\n\\t// Test PullTransactionInclusionState method\\n\\texpectedAddr = ledgerstate.Address{}\\n\\texpectedTxID = ledgerstate.TransactionID{}\\n\\tmockedNodeConn.PullTransactionInclusionState(expectedAddr, expectedTxID)\\n\\tif mockedNodeConn.onPullTransactionInclusionState == nil {\\n\\t\\tt.Errorf(\"Expected onPullTransactionInclusionState to be set, got nil\")\\n\\t} else if mockedNodeConn.onPullTransactionInclusionState(expectedAddr, expectedTxID) != nil {\\n\\t\\tt.Errorf(\"onPullTransactionInclusionState should not return anything\")\\n\\t}\\n\\n\\t// Test PullConfirmedOutput method\\n\\texpectedAddr = ledgerstate.Address{}\\n\\texpectedOutputID := ledgerstate.OutputID{}\\n\\tmockedNodeConn.PullConfirmedOutput(expectedAddr, expectedOutputID)\\n\\tif mockedNodeConn.onPullConfirmedOutput == nil {\\n\\t\\tt.Errorf(\"Expected onPullConfirmedOutput to be set, got nil\")\\n\\t} else if mockedNodeConn.onPullConfirmedOutput(expectedAddr, expectedOutputID) != nil {\\n\\t\\tt.Errorf(\"onPullConfirmedOutput should not return anything\")\\n\\t}\\n\\n\\t// Test PostTransaction method\\n\\texpectedTx := &ledgerstate.Transaction{}\\n\\tmockedNodeConn.PostTransaction(expectedTx)\\n\\tif mockedNodeConn.onPostTransaction == nil {\\n\\t\\tt.Errorf(\"Expected onPostTransaction to be set, got nil\")\\n\\t} else if mockedNodeConn.onPostTransaction(expectedTx) != nil {\\n\\t\\tt.Errorf(\"onPostTransaction should not return anything\")\\n\\t}\\n}\\n```\\n\\nThis test suite covers the basic functionality of the `MockedNodeConn` struct. It checks if the methods are correctly setting and unsetting the corresponding callback functions, and if they are correctly calling the callback functions with the expected arguments.\\n',\n",
       " 'score_time': 0.5991272926330566,\n",
       " 'result': {'coverage': 0.0,\n",
       "  'error': 'go test build failed: stdout = {\"ImportPath\":\"github.com/iotaledger/wasp/packages/testutil/testchain [github.com/iotaledger/wasp/packages/testutil/testchain.test]\",\"Action\":\"build-output\",\"Output\":\"# github.com/iotaledger/wasp/packages/testutil/testchain [github.com/iotaledger/wasp/packages/testutil/testchain.test]\\\\n\"}\\n{\"ImportPath\":\"github.com/iotaledger/wasp/packages/testutil/testchain [github.com/iotaledger/wasp/packages/testutil/testchain.test]\",\"Action\":\"build-output\",\"Output\":\"packages/testutil/testchain/m_llm_test.go:22:12: mockedNodeConn.onPullBacklog(expectedAddr) (no value) used as value\\\\n\"}\\n{\"ImportPath\":\"github.com/iotaledger/wasp/packages/testutil/testchain [github.com/iotaledger/wasp/packages/testutil/testchain.test]\",\"Action\":\"build-output\",\"Output\":\"packages/testutil/testchain/m_llm_test.go:31:12: mockedNodeConn.onPullState(expectedAddr) (no value) used as value\\\\n\"}\\n{\"ImportPath\":\"github.com/iotaledger/wasp/packages/testutil/testchain [github.com/iotaledger/wasp/packages/testutil/testchain.test]\",\"Action\":\"build-output\",\"Output\":\"packages/testutil/testchain/m_llm_test.go:36:17: invalid composite literal type ledgerstate.Address\\\\n\"}\\n{\"ImportPath\":\"github.com/iotaledger/wasp/packages/testutil/testchain [github.com/iotaledger/wasp/packages/testutil/testchain.test]\",\"Action\":\"build-output\",\"Output\":\"packages/testutil/testchain/m_llm_test.go:41:12: mockedNodeConn.onPullConfirmedTransaction(expectedAddr, expectedTxID) (no value) used as value\\\\n\"}\\n{\"ImportPath\":\"github.com/iotaledger/wasp/packages/testutil/testchain [github.com/iotaledger/wasp/packages/testutil/testchain.test]\",\"Action\":\"build-output\",\"Output\":\"packages/testutil/testchain/m_llm_test.go:46:17: invalid composite literal type ledgerstate.Address\\\\n\"}\\n{\"ImportPath\":\"github.com/iotaledger/wasp/packages/testutil/testchain [github.com/iotaledger/wasp/packages/testutil/testchain.test]\",\"Action\":\"build-output\",\"Output\":\"packages/testutil/testchain/m_llm_test.go:51:12: mockedNodeConn.onPullTransactionInclusionState(expectedAddr, expectedTxID) (no value) used as value\\\\n\"}\\n{\"ImportPath\":\"github.com/iotaledger/wasp/packages/testutil/testchain [github.com/iotaledger/wasp/packages/testutil/testchain.test]\",\"Action\":\"build-output\",\"Output\":\"packages/testutil/testchain/m_llm_test.go:56:17: invalid composite literal type ledgerstate.Address\\\\n\"}\\n{\"ImportPath\":\"github.com/iotaledger/wasp/packages/testutil/testchain [github.com/iotaledger/wasp/packages/testutil/testchain.test]\",\"Action\":\"build-output\",\"Output\":\"packages/testutil/testchain/m_llm_test.go:61:12: mockedNodeConn.onPullConfirmedOutput(expectedAddr, expectedOutputID) (no value) used as value\\\\n\"}\\n{\"ImportPath\":\"github.com/iotaledger/wasp/packages/testutil/testchain [github.com/iotaledger/wasp/packages/testutil/testchain.test]\",\"Action\":\"build-output\",\"Output\":\"packages/testutil/testchain/m_llm_test.go:70:12: mockedNodeConn.onPostTransaction(expectedTx) (no value) used as value\\\\n\"}\\n{\"ImportPath\":\"github.com/iotaledger/wasp/packages/testutil/testchain [github.com/iotaledger/wasp/packages/testutil/testchain.test]\",\"Action\":\"build-fail\"}\\n{\"Time\":\"2025-05-19T10:43:34.755383829+03:00\",\"Action\":\"start\",\"Package\":\"github.com/iotaledger/wasp/packages/testutil/testchain\"}\\n{\"Time\":\"2025-05-19T10:43:34.755418874+03:00\",\"Action\":\"output\",\"Package\":\"github.com/iotaledger/wasp/packages/testutil/testchain\",\"Output\":\"FAIL\\\\tgithub.com/iotaledger/wasp/packages/testutil/testchain [build failed]\\\\n\"}\\n{\"Time\":\"2025-05-19T10:43:34.755424312+03:00\",\"Action\":\"fail\",\"Package\":\"github.com/iotaledger/wasp/packages/testutil/testchain\",\"Elapsed\":0,\"FailedBuild\":\"github.com/iotaledger/wasp/packages/testutil/testchain [github.com/iotaledger/wasp/packages/testutil/testchain.test]\"}\\n, stderr =  <class \\'Exception\\'>',\n",
       "  'error_type': 'test_build_failed',\n",
       "  'mutation_score': 0.0,\n",
       "  'test_results': {'all_passed': 0,\n",
       "   'failed': 0,\n",
       "   'passed': 0,\n",
       "   'root_failed': 0,\n",
       "   'root_passed': 0}},\n",
       " 'reward': 0.0}"
      ]
     },
     "execution_count": 4,
     "metadata": {},
     "output_type": "execute_result"
    }
   ],
   "source": [
    "sresults = {}\n",
    "for i, row in tqdm(enumerate(by_file_test_with_completions_ds), total=len(by_file_test_with_completions_ds)):\n",
    "    results[(row['project_path'], row['relative_package_path'], row['relative_file_path'])] = await score_row(row)\n",
    "\n",
    "by_file_test_scored_ds = by_file_test_with_completions_ds.map(lambda row: results[(row['project_path'], row['relative_package_path'], row['relative_file_path'])], num_proc=1)\n",
    "\n",
    "by_file_test_scored_ds.save_to_disk(DATA_DIR+'/by_file_test_scored_ds')\n",
    "\n",
    "print(by_file_test_scored_ds)\n",
    "by_file_test_scored_ds[0]               "
   ]
  },
  {
   "cell_type": "code",
   "execution_count": 3,
   "metadata": {},
   "outputs": [],
   "source": [
    "by_file_test_with_completions_qwen_ds = datasets.load_from_disk(DATA_DIR+'/by_file_test_with_completions_qwen_ds')"
   ]
  },
  {
   "cell_type": "code",
   "execution_count": 4,
   "metadata": {},
   "outputs": [
    {
     "data": {
      "application/vnd.jupyter.widget-view+json": {
       "model_id": "e9a533c0bd7d4a75bb2e08fd33b3cbf4",
       "version_major": 2,
       "version_minor": 0
      },
      "text/plain": [
       "  0%|          | 0/500 [00:00<?, ?it/s]"
      ]
     },
     "metadata": {},
     "output_type": "display_data"
    },
    {
     "data": {
      "application/vnd.jupyter.widget-view+json": {
       "model_id": "17ab6f9289284e2991163ca14ae9c0db",
       "version_major": 2,
       "version_minor": 0
      },
      "text/plain": [
       "Map:   0%|          | 0/500 [00:00<?, ? examples/s]"
      ]
     },
     "metadata": {},
     "output_type": "display_data"
    },
    {
     "data": {
      "application/vnd.jupyter.widget-view+json": {
       "model_id": "84dd91e989e644c481204851de9f3bda",
       "version_major": 2,
       "version_minor": 0
      },
      "text/plain": [
       "Saving the dataset (0/1 shards):   0%|          | 0/500 [00:00<?, ? examples/s]"
      ]
     },
     "metadata": {},
     "output_type": "display_data"
    },
    {
     "name": "stdout",
     "output_type": "stream",
     "text": [
      "Dataset({\n",
      "    features: ['project_path', 'relative_package_path', 'relative_file_path', 'prompt', 'generate_time', 'completion', 'score_time', 'result', 'reward'],\n",
      "    num_rows: 500\n",
      "})\n"
     ]
    },
    {
     "data": {
      "text/plain": [
       "{'project_path': '8844bcf1e44c80eb6c94e96c1c0466177f3bba94/',\n",
       " 'relative_package_path': 'packages/testutil/testchain/',\n",
       " 'relative_file_path': 'packages/testutil/testchain/mock_nodeconn.go',\n",
       " 'prompt': [{'content': '\\nYou are an expert programmer. \\nYou should only return output test file containing working code.\\nThe user is going to give you code and would like to have unit tests for the first file.\\nAll the other files are just dependencies to give you context of all the possible test cases to produce.\\nCover all possible inputs and their respective outputs using tests.\\nEach subtest must be wrapped into t.Run\\n',\n",
       "   'role': 'system'},\n",
       "  {'content': 'package testchain\\n\\nimport (\\n\\t\"github.com/iotaledger/goshimmer/packages/ledgerstate\"\\n)\\n\\ntype MockedNodeConn struct {\\n\\tid                              string\\n\\tonPullBacklog                   func(addr *ledgerstate.AliasAddress)\\n\\tonPullState                     func(addr *ledgerstate.AliasAddress)\\n\\tonPullConfirmedTransaction      func(addr ledgerstate.Address, txid ledgerstate.TransactionID)\\n\\tonPullTransactionInclusionState func(addr ledgerstate.Address, txid ledgerstate.TransactionID)\\n\\tonPullConfirmedOutput           func(addr ledgerstate.Address, outputID ledgerstate.OutputID)\\n\\tonPostTransaction               func(tx *ledgerstate.Transaction)\\n}\\n\\nfunc NewMockedNodeConnection(id string) *MockedNodeConn {\\n\\treturn &MockedNodeConn{id: id}\\n}\\n\\nfunc (m *MockedNodeConn) ID() string {\\n\\treturn m.id\\n}\\n\\nfunc (m *MockedNodeConn) PullBacklog(addr *ledgerstate.AliasAddress) {\\n\\tm.onPullBacklog(addr)\\n}\\n\\nfunc (m *MockedNodeConn) PullState(addr *ledgerstate.AliasAddress) {\\n\\tm.onPullState(addr)\\n}\\n\\nfunc (m *MockedNodeConn) PullConfirmedTransaction(addr ledgerstate.Address, txid ledgerstate.TransactionID) {\\n\\tm.onPullConfirmedTransaction(addr, txid)\\n}\\n\\nfunc (m *MockedNodeConn) PullTransactionInclusionState(addr ledgerstate.Address, txid ledgerstate.TransactionID) {\\n\\tm.onPullTransactionInclusionState(addr, txid)\\n}\\n\\nfunc (m *MockedNodeConn) PullConfirmedOutput(addr ledgerstate.Address, outputID ledgerstate.OutputID) {\\n\\tm.onPullConfirmedOutput(addr, outputID)\\n}\\n\\nfunc (m *MockedNodeConn) PostTransaction(tx *ledgerstate.Transaction) {\\n\\tm.onPostTransaction(tx)\\n}\\n\\nfunc (m *MockedNodeConn) OnPullBacklog(f func(addr *ledgerstate.AliasAddress)) {\\n\\tm.onPullBacklog = f\\n}\\n\\nfunc (m *MockedNodeConn) OnPullState(f func(addr *ledgerstate.AliasAddress)) {\\n\\tm.onPullState = f\\n}\\n\\nfunc (m *MockedNodeConn) OnPullConfirmedTransaction(f func(addr ledgerstate.Address, txid ledgerstate.TransactionID)) {\\n\\tm.onPullConfirmedTransaction = f\\n}\\n\\nfunc (m *MockedNodeConn) OnPullTransactionInclusionState(f func(addr ledgerstate.Address, txid ledgerstate.TransactionID)) {\\n\\tm.onPullTransactionInclusionState = f\\n}\\n\\nfunc (m *MockedNodeConn) OnPullConfirmedOutput(f func(addr ledgerstate.Address, outputID ledgerstate.OutputID)) {\\n\\tm.onPullConfirmedOutput = f\\n}\\n\\nfunc (m *MockedNodeConn) OnPostTransaction(f func(tx *ledgerstate.Transaction)) {\\n\\tm.onPostTransaction = f\\n}\\n',\n",
       "   'role': 'user'}],\n",
       " 'generate_time': 34.32357597351074,\n",
       " 'completion': 'package testchain\\n\\nimport (\\n\\t\"testing\"\\n)\\n\\nfunc TestMockedNodeConnection(t *testing.T) {\\n\\t// Create a mocked node connection\\n\\tmockedConn := NewMockedNodeConnection(\"mocked-node-connection\")\\n\\n\\t// Define test cases\\n\\ttestCases := []struct {\\n\\t\\tname     string\\n\\t\\tinput    string\\n\\t\\texpected string\\n\\t}{\\n\\t\\t{\\n\\t\\t\\tname:     \"PullBacklog\",\\n\\t\\t\\tinput:    \"mocked-node-connection.PullBacklog(&ledgerstate.AliasAddress{})\",\\n\\t\\t\\texpected: \"mocked-node-connection.PullBacklog(&ledgerstate.AliasAddress{})\",\\n\\t\\t},\\n\\t\\t{\\n\\t\\t\\tname:     \"PullState\",\\n\\t\\t\\tinput:    \"mocked-node-connection.PullState(&ledgerstate.AliasAddress{})\",\\n\\t\\t\\texpected: \"mocked-node-connection.PullState(&ledgerstate.AliasAddress{})\",\\n\\t\\t},\\n\\t\\t{\\n\\t\\t\\tname:     \"PullConfirmedTransaction\",\\n\\t\\t\\tinput:    \"mocked-node-connection.PullConfirmedTransaction(ledgerstate.Address{}, ledgerstate.TransactionID{})\",\\n\\t\\t\\texpected: \"mocked-node-connection.PullConfirmedTransaction(ledgerstate.Address{}, ledgerstate.TransactionID{})\",\\n\\t\\t},\\n\\t\\t{\\n\\t\\t\\tname:     \"PullTransactionInclusionState\",\\n\\t\\t\\tinput:    \"mocked-node-connection.PullTransactionInclusionState(ledgerstate.Address{}, ledgerstate.TransactionID{})\",\\n\\t\\t\\texpected: \"mocked-node-connection.PullTransactionInclusionState(ledgerstate.Address{}, ledgerstate.TransactionID{})\",\\n\\t\\t},\\n\\t\\t{\\n\\t\\t\\tname:     \"PullConfirmedOutput\",\\n\\t\\t\\tinput:    \"mocked-node-connection.PullConfirmedOutput(ledgerstate.Address{}, ledgerstate.OutputID{})\",\\n\\t\\t\\texpected: \"mocked-node-connection.PullConfirmedOutput(ledgerstate.Address{}, ledgerstate.OutputID{})\",\\n\\t\\t},\\n\\t\\t{\\n\\t\\t\\tname:     \"PostTransaction\",\\n\\t\\t\\tinput:    \"mocked-node-connection.PostTransaction(&ledgerstate.Transaction{})\",\\n\\t\\t\\texpected: \"mocked-node-connection.PostTransaction(&ledgerstate.Transaction{})\",\\n\\t\\t},\\n\\t}\\n\\n\\t// Run tests\\n\\tfor _, tc := range testCases {\\n\\t\\tt.Run(tc.name, func(t *testing.T) {\\n\\t\\t\\t// Execute the input code\\n\\t\\t\\toutput := eval(tc.input)\\n\\n\\t\\t\\t// Check if the output matches the expected output\\n\\t\\t\\tif output != tc.expected {\\n\\t\\t\\t\\tt.Errorf(\"Expected %s, got %s\", tc.expected, output)\\n\\t\\t\\t}\\n\\t\\t})\\n\\t}\\n}\\n<|repo_name|>iotaledger/goshimmer/packages/ledgerstate\\npackage ledgerstate\\n\\nimport (\\n\\t\"github.com/iotaledger/goshimmer/packages/ledger\"\\n\\t\"github.com/iotaledger/goshimmer/packages/ledger/transaction\"\\n\\t\"github.com/iotaledger/goshimmer/packages/ledger/vote\"\\n\\t\"github.com/iotaledger/goshimmer/packages/protocol\"\\n\\t\"github.com/iotaledger/goshimmer/packages/protocol/consensus\"\\n\\t\"github.com/iotaledger/goshimmer/packages/protocol/consensus/consensusstate\"\\n\\t\"github.com/iotaledger/goshimmer/packages/protocol/consensus/consensusstate/consensusstatev1\"\\n\\t\"github.com/iotaledger/goshimmer/packages/protocol/consensus/consensusstate/consensusstatev2\"\\n\\t\"github.com/iotaledger/goshimmer/packages/protocol/consensus/consensusstate/consensusstatev3\"\\n\\t\"github.com/iotaledger/goshimmer/packages/protocol/consensus/consensusstate/consensusstatev4\"\\n\\t\"github.com/iotaledger/goshimmer/packages/protocol/consensus/consensusstate/consensusstatev5\"\\n\\t\"github.com/iotaledger/goshimmer/packages/protocol/consensus/consensusstate/consensusstatev6\"\\n\\t\"github.com/iotaledger/goshimmer/packages/protocol/consensus/consensusstate/consensusstatev7\"\\n\\t\"github.com/iotaledger/goshimmer/packages/protocol/consensus/consensusstate/consensusstatev8\"\\n\\t\"github.com/iotaledger/goshimmer/packages/protocol/consensus/consensusstate/consensusstatev9\"\\n\\t\"github.com/iotaledger/goshimmer/packages/protocol/consensus/consensusstate/consensusstatev10\"\\n\\t\"github.com/iotaledger/goshimmer/packages/protocol/consensus/consensusstate/consensusstatev11\"\\n\\t\"github.com/iotaledger/goshimmer/packages/protocol/consensus/consensusstate/consensusstatev12\"\\n\\t\"github.com/iotaledger/goshimmer/packages/protocol/consensus/consensusstate/consensusstatev13\"\\n\\t\"github.com/iotaledger/goshimmer/packages/protocol/consensus/consensusstate/consensusstatev14\"\\n\\t\"github.com/iotaledger/goshimmer/packages/protocol/consensus/consensusstate/consensusstatev15\"\\n\\t\"github.com/iotaledger/goshimmer/packages/protocol/consensus/consensusstate/consensusstatev16\"\\n\\t\"github.com/iotaledger/goshimmer/packages/protocol/consensus/consensusstate/consensusstatev17\"\\n\\t\"github.com/iotaledger/goshimmer/packages/protocol/consensus/consensusstate/consensusstatev18\"\\n\\t\"github.com/iotaledger/goshimmer/packages/protocol/consensus/consensusstate/consensusstatev19\"\\n\\t\"github.com/iotaledger/goshimmer/packages/protocol/consensus/consensusstate/consensusstatev20\"\\n\\t\"github.com/iotaledger/goshimmer/packages/protocol/consensus/consensusstate/',\n",
       " 'score_time': 0.22977066040039062,\n",
       " 'result': {'coverage': 0.0,\n",
       "  'error': \"goimports: code 2, 'strderr' /home/djvue/dev/vkr/data/repos/8844bcf1e44c80eb6c94e96c1c0466177f3bba94/packages/testutil/testchain//m_llm_test.go:62:1: expected declaration, found '<'\\n/home/djvue/dev/vkr/data/repos/8844bcf1e44c80eb6c94e96c1c0466177f3bba94/packages/testutil/testchain//m_llm_test.go:65:1: imports must appear before other declarations\\n/home/djvue/dev/vkr/data/repos/8844bcf1e44c80eb6c94e96c1c0466177f3bba94/packages/testutil/testchain//m_llm_test.go:92:2: string literal not terminated\\n <class 'Exception'>\",\n",
       "  'error_type': 'goimports',\n",
       "  'mutation_score': 0.0,\n",
       "  'test_results': {'all_passed': 0,\n",
       "   'failed': 0,\n",
       "   'passed': 0,\n",
       "   'root_failed': 0,\n",
       "   'root_passed': 0}},\n",
       " 'reward': 0.0}"
      ]
     },
     "execution_count": 4,
     "metadata": {},
     "output_type": "execute_result"
    }
   ],
   "source": [
    "results = {}\n",
    "for i, row in tqdm(enumerate(by_file_test_with_completions_qwen_ds), total=len(by_file_test_with_completions_qwen_ds)):\n",
    "    results[(row['project_path'], row['relative_package_path'], row['relative_file_path'])] = await score_row(row)\n",
    "\n",
    "by_file_test_scored_qwen_ds = by_file_test_with_completions_qwen_ds.map(lambda row: results[(row['project_path'], row['relative_package_path'], row['relative_file_path'])], num_proc=1)\n",
    "\n",
    "by_file_test_scored_qwen_ds.save_to_disk(DATA_DIR+'/by_file_test_scored_qwen_ds')\n",
    "\n",
    "print(by_file_test_scored_qwen_ds)\n",
    "by_file_test_scored_qwen_ds[0]               "
   ]
  },
  {
   "cell_type": "code",
   "execution_count": null,
   "metadata": {},
   "outputs": [],
   "source": [
    "by_file_test_with_completions_dophine_ds = datasets.load_from_disk(DATA_DIR+'/by_file_test_with_completions_dophine_ds')"
   ]
  },
  {
   "cell_type": "code",
   "execution_count": 8,
   "metadata": {},
   "outputs": [
    {
     "data": {
      "application/vnd.jupyter.widget-view+json": {
       "model_id": "57a39567441349899b07cdb8bdca42d4",
       "version_major": 2,
       "version_minor": 0
      },
      "text/plain": [
       "  0%|          | 0/500 [00:00<?, ?it/s]"
      ]
     },
     "metadata": {},
     "output_type": "display_data"
    },
    {
     "data": {
      "application/vnd.jupyter.widget-view+json": {
       "model_id": "92607bc8b7a94e068a9c2db07a4b19d3",
       "version_major": 2,
       "version_minor": 0
      },
      "text/plain": [
       "Map:   0%|          | 0/500 [00:00<?, ? examples/s]"
      ]
     },
     "metadata": {},
     "output_type": "display_data"
    },
    {
     "data": {
      "application/vnd.jupyter.widget-view+json": {
       "model_id": "2d13efc17d34486097da1c1845c74b79",
       "version_major": 2,
       "version_minor": 0
      },
      "text/plain": [
       "Saving the dataset (0/1 shards):   0%|          | 0/500 [00:00<?, ? examples/s]"
      ]
     },
     "metadata": {},
     "output_type": "display_data"
    },
    {
     "name": "stdout",
     "output_type": "stream",
     "text": [
      "Dataset({\n",
      "    features: ['project_path', 'relative_package_path', 'relative_file_path', 'prompt', 'generate_time', 'completion', 'score_time', 'result', 'reward'],\n",
      "    num_rows: 500\n",
      "})\n"
     ]
    },
    {
     "data": {
      "text/plain": [
       "{'project_path': '8844bcf1e44c80eb6c94e96c1c0466177f3bba94/',\n",
       " 'relative_package_path': 'packages/testutil/testchain/',\n",
       " 'relative_file_path': 'packages/testutil/testchain/mock_nodeconn.go',\n",
       " 'prompt': [{'content': '\\nYou are an expert programmer. \\nYou should only return output test file containing working code.\\nThe user is going to give you code and would like to have unit tests for the first file.\\nAll the other files are just dependencies to give you context of all the possible test cases to produce.\\nCover all possible inputs and their respective outputs using tests.\\nEach subtest must be wrapped into t.Run\\n',\n",
       "   'role': 'system'},\n",
       "  {'content': 'package testchain\\n\\nimport (\\n\\t\"github.com/iotaledger/goshimmer/packages/ledgerstate\"\\n)\\n\\ntype MockedNodeConn struct {\\n\\tid                              string\\n\\tonPullBacklog                   func(addr *ledgerstate.AliasAddress)\\n\\tonPullState                     func(addr *ledgerstate.AliasAddress)\\n\\tonPullConfirmedTransaction      func(addr ledgerstate.Address, txid ledgerstate.TransactionID)\\n\\tonPullTransactionInclusionState func(addr ledgerstate.Address, txid ledgerstate.TransactionID)\\n\\tonPullConfirmedOutput           func(addr ledgerstate.Address, outputID ledgerstate.OutputID)\\n\\tonPostTransaction               func(tx *ledgerstate.Transaction)\\n}\\n\\nfunc NewMockedNodeConnection(id string) *MockedNodeConn {\\n\\treturn &MockedNodeConn{id: id}\\n}\\n\\nfunc (m *MockedNodeConn) ID() string {\\n\\treturn m.id\\n}\\n\\nfunc (m *MockedNodeConn) PullBacklog(addr *ledgerstate.AliasAddress) {\\n\\tm.onPullBacklog(addr)\\n}\\n\\nfunc (m *MockedNodeConn) PullState(addr *ledgerstate.AliasAddress) {\\n\\tm.onPullState(addr)\\n}\\n\\nfunc (m *MockedNodeConn) PullConfirmedTransaction(addr ledgerstate.Address, txid ledgerstate.TransactionID) {\\n\\tm.onPullConfirmedTransaction(addr, txid)\\n}\\n\\nfunc (m *MockedNodeConn) PullTransactionInclusionState(addr ledgerstate.Address, txid ledgerstate.TransactionID) {\\n\\tm.onPullTransactionInclusionState(addr, txid)\\n}\\n\\nfunc (m *MockedNodeConn) PullConfirmedOutput(addr ledgerstate.Address, outputID ledgerstate.OutputID) {\\n\\tm.onPullConfirmedOutput(addr, outputID)\\n}\\n\\nfunc (m *MockedNodeConn) PostTransaction(tx *ledgerstate.Transaction) {\\n\\tm.onPostTransaction(tx)\\n}\\n\\nfunc (m *MockedNodeConn) OnPullBacklog(f func(addr *ledgerstate.AliasAddress)) {\\n\\tm.onPullBacklog = f\\n}\\n\\nfunc (m *MockedNodeConn) OnPullState(f func(addr *ledgerstate.AliasAddress)) {\\n\\tm.onPullState = f\\n}\\n\\nfunc (m *MockedNodeConn) OnPullConfirmedTransaction(f func(addr ledgerstate.Address, txid ledgerstate.TransactionID)) {\\n\\tm.onPullConfirmedTransaction = f\\n}\\n\\nfunc (m *MockedNodeConn) OnPullTransactionInclusionState(f func(addr ledgerstate.Address, txid ledgerstate.TransactionID)) {\\n\\tm.onPullTransactionInclusionState = f\\n}\\n\\nfunc (m *MockedNodeConn) OnPullConfirmedOutput(f func(addr ledgerstate.Address, outputID ledgerstate.OutputID)) {\\n\\tm.onPullConfirmedOutput = f\\n}\\n\\nfunc (m *MockedNodeConn) OnPostTransaction(f func(tx *ledgerstate.Transaction)) {\\n\\tm.onPostTransaction = f\\n}\\n',\n",
       "   'role': 'user'}],\n",
       " 'generate_time': 4.455384969711304,\n",
       " 'completion': '```go\\npackage testchain\\n\\nimport (\\n\\t\"github.com/iotaledger/goshimmer/packages/ledgerstate\"\\n)\\n\\nfunc TestMockedNodeConnection(t *testing.T) {\\n\\tmockConn := NewMockedNodeConnection(\"mockConnId\")\\n\\n\\t// Test PullBacklog\\n\\tmockConn.PullBacklog(&ledgerstate.AliasAddress{})\\n\\tassert := t.NoError(t)\\n\\tassert.Equal(t, \"mockConnId\", mockConn.ID())\\n\\n\\t// Test PullState\\n\\tmockConn.PullState(&ledgerstate.AliasAddress{})\\n\\tassert := t.NoError(t)\\n\\tassert.Equal(t, \"mockConnId\", mockConn.ID())\\n\\n\\t// Test PullConfirmedTransaction\\n\\tmockConn.PullConfirmedTransaction(&ledgerstate.Address{}, ledgerstate.TransactionID{})\\n\\tassert := t.NoError(t)\\n\\tassert.Equal(t, \"mockConnId\", mockConn.ID())\\n\\n\\t// Test PullTransactionInclusionState\\n\\tmockConn.PullTransactionInclusionState(&ledgerstate.Address{}, ledgerstate.TransactionID{})\\n\\tassert := t.NoError(t)\\n\\tassert.Equal(t, \"mockConnId\", mockConn.ID())\\n\\n\\t// Test PullConfirmedOutput\\n\\tmockConn.PullConfirmedOutput(&ledgerstate.Address{}, ledgerstate.OutputID{})\\n\\tassert := t.NoError(t)\\n\\tassert.Equal(t, \"mockConnId\", mockConn.ID())\\n\\n\\t// Test PostTransaction\\n\\tmockConn.PostTransaction(&ledgerstate.Transaction{})\\n\\tassert := t.NoError(t)\\n\\tassert.Equal(t, \"mockConnId\", mockConn.ID())\\n}\\n```',\n",
       " 'score_time': 3.9462039470672607,\n",
       " 'result': {'coverage': 0.0,\n",
       "  'error': 'go test build failed: stdout = {\"ImportPath\":\"github.com/iotaledger/wasp/packages/testutil/testchain [github.com/iotaledger/wasp/packages/testutil/testchain.test]\",\"Action\":\"build-output\",\"Output\":\"# github.com/iotaledger/wasp/packages/testutil/testchain [github.com/iotaledger/wasp/packages/testutil/testchain.test]\\\\n\"}\\n{\"ImportPath\":\"github.com/iotaledger/wasp/packages/testutil/testchain [github.com/iotaledger/wasp/packages/testutil/testchain.test]\",\"Action\":\"build-output\",\"Output\":\"packages/testutil/testchain/m_llm_test.go:14:14: t.NoError undefined (type *testing.T has no field or method NoError)\\\\n\"}\\n{\"ImportPath\":\"github.com/iotaledger/wasp/packages/testutil/testchain [github.com/iotaledger/wasp/packages/testutil/testchain.test]\",\"Action\":\"build-output\",\"Output\":\"packages/testutil/testchain/m_llm_test.go:19:9: no new variables on left side of :=\\\\n\"}\\n{\"ImportPath\":\"github.com/iotaledger/wasp/packages/testutil/testchain [github.com/iotaledger/wasp/packages/testutil/testchain.test]\",\"Action\":\"build-output\",\"Output\":\"packages/testutil/testchain/m_llm_test.go:19:14: t.NoError undefined (type *testing.T has no field or method NoError)\\\\n\"}\\n{\"ImportPath\":\"github.com/iotaledger/wasp/packages/testutil/testchain [github.com/iotaledger/wasp/packages/testutil/testchain.test]\",\"Action\":\"build-output\",\"Output\":\"packages/testutil/testchain/m_llm_test.go:23:37: invalid composite literal type ledgerstate.Address\\\\n\"}\\n{\"ImportPath\":\"github.com/iotaledger/wasp/packages/testutil/testchain [github.com/iotaledger/wasp/packages/testutil/testchain.test]\",\"Action\":\"build-output\",\"Output\":\"packages/testutil/testchain/m_llm_test.go:24:9: no new variables on left side of :=\\\\n\"}\\n{\"ImportPath\":\"github.com/iotaledger/wasp/packages/testutil/testchain [github.com/iotaledger/wasp/packages/testutil/testchain.test]\",\"Action\":\"build-output\",\"Output\":\"packages/testutil/testchain/m_llm_test.go:24:14: t.NoError undefined (type *testing.T has no field or method NoError)\\\\n\"}\\n{\"ImportPath\":\"github.com/iotaledger/wasp/packages/testutil/testchain [github.com/iotaledger/wasp/packages/testutil/testchain.test]\",\"Action\":\"build-output\",\"Output\":\"packages/testutil/testchain/m_llm_test.go:28:42: invalid composite literal type ledgerstate.Address\\\\n\"}\\n{\"ImportPath\":\"github.com/iotaledger/wasp/packages/testutil/testchain [github.com/iotaledger/wasp/packages/testutil/testchain.test]\",\"Action\":\"build-output\",\"Output\":\"packages/testutil/testchain/m_llm_test.go:29:9: no new variables on left side of :=\\\\n\"}\\n{\"ImportPath\":\"github.com/iotaledger/wasp/packages/testutil/testchain [github.com/iotaledger/wasp/packages/testutil/testchain.test]\",\"Action\":\"build-output\",\"Output\":\"packages/testutil/testchain/m_llm_test.go:29:14: t.NoError undefined (type *testing.T has no field or method NoError)\\\\n\"}\\n{\"ImportPath\":\"github.com/iotaledger/wasp/packages/testutil/testchain [github.com/iotaledger/wasp/packages/testutil/testchain.test]\",\"Action\":\"build-output\",\"Output\":\"packages/testutil/testchain/m_llm_test.go:33:32: invalid composite literal type ledgerstate.Address\\\\n\"}\\n{\"ImportPath\":\"github.com/iotaledger/wasp/packages/testutil/testchain [github.com/iotaledger/wasp/packages/testutil/testchain.test]\",\"Action\":\"build-output\",\"Output\":\"packages/testutil/testchain/m_llm_test.go:33:32: too many errors\\\\n\"}\\n{\"ImportPath\":\"github.com/iotaledger/wasp/packages/testutil/testchain [github.com/iotaledger/wasp/packages/testutil/testchain.test]\",\"Action\":\"build-fail\"}\\n{\"Time\":\"2025-05-22T16:11:26.59927535+03:00\",\"Action\":\"start\",\"Package\":\"github.com/iotaledger/wasp/packages/testutil/testchain\"}\\n{\"Time\":\"2025-05-22T16:11:26.599334158+03:00\",\"Action\":\"output\",\"Package\":\"github.com/iotaledger/wasp/packages/testutil/testchain\",\"Output\":\"FAIL\\\\tgithub.com/iotaledger/wasp/packages/testutil/testchain [build failed]\\\\n\"}\\n{\"Time\":\"2025-05-22T16:11:26.599342844+03:00\",\"Action\":\"fail\",\"Package\":\"github.com/iotaledger/wasp/packages/testutil/testchain\",\"Elapsed\":0,\"FailedBuild\":\"github.com/iotaledger/wasp/packages/testutil/testchain [github.com/iotaledger/wasp/packages/testutil/testchain.test]\"}\\n, stderr =  <class \\'Exception\\'>',\n",
       "  'error_type': 'test_build_failed',\n",
       "  'mutation_score': 0.0,\n",
       "  'test_results': {'all_passed': 0,\n",
       "   'failed': 0,\n",
       "   'passed': 0,\n",
       "   'root_failed': 0,\n",
       "   'root_passed': 0}},\n",
       " 'reward': 0.0}"
      ]
     },
     "execution_count": 8,
     "metadata": {},
     "output_type": "execute_result"
    }
   ],
   "source": [
    "results = {}\n",
    "for i, row in tqdm(enumerate(by_file_test_with_completions_dophine_ds), total=len(by_file_test_with_completions_dophine_ds)):\n",
    "    results[(row['project_path'], row['relative_package_path'], row['relative_file_path'])] = await score_row(row)\n",
    "\n",
    "by_file_test_scored_dophine_ds = by_file_test_with_completions_dophine_ds.map(lambda row: results[(row['project_path'], row['relative_package_path'], row['relative_file_path'])], num_proc=1)\n",
    "\n",
    "by_file_test_scored_dophine_ds.save_to_disk(DATA_DIR+'/by_file_test_scored_dophine_ds')\n",
    "\n",
    "print(by_file_test_scored_dophine_ds)\n",
    "by_file_test_scored_dophine_ds[0]               "
   ]
  },
  {
   "cell_type": "markdown",
   "metadata": {},
   "source": [
    "### Анализ результатов"
   ]
  },
  {
   "cell_type": "code",
   "execution_count": null,
   "metadata": {},
   "outputs": [],
   "source": []
  },
  {
   "cell_type": "code",
   "execution_count": 4,
   "metadata": {},
   "outputs": [],
   "source": [
    "df1 = datasets.load_from_disk(DATA_DIR+'/by_file_test_scored_ds').to_pandas()\n",
    "df1['model'] = 'deepseek'\n",
    "df2 = datasets.load_from_disk(DATA_DIR+'/by_file_test_scored_qwen_ds').to_pandas()\n",
    "df2['model'] = 'qwen'\n",
    "df3 = datasets.load_from_disk(DATA_DIR+'/by_file_test_scored_dophine_ds').to_pandas()\n",
    "df3['model'] = 'dophine'\n",
    "\n",
    "df = pd.concat([df1, df2, df3])"
   ]
  },
  {
   "cell_type": "code",
   "execution_count": 5,
   "metadata": {},
   "outputs": [],
   "source": [
    "df['coverage'] = df['result'].apply(lambda x: float(x['coverage']))\n",
    "df['mutation_score'] = df['result'].apply(lambda x: float(x['mutation_score']))\n",
    "df['error_type'] = df['result'].apply(lambda x: str(x['error_type']))\n",
    "df['all_passed'] = df['result'].apply(lambda x: int(x['test_results']['all_passed']))\n",
    "df['is_error'] = df['error_type'] != ''"
   ]
  },
  {
   "cell_type": "code",
   "execution_count": 7,
   "metadata": {},
   "outputs": [
    {
     "name": "stdout",
     "output_type": "stream",
     "text": [
      "error count {'deepseek': 370, 'qwen': 499, 'dophine': 412}\n"
     ]
    },
    {
     "data": {
      "text/html": [
       "<div>\n",
       "<style scoped>\n",
       "    .dataframe tbody tr th:only-of-type {\n",
       "        vertical-align: middle;\n",
       "    }\n",
       "\n",
       "    .dataframe tbody tr th {\n",
       "        vertical-align: top;\n",
       "    }\n",
       "\n",
       "    .dataframe thead th {\n",
       "        text-align: right;\n",
       "    }\n",
       "</style>\n",
       "<table border=\"1\" class=\"dataframe\">\n",
       "  <thead>\n",
       "    <tr style=\"text-align: right;\">\n",
       "      <th></th>\n",
       "      <th>deepseek</th>\n",
       "      <th>qwen</th>\n",
       "      <th>dophine</th>\n",
       "    </tr>\n",
       "    <tr>\n",
       "      <th>error_type</th>\n",
       "      <th></th>\n",
       "      <th></th>\n",
       "      <th></th>\n",
       "    </tr>\n",
       "  </thead>\n",
       "  <tbody>\n",
       "    <tr>\n",
       "      <th>completion_parse</th>\n",
       "      <td>133</td>\n",
       "      <td>499.0</td>\n",
       "      <td>289</td>\n",
       "    </tr>\n",
       "    <tr>\n",
       "      <th>get_deps</th>\n",
       "      <td>7</td>\n",
       "      <td>NaN</td>\n",
       "      <td>2</td>\n",
       "    </tr>\n",
       "    <tr>\n",
       "      <th>go_tool_cover</th>\n",
       "      <td>34</td>\n",
       "      <td>NaN</td>\n",
       "      <td>16</td>\n",
       "    </tr>\n",
       "    <tr>\n",
       "      <th>goimports</th>\n",
       "      <td>5</td>\n",
       "      <td>NaN</td>\n",
       "      <td>16</td>\n",
       "    </tr>\n",
       "    <tr>\n",
       "      <th>other</th>\n",
       "      <td>21</td>\n",
       "      <td>NaN</td>\n",
       "      <td>13</td>\n",
       "    </tr>\n",
       "    <tr>\n",
       "      <th>test_build_failed</th>\n",
       "      <td>170</td>\n",
       "      <td>NaN</td>\n",
       "      <td>76</td>\n",
       "    </tr>\n",
       "  </tbody>\n",
       "</table>\n",
       "</div>"
      ],
      "text/plain": [
       "                   deepseek   qwen  dophine\n",
       "error_type                                 \n",
       "completion_parse        133  499.0      289\n",
       "get_deps                  7    NaN        2\n",
       "go_tool_cover            34    NaN       16\n",
       "goimports                 5    NaN       16\n",
       "other                    21    NaN       13\n",
       "test_build_failed       170    NaN       76"
      ]
     },
     "execution_count": 7,
     "metadata": {},
     "output_type": "execute_result"
    }
   ],
   "source": [
    "print('error count', {model: len(df.query('model == \"'+model+'\" and is_error')) for model in ['deepseek', 'qwen', 'dophine']})\n",
    "\n",
    "pd.DataFrame.from_dict({model: df.query('model == \"'+model+'\" and is_error')['error_type'].value_counts() for model in ['deepseek', 'qwen', 'dophine']})"
   ]
  },
  {
   "cell_type": "code",
   "execution_count": 9,
   "metadata": {},
   "outputs": [
    {
     "name": "stdout",
     "output_type": "stream",
     "text": [
      "reward 0.062992721\n",
      "coverage 13.200913242009133\n",
      "mutation_score 0.2923137313432836\n",
      "all_passed_count 67\n"
     ]
    },
    {
     "data": {
      "text/html": [
       "<div>\n",
       "<style scoped>\n",
       "    .dataframe tbody tr th:only-of-type {\n",
       "        vertical-align: middle;\n",
       "    }\n",
       "\n",
       "    .dataframe tbody tr th {\n",
       "        vertical-align: top;\n",
       "    }\n",
       "\n",
       "    .dataframe thead th {\n",
       "        text-align: right;\n",
       "    }\n",
       "</style>\n",
       "<table border=\"1\" class=\"dataframe\">\n",
       "  <thead>\n",
       "    <tr style=\"text-align: right;\">\n",
       "      <th></th>\n",
       "      <th>deepseek</th>\n",
       "      <th>qwen</th>\n",
       "      <th>dophine</th>\n",
       "    </tr>\n",
       "  </thead>\n",
       "  <tbody>\n",
       "    <tr>\n",
       "      <th>reward</th>\n",
       "      <td>0.177200</td>\n",
       "      <td>0.0</td>\n",
       "      <td>0.011779</td>\n",
       "    </tr>\n",
       "    <tr>\n",
       "      <th>coverage</th>\n",
       "      <td>21.313846</td>\n",
       "      <td>0.0</td>\n",
       "      <td>1.365909</td>\n",
       "    </tr>\n",
       "    <tr>\n",
       "      <th>mutation_score</th>\n",
       "      <td>0.297437</td>\n",
       "      <td>NaN</td>\n",
       "      <td>0.248403</td>\n",
       "    </tr>\n",
       "    <tr>\n",
       "      <th>all_passed_count</th>\n",
       "      <td>60.000000</td>\n",
       "      <td>0.0</td>\n",
       "      <td>7.000000</td>\n",
       "    </tr>\n",
       "  </tbody>\n",
       "</table>\n",
       "</div>"
      ],
      "text/plain": [
       "                   deepseek  qwen   dophine\n",
       "reward             0.177200   0.0  0.011779\n",
       "coverage          21.313846   0.0  1.365909\n",
       "mutation_score     0.297437   NaN  0.248403\n",
       "all_passed_count  60.000000   0.0  7.000000"
      ]
     },
     "execution_count": 9,
     "metadata": {},
     "output_type": "execute_result"
    }
   ],
   "source": [
    "print('reward', df['reward'].mean())\n",
    "print('coverage', df.query('is_error == False')['coverage'].mean())\n",
    "print('mutation_score', df.query('all_passed == 1')['mutation_score'].mean())\n",
    "print('all_passed_count', len(df.query('all_passed == 1')['mutation_score']))\n",
    "\n",
    "pd.DataFrame.from_dict({model: {\n",
    "    'reward': df.query('model == \"'+model+'\"')['reward'].mean(),\n",
    "    'coverage': df.query('model == \"'+model+'\" and is_error == False')['coverage'].mean(),\n",
    "    'mutation_score': df.query('model == \"'+model+'\" and all_passed == 1')['mutation_score'].mean(),\n",
    "    'all_passed_count': len(df.query('model == \"'+model+'\" and all_passed == 1')),\n",
    "} for model in ['deepseek', 'qwen', 'dophine']})"
   ]
  },
  {
   "cell_type": "code",
   "execution_count": null,
   "metadata": {},
   "outputs": [],
   "source": []
  }
 ],
 "metadata": {
  "kernelspec": {
   "display_name": ".venv",
   "language": "python",
   "name": "python3"
  },
  "language_info": {
   "codemirror_mode": {
    "name": "ipython",
    "version": 3
   },
   "file_extension": ".py",
   "mimetype": "text/x-python",
   "name": "python",
   "nbconvert_exporter": "python",
   "pygments_lexer": "ipython3",
   "version": "3.12.10"
  }
 },
 "nbformat": 4,
 "nbformat_minor": 2
}
