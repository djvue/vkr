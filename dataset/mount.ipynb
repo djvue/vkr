{
 "cells": [
  {
   "cell_type": "markdown",
   "id": "eb2b5013",
   "metadata": {},
   "source": [
    "В data/repos и data/repo_archives будет скачан большой объем архивов репозиториев и распакованы много репозиториев, что потребует 1.5ТБ свободного пространства. Можно замаунтить директории с диска достаточного размера"
   ]
  },
  {
   "cell_type": "code",
   "execution_count": null,
   "id": "99e6cc61",
   "metadata": {},
   "outputs": [],
   "source": [
    "!ln -s /media/hdd_1/vkr/data/repos ../data/repos\n",
    "!ln -s /media/hdd_1/vkr/data/repo_archives ../data/repo_archives"
   ]
  }
 ],
 "metadata": {
  "kernelspec": {
   "display_name": ".venv",
   "language": "python",
   "name": "python3"
  },
  "language_info": {
   "codemirror_mode": {
    "name": "ipython",
    "version": 3
   },
   "file_extension": ".py",
   "mimetype": "text/x-python",
   "name": "python",
   "nbconvert_exporter": "python",
   "pygments_lexer": "ipython3",
   "version": "3.11.12"
  }
 },
 "nbformat": 4,
 "nbformat_minor": 5
}
