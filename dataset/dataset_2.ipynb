{
 "cells": [
  {
   "cell_type": "markdown",
   "metadata": {},
   "source": [
    "# Подготовка датасета - 3 часть, генерация по функциям"
   ]
  },
  {
   "cell_type": "markdown",
   "metadata": {},
   "source": [
    "### Импорты и сетап окружения"
   ]
  },
  {
   "cell_type": "code",
   "execution_count": 1,
   "metadata": {
    "ExecuteTime": {
     "end_time": "2025-04-06T09:36:35.720883Z",
     "start_time": "2025-04-06T09:36:34.354367Z"
    }
   },
   "outputs": [],
   "source": [
    "import datasets\n",
    "import os\n",
    "import pandas as pd\n",
    "import subprocess\n",
    "import re\n",
    "from tqdm.notebook import tqdm\n",
    "from pathlib import Path\n",
    "import asyncio\n",
    "import aiopath\n",
    "import sys\n",
    "\n",
    "ROOT_DIR = str(aiopath.AsyncPath.cwd().parent)\n",
    "DATA_DIR = ROOT_DIR+'/data'\n",
    "REPOS_DIR = DATA_DIR+'/repos'\n",
    "if ROOT_DIR not in sys.path:\n",
    "    sys.path.append(ROOT_DIR)\n",
    "\n",
    "from dataset.prompt import get_package_rows\n",
    "\n",
    "gvm_root = os.environ['GVM_ROOT']\n",
    "os.environ['PATH'] = f\"{gvm_root}/bin:{gvm_root}/pkgsets/go1.24.2/global/bin:{gvm_root}/gos/go1.24.2/bin:{gvm_root}/pkgsets/go1.24.2/global/overlay/bin:{os.environ['PATH']}\""
   ]
  },
  {
   "cell_type": "markdown",
   "metadata": {},
   "source": [
    "В части 1 [dataset_0](./dataset_0.ipynb) подготовлен датасет test_candidates_ds с отфильтрованными файлами\n",
    "\n",
    "В части 2 генерация по файлам [dataset_1](./dataset_1.ipynb) исследован путь генерации тестов на основе исходных файлов, и он показал себя плохо.\n",
    "\n",
    "Принято решение идти по другому пути, генерировать тесты для отдельных функций и собирать промпт из тестируемой функции и ее зависимостей"
   ]
  },
  {
   "cell_type": "markdown",
   "metadata": {},
   "source": [
    "### Разбор пакетов go на функции и пересборка датасета, где каждый пример - отдельная функция"
   ]
  },
  {
   "cell_type": "code",
   "execution_count": 2,
   "metadata": {},
   "outputs": [
    {
     "data": {
      "application/vnd.jupyter.widget-view+json": {
       "model_id": "77400815d650473b964447ef1b3a6cd6",
       "version_major": 2,
       "version_minor": 0
      },
      "text/plain": [
       "Generating train split: 0 examples [00:00, ? examples/s]"
      ]
     },
     "metadata": {},
     "output_type": "display_data"
    },
    {
     "name": "stdout",
     "output_type": "stream",
     "text": [
      "Dataset({\n",
      "    features: ['project_path', 'relative_go_package'],\n",
      "    num_rows: 19804\n",
      "})\n"
     ]
    },
    {
     "data": {
      "text/plain": [
       "{'project_path': '52bdf3787c11b0237f5e7864c98b1d0e75af9eb9/revision/',\n",
       " 'relative_go_package': ''}"
      ]
     },
     "execution_count": 2,
     "metadata": {},
     "output_type": "execute_result"
    }
   ],
   "source": [
    "test_candidates_ds = datasets.load_from_disk(DATA_DIR+'/test_candidates_ds')\n",
    "\n",
    "package_candidates = set()\n",
    "\n",
    "for row in test_candidates_ds:\n",
    "    package_candidates.add((row['project_path'], row['relative_go_package']))\n",
    "\n",
    "def package_candidates_ds_row_generator():\n",
    "    for (project_path, relative_go_package) in package_candidates:\n",
    "        yield {\"project_path\": project_path, 'relative_go_package': relative_go_package}\n",
    "\n",
    "package_candidates_ds = datasets.Dataset.from_generator(package_candidates_ds_row_generator)\n",
    "\n",
    "print(package_candidates_ds)\n",
    "\n",
    "package_candidates_ds[0]"
   ]
  },
  {
   "cell_type": "code",
   "execution_count": 3,
   "metadata": {},
   "outputs": [
    {
     "data": {
      "application/vnd.jupyter.widget-view+json": {
       "model_id": "89702a559d2f45798394e1157fd7742b",
       "version_major": 2,
       "version_minor": 0
      },
      "text/plain": [
       "Map (num_proc=6):   0%|          | 0/19804 [00:00<?, ? examples/s]"
      ]
     },
     "metadata": {},
     "output_type": "display_data"
    },
    {
     "data": {
      "application/vnd.jupyter.widget-view+json": {
       "model_id": "85859431d1584c6880867a13a51bdc6a",
       "version_major": 2,
       "version_minor": 0
      },
      "text/plain": [
       "Saving the dataset (0/1 shards):   0%|          | 0/108461 [00:00<?, ? examples/s]"
      ]
     },
     "metadata": {},
     "output_type": "display_data"
    },
    {
     "name": "stdout",
     "output_type": "stream",
     "text": [
      "Dataset({\n",
      "    features: ['project_path', 'relative_go_package', 'func_name', 'input_code', 'prompt'],\n",
      "    num_rows: 108461\n",
      "})\n"
     ]
    },
    {
     "data": {
      "text/plain": [
       "{'project_path': '52bdf3787c11b0237f5e7864c98b1d0e75af9eb9/revision/',\n",
       " 'relative_go_package': '',\n",
       " 'func_name': 'NewStack',\n",
       " 'input_code': 'package main\\n\\nfunc NewStack() *Stack {\\n\\treturn &Stack{\\n\\t\\tnil,\\n\\t\\t0,\\n\\t}\\n}\\n\\ntype Stack struct {\\n\\thead   *Node\\n\\tLength int\\n}\\n\\n',\n",
       " 'prompt': [{'content': '\\nYou are an expert programmer. \\nYou should only return output test file containing working code.\\nThe user is going to give you code and would like to have unit tests for for first function.\\nAll the other functions are just dependencies to give you context of all the possible test cases to produce.\\nCover all possible inputs and their respective outputs using tests.\\nEach subtest must be wrapped into t.Run.\\n',\n",
       "   'role': 'system'},\n",
       "  {'content': 'write unit tests for function NewStack:\\n```go\\npackage main\\n\\nfunc NewStack() *Stack {\\n\\treturn &Stack{\\n\\t\\tnil,\\n\\t\\t0,\\n\\t}\\n}\\n\\ntype Stack struct {\\n\\thead   *Node\\n\\tLength int\\n}\\n\\n```',\n",
       "   'role': 'user'}]}"
      ]
     },
     "execution_count": 3,
     "metadata": {},
     "output_type": "execute_result"
    }
   ],
   "source": [
    "def transform_to_funcs(rows):\n",
    "    columns = ['project_path', 'relative_go_package', 'func_name', 'input_code', 'prompt']\n",
    "    res = {column: [] for column in columns}\n",
    "\n",
    "    for project_path, relative_go_package in zip(rows['project_path'], rows['relative_go_package']):\n",
    "        items = []\n",
    "        try:\n",
    "            items = get_package_rows(project_path, relative_go_package)\n",
    "        except Exception as e:\n",
    "            pass\n",
    "\n",
    "        for item in items:\n",
    "            for column in columns:\n",
    "                res[column].append(item[column])\n",
    "\n",
    "    return res\n",
    "\n",
    "final_ds = package_candidates_ds.map(transform_to_funcs, batched=True, batch_size=1, num_proc=6)\n",
    "\n",
    "final_ds.save_to_disk(DATA_DIR+'/final_ds')\n",
    "\n",
    "print(final_ds)\n",
    "final_ds[0]"
   ]
  },
  {
   "cell_type": "markdown",
   "metadata": {},
   "source": [
    "### Разделяем датасет на валидационную и тренировочную выборки"
   ]
  },
  {
   "cell_type": "code",
   "execution_count": null,
   "metadata": {},
   "outputs": [],
   "source": [
    "final_ds = datasets.load_from_disk(DATA_DIR+'/final_ds')\n",
    "\n",
    "final_ds"
   ]
  },
  {
   "cell_type": "code",
   "execution_count": 9,
   "metadata": {},
   "outputs": [
    {
     "data": {
      "application/vnd.jupyter.widget-view+json": {
       "model_id": "90b45b8cb77345039be5fc20c9bb9b50",
       "version_major": 2,
       "version_minor": 0
      },
      "text/plain": [
       "Saving the dataset (0/1 shards):   0%|          | 0/208976 [00:00<?, ? examples/s]"
      ]
     },
     "metadata": {},
     "output_type": "display_data"
    },
    {
     "data": {
      "application/vnd.jupyter.widget-view+json": {
       "model_id": "b491763bb2a64d1784fffc1976322205",
       "version_major": 2,
       "version_minor": 0
      },
      "text/plain": [
       "Saving the dataset (0/1 shards):   0%|          | 0/52245 [00:00<?, ? examples/s]"
      ]
     },
     "metadata": {},
     "output_type": "display_data"
    },
    {
     "data": {
      "text/plain": [
       "DatasetDict({\n",
       "    train: Dataset({\n",
       "        features: ['project_path', 'relative_go_package', 'func_name', 'input_code', 'prompt'],\n",
       "        num_rows: 208976\n",
       "    })\n",
       "    test: Dataset({\n",
       "        features: ['project_path', 'relative_go_package', 'func_name', 'input_code', 'prompt'],\n",
       "        num_rows: 52245\n",
       "    })\n",
       "})"
      ]
     },
     "execution_count": 9,
     "metadata": {},
     "output_type": "execute_result"
    }
   ],
   "source": [
    "splitted_ds = final_ds.train_test_split(test_size=0.2)\n",
    "\n",
    "splitted_ds.save_to_disk(DATA_DIR+'/splitted_ds')\n",
    "\n",
    "splitted_ds"
   ]
  },
  {
   "cell_type": "code",
   "execution_count": 5,
   "metadata": {},
   "outputs": [
    {
     "data": {
      "text/html": [
       "<div>\n",
       "<style scoped>\n",
       "    .dataframe tbody tr th:only-of-type {\n",
       "        vertical-align: middle;\n",
       "    }\n",
       "\n",
       "    .dataframe tbody tr th {\n",
       "        vertical-align: top;\n",
       "    }\n",
       "\n",
       "    .dataframe thead th {\n",
       "        text-align: right;\n",
       "    }\n",
       "</style>\n",
       "<table border=\"1\" class=\"dataframe\">\n",
       "  <thead>\n",
       "    <tr style=\"text-align: right;\">\n",
       "      <th></th>\n",
       "      <th>project_path</th>\n",
       "      <th>relative_go_package</th>\n",
       "      <th>func_name</th>\n",
       "      <th>input_code</th>\n",
       "      <th>prompt</th>\n",
       "    </tr>\n",
       "  </thead>\n",
       "  <tbody>\n",
       "    <tr>\n",
       "      <th>0</th>\n",
       "      <td>71f5e97beef472b2013d0a7f5f822ab9ee27957a/modul...</td>\n",
       "      <td>pkg/resource/statefulset/</td>\n",
       "      <td>GetStatefulSetPods</td>\n",
       "      <td>package statefulset\\n\\nimport (\\n\\t\"k8s.io/das...</td>\n",
       "      <td>[{'content': '\n",
       "You are an expert programmer. \n",
       "...</td>\n",
       "    </tr>\n",
       "    <tr>\n",
       "      <th>1</th>\n",
       "      <td>806f312c0ddddb3c1d9a418a3b88e78170b7bd5d/</td>\n",
       "      <td>pkg/sql/plan/</td>\n",
       "      <td>buildCreateView</td>\n",
       "      <td>package plan\\n\\nfunc buildCreateView(stmt *tre...</td>\n",
       "      <td>[{'content': '\n",
       "You are an expert programmer. \n",
       "...</td>\n",
       "    </tr>\n",
       "    <tr>\n",
       "      <th>2</th>\n",
       "      <td>02d5139081ebd4d150ec15b476d20543200e9d8e/</td>\n",
       "      <td>cmd/build-oss-fuzz-corpus/</td>\n",
       "      <td>findJSONFilesInDir</td>\n",
       "      <td>package main\\n\\nimport (\\n\\t\"encoding/json\"\\n\\...</td>\n",
       "      <td>[{'content': '\n",
       "You are an expert programmer. \n",
       "...</td>\n",
       "    </tr>\n",
       "    <tr>\n",
       "      <th>3</th>\n",
       "      <td>959dce294c0a43b675f80419f7189393221613d4/pkg/i...</td>\n",
       "      <td>vendor/google.golang.org/grpc/</td>\n",
       "      <td>newPickfirstBuilder</td>\n",
       "      <td>package grpc\\n\\nimport (\\n\\t\"google.golang.org...</td>\n",
       "      <td>[{'content': '\n",
       "You are an expert programmer. \n",
       "...</td>\n",
       "    </tr>\n",
       "    <tr>\n",
       "      <th>4</th>\n",
       "      <td>e6be7abcae9500f8a51d9d601ad181d7f7b4bae9/</td>\n",
       "      <td>pkg/server/</td>\n",
       "      <td>NewCorruptionChecker</td>\n",
       "      <td>package server\\n\\nimport (\\n\\t\"github.com/code...</td>\n",
       "      <td>[{'content': '\n",
       "You are an expert programmer. \n",
       "...</td>\n",
       "    </tr>\n",
       "    <tr>\n",
       "      <th>5</th>\n",
       "      <td>b0d4f27aeddc5b075275fcad2c8da92187025a8b/</td>\n",
       "      <td>pkg/client/</td>\n",
       "      <td>parsePath</td>\n",
       "      <td>package client\\n\\nimport (\\n\\t\"runtime\"\\n\\t\"pa...</td>\n",
       "      <td>[{'content': '\n",
       "You are an expert programmer. \n",
       "...</td>\n",
       "    </tr>\n",
       "    <tr>\n",
       "      <th>6</th>\n",
       "      <td>e6be7abcae9500f8a51d9d601ad181d7f7b4bae9/</td>\n",
       "      <td>pkg/client/cache/</td>\n",
       "      <td>NewHistoryFileCache</td>\n",
       "      <td>package cache\\n\\nimport (\\n\\t\"github.com/coden...</td>\n",
       "      <td>[{'content': '\n",
       "You are an expert programmer. \n",
       "...</td>\n",
       "    </tr>\n",
       "    <tr>\n",
       "      <th>7</th>\n",
       "      <td>ececf7638e93170cf76966d22bc1ca8a8fdc518a/</td>\n",
       "      <td>example/</td>\n",
       "      <td>sleepHandler</td>\n",
       "      <td>package main\\n\\nimport (\\n\\t\"time\"\\n\\t\"net/htt...</td>\n",
       "      <td>[{'content': '\n",
       "You are an expert programmer. \n",
       "...</td>\n",
       "    </tr>\n",
       "    <tr>\n",
       "      <th>8</th>\n",
       "      <td>be85be2aa85821c6f67bd1001505061e007f187f/</td>\n",
       "      <td>pkg/controllers/deploy/</td>\n",
       "      <td>SetPrecheckFunc</td>\n",
       "      <td>package deploy\\n\\nimport (\\n\\t\"sigs.k8s.io/con...</td>\n",
       "      <td>[{'content': '\n",
       "You are an expert programmer. \n",
       "...</td>\n",
       "    </tr>\n",
       "    <tr>\n",
       "      <th>9</th>\n",
       "      <td>e32bdc053f64efc78a9f1fc3ac25cd8af6737425/</td>\n",
       "      <td>providers/softlayer/</td>\n",
       "      <td>init</td>\n",
       "      <td>package softlayer\\n\\nimport (\\n\\t\"github.com/S...</td>\n",
       "      <td>[{'content': '\n",
       "You are an expert programmer. \n",
       "...</td>\n",
       "    </tr>\n",
       "  </tbody>\n",
       "</table>\n",
       "</div>"
      ],
      "text/plain": [
       "                                        project_path  \\\n",
       "0  71f5e97beef472b2013d0a7f5f822ab9ee27957a/modul...   \n",
       "1          806f312c0ddddb3c1d9a418a3b88e78170b7bd5d/   \n",
       "2          02d5139081ebd4d150ec15b476d20543200e9d8e/   \n",
       "3  959dce294c0a43b675f80419f7189393221613d4/pkg/i...   \n",
       "4          e6be7abcae9500f8a51d9d601ad181d7f7b4bae9/   \n",
       "5          b0d4f27aeddc5b075275fcad2c8da92187025a8b/   \n",
       "6          e6be7abcae9500f8a51d9d601ad181d7f7b4bae9/   \n",
       "7          ececf7638e93170cf76966d22bc1ca8a8fdc518a/   \n",
       "8          be85be2aa85821c6f67bd1001505061e007f187f/   \n",
       "9          e32bdc053f64efc78a9f1fc3ac25cd8af6737425/   \n",
       "\n",
       "              relative_go_package             func_name  \\\n",
       "0       pkg/resource/statefulset/    GetStatefulSetPods   \n",
       "1                   pkg/sql/plan/       buildCreateView   \n",
       "2      cmd/build-oss-fuzz-corpus/    findJSONFilesInDir   \n",
       "3  vendor/google.golang.org/grpc/   newPickfirstBuilder   \n",
       "4                     pkg/server/  NewCorruptionChecker   \n",
       "5                     pkg/client/             parsePath   \n",
       "6               pkg/client/cache/   NewHistoryFileCache   \n",
       "7                        example/          sleepHandler   \n",
       "8         pkg/controllers/deploy/       SetPrecheckFunc   \n",
       "9            providers/softlayer/                  init   \n",
       "\n",
       "                                          input_code  \\\n",
       "0  package statefulset\\n\\nimport (\\n\\t\"k8s.io/das...   \n",
       "1  package plan\\n\\nfunc buildCreateView(stmt *tre...   \n",
       "2  package main\\n\\nimport (\\n\\t\"encoding/json\"\\n\\...   \n",
       "3  package grpc\\n\\nimport (\\n\\t\"google.golang.org...   \n",
       "4  package server\\n\\nimport (\\n\\t\"github.com/code...   \n",
       "5  package client\\n\\nimport (\\n\\t\"runtime\"\\n\\t\"pa...   \n",
       "6  package cache\\n\\nimport (\\n\\t\"github.com/coden...   \n",
       "7  package main\\n\\nimport (\\n\\t\"time\"\\n\\t\"net/htt...   \n",
       "8  package deploy\\n\\nimport (\\n\\t\"sigs.k8s.io/con...   \n",
       "9  package softlayer\\n\\nimport (\\n\\t\"github.com/S...   \n",
       "\n",
       "                                              prompt  \n",
       "0  [{'content': '\n",
       "You are an expert programmer. \n",
       "...  \n",
       "1  [{'content': '\n",
       "You are an expert programmer. \n",
       "...  \n",
       "2  [{'content': '\n",
       "You are an expert programmer. \n",
       "...  \n",
       "3  [{'content': '\n",
       "You are an expert programmer. \n",
       "...  \n",
       "4  [{'content': '\n",
       "You are an expert programmer. \n",
       "...  \n",
       "5  [{'content': '\n",
       "You are an expert programmer. \n",
       "...  \n",
       "6  [{'content': '\n",
       "You are an expert programmer. \n",
       "...  \n",
       "7  [{'content': '\n",
       "You are an expert programmer. \n",
       "...  \n",
       "8  [{'content': '\n",
       "You are an expert programmer. \n",
       "...  \n",
       "9  [{'content': '\n",
       "You are an expert programmer. \n",
       "...  "
      ]
     },
     "execution_count": 5,
     "metadata": {},
     "output_type": "execute_result"
    }
   ],
   "source": [
    "splitted_ds = datasets.load_from_disk(DATA_DIR+'/splitted_ds')\n",
    "\n",
    "splitted_ds['train'].take(10).to_pandas()"
   ]
  }
 ],
 "metadata": {
  "kernelspec": {
   "display_name": ".venv",
   "language": "python",
   "name": "python3"
  },
  "language_info": {
   "codemirror_mode": {
    "name": "ipython",
    "version": 3
   },
   "file_extension": ".py",
   "mimetype": "text/x-python",
   "name": "python",
   "nbconvert_exporter": "python",
   "pygments_lexer": "ipython3",
   "version": "3.11.12"
  }
 },
 "nbformat": 4,
 "nbformat_minor": 2
}
