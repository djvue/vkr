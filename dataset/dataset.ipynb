{
 "cells": [
  {
   "cell_type": "markdown",
   "metadata": {},
   "source": [
    "# Подготовка датасета"
   ]
  },
  {
   "cell_type": "code",
   "execution_count": 1,
   "metadata": {
    "ExecuteTime": {
     "end_time": "2025-04-06T09:36:35.720883Z",
     "start_time": "2025-04-06T09:36:34.354367Z"
    }
   },
   "outputs": [],
   "source": [
    "import datasets\n",
    "import os\n",
    "import pandas as pd\n",
    "import subprocess\n",
    "import re\n",
    "from tqdm.notebook import tqdm\n",
    "from pathlib import Path\n",
    "import asyncio\n",
    "import aiopath\n",
    "\n",
    "DATA_DIR = str(aiopath.AsyncPath.cwd().parent)+'/data'\n",
    "REPOS_DIR = DATA_DIR+'/repos'\n",
    "\n",
    "gvm_root = os.environ['GVM_ROOT']\n",
    "os.environ['PATH'] = f\"{gvm_root}/bin:{gvm_root}/pkgsets/go1.24.2/global/bin:{gvm_root}/gos/go1.24.2/bin:{gvm_root}/pkgsets/go1.24.2/global/overlay/bin:{os.environ['PATH']}\""
   ]
  },
  {
   "cell_type": "code",
   "execution_count": null,
   "metadata": {
    "ExecuteTime": {
     "end_time": "2025-04-06T09:35:21.194063Z",
     "start_time": "2025-04-06T09:35:20.377911Z"
    }
   },
   "outputs": [
    {
     "name": "stdout",
     "output_type": "stream",
     "text": [
      "8248983\n"
     ]
    },
    {
     "data": {
      "text/html": [
       "<div>\n",
       "<style scoped>\n",
       "    .dataframe tbody tr th:only-of-type {\n",
       "        vertical-align: middle;\n",
       "    }\n",
       "\n",
       "    .dataframe tbody tr th {\n",
       "        vertical-align: top;\n",
       "    }\n",
       "\n",
       "    .dataframe thead th {\n",
       "        text-align: right;\n",
       "    }\n",
       "</style>\n",
       "<table border=\"1\" class=\"dataframe\">\n",
       "  <thead>\n",
       "    <tr style=\"text-align: right;\">\n",
       "      <th></th>\n",
       "      <th>path</th>\n",
       "      <th>repo_name</th>\n",
       "      <th>revision_id</th>\n",
       "      <th>star_events_count</th>\n",
       "      <th>fork_events_count</th>\n",
       "      <th>is_vendor</th>\n",
       "      <th>is_generated</th>\n",
       "      <th>length_bytes</th>\n",
       "      <th>extension</th>\n",
       "      <th>filename</th>\n",
       "    </tr>\n",
       "  </thead>\n",
       "  <tbody>\n",
       "    <tr>\n",
       "      <th>0</th>\n",
       "      <td>/backend/cmd/main.go</td>\n",
       "      <td>0-10V/real-time-metrics</td>\n",
       "      <td>766dc882d779f07821bde740ce49802f67ae42b3</td>\n",
       "      <td>0</td>\n",
       "      <td>0</td>\n",
       "      <td>False</td>\n",
       "      <td>False</td>\n",
       "      <td>118</td>\n",
       "      <td>go</td>\n",
       "      <td>main.go</td>\n",
       "    </tr>\n",
       "    <tr>\n",
       "      <th>1</th>\n",
       "      <td>/backend/controllers/controllers.go</td>\n",
       "      <td>0-10V/real-time-metrics</td>\n",
       "      <td>766dc882d779f07821bde740ce49802f67ae42b3</td>\n",
       "      <td>0</td>\n",
       "      <td>0</td>\n",
       "      <td>False</td>\n",
       "      <td>False</td>\n",
       "      <td>1164</td>\n",
       "      <td>go</td>\n",
       "      <td>controllers.go</td>\n",
       "    </tr>\n",
       "    <tr>\n",
       "      <th>2</th>\n",
       "      <td>/backend/go.mod</td>\n",
       "      <td>0-10V/real-time-metrics</td>\n",
       "      <td>766dc882d779f07821bde740ce49802f67ae42b3</td>\n",
       "      <td>0</td>\n",
       "      <td>0</td>\n",
       "      <td>False</td>\n",
       "      <td>False</td>\n",
       "      <td>126</td>\n",
       "      <td>mod</td>\n",
       "      <td>go.mod</td>\n",
       "    </tr>\n",
       "    <tr>\n",
       "      <th>3</th>\n",
       "      <td>/backend/models/models.go</td>\n",
       "      <td>0-10V/real-time-metrics</td>\n",
       "      <td>766dc882d779f07821bde740ce49802f67ae42b3</td>\n",
       "      <td>0</td>\n",
       "      <td>0</td>\n",
       "      <td>False</td>\n",
       "      <td>False</td>\n",
       "      <td>767</td>\n",
       "      <td>go</td>\n",
       "      <td>models.go</td>\n",
       "    </tr>\n",
       "    <tr>\n",
       "      <th>4</th>\n",
       "      <td>/backend/routes/router.go</td>\n",
       "      <td>0-10V/real-time-metrics</td>\n",
       "      <td>766dc882d779f07821bde740ce49802f67ae42b3</td>\n",
       "      <td>0</td>\n",
       "      <td>0</td>\n",
       "      <td>False</td>\n",
       "      <td>False</td>\n",
       "      <td>233</td>\n",
       "      <td>go</td>\n",
       "      <td>router.go</td>\n",
       "    </tr>\n",
       "  </tbody>\n",
       "</table>\n",
       "</div>"
      ],
      "text/plain": [
       "                                  path                repo_name  \\\n",
       "0                 /backend/cmd/main.go  0-10V/real-time-metrics   \n",
       "1  /backend/controllers/controllers.go  0-10V/real-time-metrics   \n",
       "2                      /backend/go.mod  0-10V/real-time-metrics   \n",
       "3            /backend/models/models.go  0-10V/real-time-metrics   \n",
       "4            /backend/routes/router.go  0-10V/real-time-metrics   \n",
       "\n",
       "                                revision_id  star_events_count  \\\n",
       "0  766dc882d779f07821bde740ce49802f67ae42b3                  0   \n",
       "1  766dc882d779f07821bde740ce49802f67ae42b3                  0   \n",
       "2  766dc882d779f07821bde740ce49802f67ae42b3                  0   \n",
       "3  766dc882d779f07821bde740ce49802f67ae42b3                  0   \n",
       "4  766dc882d779f07821bde740ce49802f67ae42b3                  0   \n",
       "\n",
       "   fork_events_count  is_vendor  is_generated  length_bytes extension  \\\n",
       "0                  0      False         False           118        go   \n",
       "1                  0      False         False          1164        go   \n",
       "2                  0      False         False           126       mod   \n",
       "3                  0      False         False           767        go   \n",
       "4                  0      False         False           233        go   \n",
       "\n",
       "         filename  \n",
       "0         main.go  \n",
       "1  controllers.go  \n",
       "2          go.mod  \n",
       "3       models.go  \n",
       "4       router.go  "
      ]
     },
     "execution_count": 4,
     "metadata": {},
     "output_type": "execute_result"
    }
   ],
   "source": [
    "# Go 7.84M\n",
    "# Go_Checksums 62.4K\n",
    "# Go_Module 351K\n",
    "\n",
    "if not os.path.isdir(DATA_DIR+'/source_dedup_ds'):\n",
    "    go_ds = datasets.load_dataset(\"bigcode/the-stack-v2-dedup\", \"Go\", split=\"train\")\n",
    "    go_checksums_ds = datasets.load_dataset(\"bigcode/the-stack-v2-dedup\", \"Go_Checksums\", split=\"train\")\n",
    "    go_module_ds = datasets.load_dataset(\"bigcode/the-stack-v2-dedup\", \"Go_Module\", split=\"train\")\n",
    "    source_ds = datasets.concatenate_datasets([\n",
    "        go_ds,\n",
    "        go_checksums_ds,\n",
    "        go_module_ds,\n",
    "    ])\n",
    "    del go_ds, go_checksums_ds, go_module_ds\n",
    "\n",
    "    source_ds = source_ds.remove_columns([\n",
    "        'blob_id', 'directory_id', 'content_id', 'detected_licenses', 'license_type',\n",
    "        'snapshot_id', 'branch_name', 'visit_date', 'revision_date', 'committer_date',\n",
    "        'github_id', 'gha_license_id', 'gha_event_created_at', 'gha_created_at',\n",
    "        'gha_language', 'src_encoding', 'language',\n",
    "    ])\n",
    "    source_ds = source_ds.sort([\"repo_name\", \"path\"])\n",
    "    source_ds.save_to_disk(DATA_DIR+'/source_dedup_ds')\n",
    "\n",
    "source_ds = datasets.load_from_disk(DATA_DIR+'/source_dedup_ds')\n",
    "\n",
    "print(len(source_ds))\n",
    "source_ds.take(5).to_pandas()"
   ]
  },
  {
   "cell_type": "code",
   "execution_count": null,
   "metadata": {},
   "outputs": [
    {
     "name": "stdout",
     "output_type": "stream",
     "text": [
      "Dataset({\n",
      "    features: ['path', 'repo_name', 'revision_id', 'star_events_count', 'fork_events_count', 'is_vendor', 'is_generated', 'length_bytes', 'extension', 'filename', 'file_exists', 'file_hash'],\n",
      "    num_rows: 8248983\n",
      "})\n"
     ]
    },
    {
     "data": {
      "text/plain": [
       "{'path': '/tensorflow/go/attrs.go',\n",
       " 'repo_name': 'tensorflow/tensorflow',\n",
       " 'revision_id': 'a7f3934a67900720af3d3b15389551483bee50b8',\n",
       " 'star_events_count': 208740,\n",
       " 'fork_events_count': 109943,\n",
       " 'is_vendor': False,\n",
       " 'is_generated': False,\n",
       " 'length_bytes': 7032,\n",
       " 'extension': 'go',\n",
       " 'filename': 'attrs.go',\n",
       " 'file_exists': False,\n",
       " 'file_hash': ''}"
      ]
     },
     "execution_count": 21,
     "metadata": {},
     "output_type": "execute_result"
    }
   ],
   "source": [
    "import hashlib\n",
    "\n",
    "if not os.path.isdir(DATA_DIR+'/files_ds'):\n",
    "\n",
    "    def check_file(row):\n",
    "        download_path = f\"{REPOS_DIR}/{row['revision_id']}{row['path']}\"    \n",
    "\n",
    "        try:\n",
    "            with open(download_path, \"rb\") as f:\n",
    "                digest = hashlib.file_digest(f, \"sha256\")\n",
    "                hash = digest.hexdigest()\n",
    "\n",
    "                return {'file_exists': True, \"file_hash\": hash}\n",
    "        except OSError:\n",
    "            return {'file_exists': False, \"file_hash\": \"\"}\n",
    "\n",
    "    files_ds = source_ds.sort(['star_events_count', 'repo_name', 'path'], reverse=[True, False, False]).map(check_file, num_proc=32)\n",
    "\n",
    "    files_ds.save_to_disk(DATA_DIR+'/files_ds')\n",
    "\n",
    "files_ds = datasets.load_from_disk(DATA_DIR+'/files_ds')\n",
    "\n",
    "print(files_ds)\n",
    "files_ds[0]"
   ]
  },
  {
   "cell_type": "markdown",
   "metadata": {},
   "source": [
    "### Очистим тестовые файлы в проектах"
   ]
  },
  {
   "cell_type": "code",
   "execution_count": 6,
   "metadata": {},
   "outputs": [
    {
     "name": "stdout",
     "output_type": "stream",
     "text": [
      "868880\n",
      "a7f3934a67900720af3d3b15389551483bee50b8\n"
     ]
    },
    {
     "ename": "KeyboardInterrupt",
     "evalue": "",
     "output_type": "error",
     "traceback": [
      "\u001b[31m---------------------------------------------------------------------------\u001b[39m",
      "\u001b[31mKeyboardInterrupt\u001b[39m                         Traceback (most recent call last)",
      "\u001b[36mCell\u001b[39m\u001b[36m \u001b[39m\u001b[32mIn[6]\u001b[39m\u001b[32m, line 7\u001b[39m\n\u001b[32m      5\u001b[39m \u001b[38;5;28;01mfor\u001b[39;00m revision_id \u001b[38;5;129;01min\u001b[39;00m revisions:\n\u001b[32m      6\u001b[39m     project_path = REPOS_DIR+\u001b[33m'\u001b[39m\u001b[33m/\u001b[39m\u001b[33m'\u001b[39m+revision_id\n\u001b[32m----> \u001b[39m\u001b[32m7\u001b[39m \u001b[43m    \u001b[49m\u001b[38;5;28;43;01mfor\u001b[39;49;00m\u001b[43m \u001b[49m\u001b[43mp\u001b[49m\u001b[43m \u001b[49m\u001b[38;5;129;43;01min\u001b[39;49;00m\u001b[43m \u001b[49m\u001b[43mPath\u001b[49m\u001b[43m(\u001b[49m\u001b[43mproject_path\u001b[49m\u001b[43m)\u001b[49m\u001b[43m.\u001b[49m\u001b[43mglob\u001b[49m\u001b[43m(\u001b[49m\u001b[33;43m\"\u001b[39;49m\u001b[33;43m**/*_test.go\u001b[39;49m\u001b[33;43m\"\u001b[39;49m\u001b[43m)\u001b[49m\u001b[43m:\u001b[49m\n\u001b[32m      8\u001b[39m \u001b[43m        \u001b[49m\u001b[43mp\u001b[49m\u001b[43m.\u001b[49m\u001b[43munlink\u001b[49m\u001b[43m(\u001b[49m\u001b[43m)\u001b[49m\n",
      "\u001b[36mFile \u001b[39m\u001b[32m~/.pyenv/versions/3.11.12/lib/python3.11/pathlib.py:953\u001b[39m, in \u001b[36mPath.glob\u001b[39m\u001b[34m(self, pattern)\u001b[39m\n\u001b[32m    951\u001b[39m     pattern_parts.append(\u001b[33m'\u001b[39m\u001b[33m'\u001b[39m)\n\u001b[32m    952\u001b[39m selector = _make_selector(\u001b[38;5;28mtuple\u001b[39m(pattern_parts), \u001b[38;5;28mself\u001b[39m._flavour)\n\u001b[32m--> \u001b[39m\u001b[32m953\u001b[39m \u001b[38;5;28;01mfor\u001b[39;00m p \u001b[38;5;129;01min\u001b[39;00m \u001b[43mselector\u001b[49m\u001b[43m.\u001b[49m\u001b[43mselect_from\u001b[49m\u001b[43m(\u001b[49m\u001b[38;5;28;43mself\u001b[39;49m\u001b[43m)\u001b[49m:\n\u001b[32m    954\u001b[39m     \u001b[38;5;28;01myield\u001b[39;00m p\n",
      "\u001b[36mFile \u001b[39m\u001b[32m~/.pyenv/versions/3.11.12/lib/python3.11/pathlib.py:320\u001b[39m, in \u001b[36m_Selector.select_from\u001b[39m\u001b[34m(self, parent_path)\u001b[39m\n\u001b[32m    318\u001b[39m exists = path_cls.exists\n\u001b[32m    319\u001b[39m scandir = path_cls._scandir\n\u001b[32m--> \u001b[39m\u001b[32m320\u001b[39m \u001b[38;5;28;01mif\u001b[39;00m \u001b[38;5;129;01mnot\u001b[39;00m \u001b[43mis_dir\u001b[49m\u001b[43m(\u001b[49m\u001b[43mparent_path\u001b[49m\u001b[43m)\u001b[49m:\n\u001b[32m    321\u001b[39m     \u001b[38;5;28;01mreturn\u001b[39;00m \u001b[38;5;28miter\u001b[39m([])\n\u001b[32m    322\u001b[39m \u001b[38;5;28;01mreturn\u001b[39;00m \u001b[38;5;28mself\u001b[39m._select_from(parent_path, is_dir, exists, scandir)\n",
      "\u001b[36mFile \u001b[39m\u001b[32m~/.pyenv/versions/3.11.12/lib/python3.11/pathlib.py:1250\u001b[39m, in \u001b[36mPath.is_dir\u001b[39m\u001b[34m(self)\u001b[39m\n\u001b[32m   1246\u001b[39m \u001b[38;5;250m\u001b[39m\u001b[33;03m\"\"\"\u001b[39;00m\n\u001b[32m   1247\u001b[39m \u001b[33;03mWhether this path is a directory.\u001b[39;00m\n\u001b[32m   1248\u001b[39m \u001b[33;03m\"\"\"\u001b[39;00m\n\u001b[32m   1249\u001b[39m \u001b[38;5;28;01mtry\u001b[39;00m:\n\u001b[32m-> \u001b[39m\u001b[32m1250\u001b[39m     \u001b[38;5;28;01mreturn\u001b[39;00m S_ISDIR(\u001b[38;5;28;43mself\u001b[39;49m\u001b[43m.\u001b[49m\u001b[43mstat\u001b[49m\u001b[43m(\u001b[49m\u001b[43m)\u001b[49m.st_mode)\n\u001b[32m   1251\u001b[39m \u001b[38;5;28;01mexcept\u001b[39;00m \u001b[38;5;167;01mOSError\u001b[39;00m \u001b[38;5;28;01mas\u001b[39;00m e:\n\u001b[32m   1252\u001b[39m     \u001b[38;5;28;01mif\u001b[39;00m \u001b[38;5;129;01mnot\u001b[39;00m _ignore_error(e):\n",
      "\u001b[36mFile \u001b[39m\u001b[32m~/.pyenv/versions/3.11.12/lib/python3.11/pathlib.py:1013\u001b[39m, in \u001b[36mPath.stat\u001b[39m\u001b[34m(self, follow_symlinks)\u001b[39m\n\u001b[32m   1008\u001b[39m \u001b[38;5;28;01mdef\u001b[39;00m\u001b[38;5;250m \u001b[39m\u001b[34mstat\u001b[39m(\u001b[38;5;28mself\u001b[39m, *, follow_symlinks=\u001b[38;5;28;01mTrue\u001b[39;00m):\n\u001b[32m   1009\u001b[39m \u001b[38;5;250m    \u001b[39m\u001b[33;03m\"\"\"\u001b[39;00m\n\u001b[32m   1010\u001b[39m \u001b[33;03m    Return the result of the stat() system call on this path, like\u001b[39;00m\n\u001b[32m   1011\u001b[39m \u001b[33;03m    os.stat() does.\u001b[39;00m\n\u001b[32m   1012\u001b[39m \u001b[33;03m    \"\"\"\u001b[39;00m\n\u001b[32m-> \u001b[39m\u001b[32m1013\u001b[39m     \u001b[38;5;28;01mreturn\u001b[39;00m os.stat(\u001b[38;5;28mself\u001b[39m, follow_symlinks=follow_symlinks)\n",
      "\u001b[31mKeyboardInterrupt\u001b[39m: "
     ]
    }
   ],
   "source": [
    "revisions = files_ds.unique('revision_id')\n",
    "print(len(revisions))\n",
    "print(revisions[0])\n",
    "\n",
    "for revision_id in revisions:\n",
    "    project_path = REPOS_DIR+'/'+revision_id\n",
    "    for p in Path(project_path).glob(\"**/*_test.go\"):\n",
    "        p.unlink()"
   ]
  },
  {
   "cell_type": "code",
   "execution_count": 22,
   "metadata": {},
   "outputs": [
    {
     "name": "stdout",
     "output_type": "stream",
     "text": [
      "Dataset({\n",
      "    features: ['path', 'repo_name', 'revision_id', 'star_events_count', 'fork_events_count', 'is_vendor', 'is_generated', 'length_bytes', 'extension', 'filename', 'file_exists', 'file_hash'],\n",
      "    num_rows: 5625886\n",
      "})\n"
     ]
    },
    {
     "data": {
      "text/plain": [
       "{'not_exists_count': 0, 'test_files_count': 0, 'wrong_ext_count': 0}"
      ]
     },
     "execution_count": 22,
     "metadata": {},
     "output_type": "execute_result"
    }
   ],
   "source": [
    "filter_stats = {\n",
    "    \"not_exists_count\": 0,\n",
    "    \"test_files_count\": 0,\n",
    "    \"wrong_ext_count\": 0,\n",
    "}\n",
    "\n",
    "def filter_files(row) -> bool:\n",
    "    if not row['file_exists']:\n",
    "        filter_stats['not_exists_count'] += 1\n",
    "        return False\n",
    "\n",
    "    lower_path = row['path'].lower()\n",
    "    if lower_path.endswith(\"_test.go\"):\n",
    "        filter_stats['test_files_count'] += 1\n",
    "        return False\n",
    "    if not lower_path.endswith(\".go\") and not lower_path.endswith(\"/go.mod\") and not lower_path.endswith(\"/go.sum\"):\n",
    "        filter_stats['wrong_ext_count'] += 1\n",
    "        return False\n",
    "\n",
    "    return True\n",
    "\n",
    "ds = files_ds.filter(filter_files, num_proc=1)\n",
    "\n",
    "print(ds)\n",
    "filter_stats"
   ]
  },
  {
   "cell_type": "code",
   "execution_count": 23,
   "metadata": {},
   "outputs": [
    {
     "data": {
      "application/vnd.jupyter.widget-view+json": {
       "model_id": "3023b25c665846cf8035f64ff3aacfe6",
       "version_major": 2,
       "version_minor": 0
      },
      "text/plain": [
       "Map:   0%|          | 0/5625886 [00:00<?, ? examples/s]"
      ]
     },
     "metadata": {},
     "output_type": "display_data"
    },
    {
     "name": "stdout",
     "output_type": "stream",
     "text": [
      "Dataset({\n",
      "    features: ['path', 'repo_name', 'revision_id', 'star_events_count', 'fork_events_count', 'is_vendor', 'is_generated', 'length_bytes', 'extension', 'filename', 'file_exists', 'file_hash', 'project', 'relative_project_path', 'relative_go_package'],\n",
      "    num_rows: 5625886\n",
      "})\n"
     ]
    },
    {
     "data": {
      "text/plain": [
       "{'path': '/go.mod',\n",
       " 'repo_name': 'avelino/awesome-go',\n",
       " 'revision_id': 'c3643eb9da5c673101f8fe15a6deb40bfc4a1c85',\n",
       " 'star_events_count': 112752,\n",
       " 'fork_events_count': 13739,\n",
       " 'is_vendor': False,\n",
       " 'is_generated': False,\n",
       " 'length_bytes': 603,\n",
       " 'extension': 'mod',\n",
       " 'filename': 'go.mod',\n",
       " 'file_exists': True,\n",
       " 'file_hash': '0adeb56bf0ed5a68b4e0ac51da9f3d38e6623754e262f9e4cd1a9f7c4c5ce817',\n",
       " 'project': '/',\n",
       " 'relative_project_path': '/go.mod',\n",
       " 'relative_go_package': ''}"
      ]
     },
     "execution_count": 23,
     "metadata": {},
     "output_type": "execute_result"
    }
   ],
   "source": [
    "projects_by_repo: dict[str, set[str]] = {}\n",
    "\n",
    "def get_go_package(relative_project_path: str) -> str:\n",
    "    filename_slash_pos = relative_project_path.rfind('/')\n",
    "    return relative_project_path[:filename_slash_pos+1]\n",
    "\n",
    "def collect_projects(row):\n",
    "    lower_path = row['path'].lower()\n",
    "    if lower_path.endswith(\"/go.mod\"):\n",
    "        project = row['path'][:len(row['path'])-6]\n",
    "\n",
    "        repo_projects = projects_by_repo.get(row['repo_name'], set())\n",
    "        repo_projects.add(project)\n",
    "        projects_by_repo[row['repo_name']] = repo_projects\n",
    "\n",
    "ds.map(collect_projects)\n",
    "\n",
    "def add_project_column(row):\n",
    "    lower_path = row['path'].lower()\n",
    "    if lower_path.endswith(\"/go.mod\"):\n",
    "        project = row['path'][:len(row['path'])-6]\n",
    "        return {'project': project, 'relative_project_path': row['path'][len(row['path'])-7:], 'relative_go_package': ''}\n",
    "\n",
    "    repo_projects = list(projects_by_repo.get(row[\"repo_name\"], set()))\n",
    "    repo_projects.sort(key=len, reverse=True)\n",
    "\n",
    "    for repo_project in repo_projects:\n",
    "        if ((lower_path.endswith('.go') and row['path'].startswith(repo_project)) or\n",
    "            (lower_path == repo_project.lower()+\"go.sum\")):\n",
    "\n",
    "            relative_project_path = row['path'][len(repo_project):]\n",
    "            return {'project': repo_project, 'relative_project_path': relative_project_path, 'relative_go_package': get_go_package(relative_project_path)}\n",
    "\n",
    "    return {'project': '', 'relative_project_path': '', 'relative_go_package': ''}\n",
    "\n",
    "ds = ds.map(add_project_column, num_proc=32)\n",
    "# .filter(lambda row: row['repo_name'] == 'go-gitea/gitea')\n",
    "\n",
    "print(ds)\n",
    "ds[0]\n",
    "#ds.to_pandas().query('path == \"/modules/git/tree.go\"')"
   ]
  },
  {
   "cell_type": "markdown",
   "metadata": {},
   "source": [
    "### Отфильтруем файлы go без go module"
   ]
  },
  {
   "cell_type": "markdown",
   "metadata": {},
   "source": [
    "Проекты без go.mod - это legacy проекты, который с большой вероятностью не получится запустить без ручной работы"
   ]
  },
  {
   "cell_type": "code",
   "execution_count": 24,
   "metadata": {},
   "outputs": [
    {
     "name": "stdout",
     "output_type": "stream",
     "text": [
      "Dataset({\n",
      "    features: ['path', 'repo_name', 'revision_id', 'star_events_count', 'fork_events_count', 'is_vendor', 'is_generated', 'length_bytes', 'extension', 'filename', 'file_exists', 'file_hash', 'project', 'relative_project_path', 'relative_go_package'],\n",
      "    num_rows: 2671142\n",
      "})\n"
     ]
    },
    {
     "data": {
      "text/plain": [
       "{'path': '/pkg/msg/msg.go',\n",
       " 'repo_name': 'fatedier/frp',\n",
       " 'revision_id': 'f1454e91f56508603e4c2e3c7bf37ccb534458c2',\n",
       " 'star_events_count': 75141,\n",
       " 'fork_events_count': 14118,\n",
       " 'is_vendor': False,\n",
       " 'is_generated': False,\n",
       " 'length_bytes': 8303,\n",
       " 'extension': 'go',\n",
       " 'filename': 'msg.go',\n",
       " 'file_exists': True,\n",
       " 'file_hash': '8477b4eb0d5c5aa1197c1eb077a4b791d48952af2aed2acf85f49223c96be333',\n",
       " 'project': '/',\n",
       " 'relative_project_path': 'pkg/msg/msg.go',\n",
       " 'relative_go_package': 'pkg/msg/'}"
      ]
     },
     "execution_count": 24,
     "metadata": {},
     "output_type": "execute_result"
    }
   ],
   "source": [
    "ds = ds.filter(lambda row: row['project'] != '', num_proc=32)\n",
    "\n",
    "print(ds)\n",
    "ds.skip(100)[0]"
   ]
  },
  {
   "cell_type": "markdown",
   "metadata": {},
   "source": [
    "TODO: отфильтровать build теги `//go:build ...`"
   ]
  },
  {
   "cell_type": "markdown",
   "metadata": {},
   "source": [
    "### Отфильтруем проекты с /generated/ в пути\n",
    "\n",
    "Это с большой вероятностью означает, что они сгенерированы"
   ]
  },
  {
   "cell_type": "code",
   "execution_count": 25,
   "metadata": {},
   "outputs": [
    {
     "name": "stdout",
     "output_type": "stream",
     "text": [
      "Dataset({\n",
      "    features: ['path', 'repo_name', 'revision_id', 'star_events_count', 'fork_events_count', 'is_vendor', 'is_generated', 'length_bytes', 'extension', 'filename', 'file_exists', 'file_hash', 'project', 'relative_project_path', 'relative_go_package'],\n",
      "    num_rows: 2664663\n",
      "})\n"
     ]
    }
   ],
   "source": [
    "ds = ds.filter(lambda row: '/generated/' not in '/'+row['relative_go_package'], num_proc=32)\n",
    "\n",
    "print(ds)"
   ]
  },
  {
   "cell_type": "code",
   "execution_count": null,
   "metadata": {},
   "outputs": [
    {
     "name": "stdout",
     "output_type": "stream",
     "text": [
      "Dataset({\n",
      "    features: ['path', 'repo_name', 'revision_id', 'star_events_count', 'fork_events_count', 'is_vendor', 'is_generated', 'length_bytes', 'extension', 'filename', 'file_exists', 'file_hash', 'project', 'relative_project_path', 'relative_go_package'],\n",
      "    num_rows: 2664663\n",
      "})\n"
     ]
    },
    {
     "data": {
      "text/plain": [
       "{'path': '/go.mod',\n",
       " 'repo_name': 'avelino/awesome-go',\n",
       " 'revision_id': 'c3643eb9da5c673101f8fe15a6deb40bfc4a1c85',\n",
       " 'star_events_count': 112752,\n",
       " 'fork_events_count': 13739,\n",
       " 'is_vendor': False,\n",
       " 'is_generated': False,\n",
       " 'length_bytes': 603,\n",
       " 'extension': 'mod',\n",
       " 'filename': 'go.mod',\n",
       " 'file_exists': True,\n",
       " 'file_hash': '0adeb56bf0ed5a68b4e0ac51da9f3d38e6623754e262f9e4cd1a9f7c4c5ce817',\n",
       " 'project': '/',\n",
       " 'relative_project_path': '/go.mod',\n",
       " 'relative_go_package': ''}"
      ]
     },
     "execution_count": 2,
     "metadata": {},
     "output_type": "execute_result"
    }
   ],
   "source": [
    "if not os.path.isdir(DATA_DIR+'/before_files_funcs_ds'):\n",
    "    ds.save_to_disk(DATA_DIR+'/before_files_funcs_ds')\n",
    "\n",
    "ds = datasets.load_from_disk(DATA_DIR+'/before_files_funcs_ds')\n",
    "\n",
    "print(ds)\n",
    "ds[0]"
   ]
  },
  {
   "cell_type": "markdown",
   "metadata": {},
   "source": [
    "### Отфильтруем файлы без функций\n",
    "\n",
    "Это могут быть константы, структуры без методов, которые не нужно тестить"
   ]
  },
  {
   "cell_type": "code",
   "execution_count": null,
   "metadata": {},
   "outputs": [
    {
     "name": "stdout",
     "output_type": "stream",
     "text": [
      "Dataset({\n",
      "    features: ['path', 'repo_name', 'revision_id', 'star_events_count', 'fork_events_count', 'is_vendor', 'is_generated', 'length_bytes', 'extension', 'filename', 'file_exists', 'file_hash', 'project', 'relative_project_path', 'relative_go_package', 'funcs', 'methods'],\n",
      "    num_rows: 2664663\n",
      "})\n"
     ]
    },
    {
     "data": {
      "text/plain": [
       "{'path': '/go.mod',\n",
       " 'repo_name': 'avelino/awesome-go',\n",
       " 'revision_id': 'c3643eb9da5c673101f8fe15a6deb40bfc4a1c85',\n",
       " 'star_events_count': 112752,\n",
       " 'fork_events_count': 13739,\n",
       " 'is_vendor': False,\n",
       " 'is_generated': False,\n",
       " 'length_bytes': 603,\n",
       " 'extension': 'mod',\n",
       " 'filename': 'go.mod',\n",
       " 'file_exists': True,\n",
       " 'file_hash': '0adeb56bf0ed5a68b4e0ac51da9f3d38e6623754e262f9e4cd1a9f7c4c5ce817',\n",
       " 'project': '/',\n",
       " 'relative_project_path': '/go.mod',\n",
       " 'relative_go_package': '',\n",
       " 'funcs': '',\n",
       " 'methods': ''}"
      ]
     },
     "execution_count": 3,
     "metadata": {},
     "output_type": "execute_result"
    }
   ],
   "source": [
    "if not os.path.isdir(DATA_DIR+'/files_funcs_ds'):\n",
    "\n",
    "    def extract_funcs(row):\n",
    "        download_path = f\"{REPOS_DIR}/{row['revision_id']}{row['path']}\"\n",
    "\n",
    "        if row['extension'] != 'go':\n",
    "            return {'funcs': '', 'methods': ''}\n",
    "\n",
    "        try:\n",
    "            with open(download_path, \"rb\") as f:\n",
    "                content = f.read().decode('utf-8')\n",
    "                test_fns: list[str] = re.findall(r'\\nfunc\\W*(\\w+)\\W*\\(', content)\n",
    "                test_methods: list[str] = re.findall(r'\\nfunc\\W*\\(\\w+ +(\\*?\\w+)\\)\\W*(\\w+)\\W*\\(', content)\n",
    "                test_methods_joined = [t+'.'+m for (t, m) in test_methods]\n",
    "\n",
    "                return {'funcs': ','.join(test_fns), 'methods': ','.join(test_methods_joined)}\n",
    "        except Exception as e:\n",
    "            return {'funcs': '', 'methods': ''}\n",
    "\n",
    "    ds = ds.map(extract_funcs, num_proc=16)\n",
    "\n",
    "    ds.save_to_disk(DATA_DIR+'/files_funcs_ds')\n",
    "\n",
    "ds = datasets.load_from_disk(DATA_DIR+'/files_funcs_ds')\n",
    "\n",
    "print(ds)\n",
    "ds[0]"
   ]
  },
  {
   "cell_type": "code",
   "execution_count": 6,
   "metadata": {},
   "outputs": [
    {
     "data": {
      "application/vnd.jupyter.widget-view+json": {
       "model_id": "2136ce4102854bba85a88b7dea71e6ec",
       "version_major": 2,
       "version_minor": 0
      },
      "text/plain": [
       "Filter:   0%|          | 0/2372969 [00:00<?, ? examples/s]"
      ]
     },
     "metadata": {},
     "output_type": "display_data"
    },
    {
     "name": "stdout",
     "output_type": "stream",
     "text": [
      "Dataset({\n",
      "    features: ['path', 'repo_name', 'revision_id', 'star_events_count', 'fork_events_count', 'is_vendor', 'is_generated', 'length_bytes', 'extension', 'filename', 'file_exists', 'file_hash', 'project', 'relative_project_path', 'relative_go_package', 'funcs', 'methods', 'project_path'],\n",
      "    num_rows: 2048497\n",
      "})\n"
     ]
    },
    {
     "data": {
      "text/plain": [
       "{'path': '/go.mod',\n",
       " 'repo_name': 'avelino/awesome-go',\n",
       " 'revision_id': 'c3643eb9da5c673101f8fe15a6deb40bfc4a1c85',\n",
       " 'star_events_count': 112752,\n",
       " 'fork_events_count': 13739,\n",
       " 'is_vendor': False,\n",
       " 'is_generated': False,\n",
       " 'length_bytes': 603,\n",
       " 'extension': 'mod',\n",
       " 'filename': 'go.mod',\n",
       " 'file_exists': True,\n",
       " 'file_hash': '0adeb56bf0ed5a68b4e0ac51da9f3d38e6623754e262f9e4cd1a9f7c4c5ce817',\n",
       " 'project': '/',\n",
       " 'relative_project_path': '/go.mod',\n",
       " 'relative_go_package': '',\n",
       " 'funcs': '',\n",
       " 'methods': '',\n",
       " 'project_path': 'c3643eb9da5c673101f8fe15a6deb40bfc4a1c85/'}"
      ]
     },
     "execution_count": 6,
     "metadata": {},
     "output_type": "execute_result"
    }
   ],
   "source": [
    "ds = ds.filter(lambda row: row['extension'] != 'go' or row['funcs'] != ''\n",
    "    # or row['methods'] != '' # Отфильтруем файлы с методами типов. Маленькая вероятность генерации успешных тестов для таких методов, так как нужно обеспечить работу моков\n",
    ")\n",
    "\n",
    "print(ds)\n",
    "ds[0]"
   ]
  },
  {
   "cell_type": "markdown",
   "metadata": {},
   "source": [
    "### Скачивание зависимостей проектов"
   ]
  },
  {
   "cell_type": "code",
   "execution_count": 7,
   "metadata": {},
   "outputs": [
    {
     "data": {
      "application/vnd.jupyter.widget-view+json": {
       "model_id": "aa41ec83358741659c5a66e930cc408c",
       "version_major": 2,
       "version_minor": 0
      },
      "text/plain": [
       "Map:   0%|          | 0/2048497 [00:00<?, ? examples/s]"
      ]
     },
     "metadata": {},
     "output_type": "display_data"
    }
   ],
   "source": [
    "ds = ds.map(lambda row: {'project_path': row['revision_id']+row['project']})"
   ]
  },
  {
   "cell_type": "markdown",
   "metadata": {},
   "source": [
    "Зависимости слишком тяжелый для скачивания во всех репозиториях, возьмем 100k файлов из самых популярных репозиториев"
   ]
  },
  {
   "cell_type": "code",
   "execution_count": 8,
   "metadata": {},
   "outputs": [],
   "source": [
    "ds = ds.take(100_000)"
   ]
  },
  {
   "cell_type": "code",
   "execution_count": 9,
   "metadata": {},
   "outputs": [
    {
     "name": "stdout",
     "output_type": "stream",
     "text": [
      "2293\n"
     ]
    },
    {
     "data": {
      "text/plain": [
       "'c3643eb9da5c673101f8fe15a6deb40bfc4a1c85/'"
      ]
     },
     "execution_count": 9,
     "metadata": {},
     "output_type": "execute_result"
    }
   ],
   "source": [
    "project_paths = ds.unique('project_path')\n",
    "\n",
    "print(len(project_paths))\n",
    "project_paths[0]"
   ]
  },
  {
   "cell_type": "code",
   "execution_count": 15,
   "metadata": {},
   "outputs": [
    {
     "data": {
      "application/vnd.jupyter.widget-view+json": {
       "model_id": "f1191d688d514ee8ac40d3a7092b1992",
       "version_major": 2,
       "version_minor": 0
      },
      "text/plain": [
       "  0%|          | 0/2293 [00:00<?, ?it/s]"
      ]
     },
     "metadata": {},
     "output_type": "display_data"
    },
    {
     "data": {
      "text/plain": [
       "168"
      ]
     },
     "execution_count": 15,
     "metadata": {},
     "output_type": "execute_result"
    }
   ],
   "source": [
    "project_download_deps_errors: dict[str, str] = {}\n",
    "\n",
    "concurrency = 32\n",
    "next_index = 0\n",
    "last_error = ''\n",
    "updated_count = 0\n",
    "\n",
    "async def worker(pbar, i):\n",
    "    global next_index\n",
    "    global last_error\n",
    "    global updated_count\n",
    "    while next_index < len(project_paths):\n",
    "        project_path = project_paths[next_index]\n",
    "        next_index += 1\n",
    "\n",
    "        go_mod_content = ''\n",
    "        try:\n",
    "            go_mod_content = await aiopath.AsyncPath(f\"{REPOS_DIR}/{project_path}go.mod\").read_text()\n",
    "        except Exception:\n",
    "            project_download_deps_errors[project_path] = 'go.mod not found'\n",
    "            last_error = 'go.mod not found'\n",
    "            pbar.update(1)\n",
    "            pbar.set_postfix(errors_count=len(project_download_deps_errors), updated_count=updated_count, last_error=last_error)\n",
    "            continue\n",
    "\n",
    "        async for p in aiopath.AsyncPath(f\"{REPOS_DIR}/{project_path}\").glob(\"**/*_test.go\"):\n",
    "            await p.unlink()\n",
    "\n",
    "        update_libs = ['github.com/!azure/azure-sdk-for-go', 'github.com/aws/aws-sdk-go-v2', 'github.com/aws/aws-sdk-go',\n",
    "                       'google.golang.org/genproto', 'google.golang.org/api', 'google.golang.org/grpc', 'google.golang.org/protobuf']\n",
    "        presented_libs = [lib for lib in update_libs if lib+' ' in go_mod_content]\n",
    "        if len(presented_libs) > 0:\n",
    "            libs_str = ' '.join([lib+'@latest' if lib != 'github.com/!azure/azure-sdk-for-go' else 'github.com/\\!azure/azure-sdk-for-go' for lib in presented_libs])\n",
    "            proc = await asyncio.create_subprocess_shell(\n",
    "                \"go get -u \"+libs_str,\n",
    "                cwd=f\"{REPOS_DIR}/{project_path}\",\n",
    "                stdout=asyncio.subprocess.PIPE,\n",
    "                stderr=asyncio.subprocess.PIPE)\n",
    "\n",
    "            stdout, stderr = await proc.communicate()\n",
    "            \n",
    "            if proc.returncode != 0:\n",
    "                project_download_deps_errors[project_path] = 'go get -u: '+stderr.decode()\n",
    "                last_error = 'go get -u: '+stderr.decode()[:100]\n",
    "\n",
    "                pbar.update(1)\n",
    "                pbar.set_postfix(errors_count=len(project_download_deps_errors), updated_count=updated_count, last_error=last_error)\n",
    "\n",
    "            updated_count += 1\n",
    "        \n",
    "\n",
    "        proc = await asyncio.create_subprocess_shell(\n",
    "            \"go mod tidy\",\n",
    "            cwd=f\"{REPOS_DIR}/{project_path}\",\n",
    "            stdout=asyncio.subprocess.PIPE,\n",
    "            stderr=asyncio.subprocess.PIPE)\n",
    "\n",
    "        stdout, stderr = await proc.communicate()\n",
    "        \n",
    "        if proc.returncode != 0:\n",
    "            project_download_deps_errors[project_path] = stderr\n",
    "            last_error = stderr.decode()[:100]\n",
    "\n",
    "        pbar.update(1)\n",
    "        pbar.set_postfix(errors_count=len(project_download_deps_errors), updated_count=updated_count, last_error=last_error)\n",
    "\n",
    "\n",
    "\n",
    "with tqdm(total=len(project_paths)) as pbar:\n",
    "    features = [worker(pbar, i) for i in range(concurrency)]\n",
    "\n",
    "    await asyncio.gather(*features)\n",
    "\n",
    "len(project_download_deps_errors)"
   ]
  },
  {
   "cell_type": "code",
   "execution_count": 16,
   "metadata": {},
   "outputs": [
    {
     "data": {
      "text/plain": [
       "{'bf1c2a0126ed28afecc9a2ff874d29a9941910bb/POSIX/golang/test/': b'go: tencent.com/mmkv@v0.0.0-00010101000000-000000000000 (replaced by ../tencent.com/mmkv): reading ../tencent.com/mmkv/go.mod: open /media/hdd_1/vkr/data/repos/bf1c2a0126ed28afecc9a2ff874d29a9941910bb/POSIX/golang/tencent.com/mmkv/go.mod: no such file or directory\\n',\n",
       " 'e18340618f1bf512aa7327fedd64196ea763719e/tests/apps/gogrpc/': b'go: found google.golang.org/grpc/examples/helloworld/helloworld in google.golang.org/grpc/examples/helloworld/helloworld v0.0.0-00010101000000-000000000000\\ngo: github.com/dokku/dokko/tests/apps/gorpc/greeter_client imports\\n\\tgoogle.golang.org/grpc/examples/helloworld/helloworld: module ./helloworld: reading helloworld/go.mod: open /media/hdd_1/vkr/data/repos/e18340618f1bf512aa7327fedd64196ea763719e/tests/apps/gogrpc/helloworld/go.mod: no such file or directory\\n',\n",
       " '32c3d0a3ff4f6f5dd2dcfba17d66ef96601202b3/': b'go: finding module for package go.opentelemetry.io/otel/metric/instrument\\ngo: finding module for package go.opentelemetry.io/otel/exporters/otlp/internal/envconfig\\ngo: finding module for package go.opentelemetry.io/otel/exporters/otlp/internal\\ngo: finding module for package go.opentelemetry.io/otel/metric/global\\ngo: github.com/docker/compose/v2/internal/tracing imports\\n\\tgo.opentelemetry.io/otel/exporters/otlp/otlptrace imports\\n\\tgo.opentelemetry.io/otel/exporters/otlp/internal: module go.opentelemetry.io/otel/exporters/otlp@latest found (v0.20.1), but does not contain package go.opentelemetry.io/otel/exporters/otlp/internal\\ngo: github.com/docker/compose/v2/internal/tracing imports\\n\\tgo.opentelemetry.io/otel/exporters/otlp/otlptrace/otlptracegrpc imports\\n\\tgo.opentelemetry.io/otel/exporters/otlp/otlptrace/internal/otlpconfig imports\\n\\tgo.opentelemetry.io/otel/exporters/otlp/internal/envconfig: module go.opentelemetry.io/otel/exporters/otlp@latest found (v0.20.1), but does not contain package go.opentelemetry.io/otel/exporters/otlp/internal/envconfig\\ngo: github.com/docker/compose/v2/pkg/compose imports\\n\\tgithub.com/moby/buildkit/client imports\\n\\tgo.opentelemetry.io/contrib/instrumentation/google.golang.org/grpc/otelgrpc imports\\n\\tgo.opentelemetry.io/otel/metric/global: module go.opentelemetry.io/otel/metric@latest found (v1.35.0), but does not contain package go.opentelemetry.io/otel/metric/global\\ngo: github.com/docker/compose/v2/pkg/compose imports\\n\\tgithub.com/moby/buildkit/client imports\\n\\tgo.opentelemetry.io/contrib/instrumentation/google.golang.org/grpc/otelgrpc imports\\n\\tgo.opentelemetry.io/otel/metric/instrument: module go.opentelemetry.io/otel/metric@latest found (v1.35.0), but does not contain package go.opentelemetry.io/otel/metric/instrument\\n',\n",
       " '1fa4f247d25c544abca9fcaa3183fddc6c13717e/src/checkoutservice/': b'go: finding module for package go.opentelemetry.io/otel/exporters/otlp/internal/envconfig\\ngo: finding module for package go.opentelemetry.io/otel/exporters/otlp/internal\\ngo: github.com/GoogleCloudPlatform/microservices-demo/src/checkoutservice imports\\n\\tgo.opentelemetry.io/otel/exporters/otlp/otlptrace/otlptracegrpc imports\\n\\tgo.opentelemetry.io/otel/exporters/otlp/internal: module go.opentelemetry.io/otel/exporters/otlp@latest found (v0.20.1), but does not contain package go.opentelemetry.io/otel/exporters/otlp/internal\\ngo: github.com/GoogleCloudPlatform/microservices-demo/src/checkoutservice imports\\n\\tgo.opentelemetry.io/otel/exporters/otlp/otlptrace/otlptracegrpc imports\\n\\tgo.opentelemetry.io/otel/exporters/otlp/otlptrace/internal/otlpconfig imports\\n\\tgo.opentelemetry.io/otel/exporters/otlp/internal/envconfig: module go.opentelemetry.io/otel/exporters/otlp@latest found (v0.20.1), but does not contain package go.opentelemetry.io/otel/exporters/otlp/internal/envconfig\\n',\n",
       " '1b73e3862d312ac2057265bf2a5fd95760dbe9da/': b'go: finding module for package github.com/googleapis/gax-go/v2/iterator\\ngo: finding module for package github.com/googleapis/gax-go/v2/internallog\\ngo: finding module for package github.com/googleapis/gax-go/v2/internallog/grpclog\\ngo: finding module for package go.opentelemetry.io/otel/exporters/otlp/internal/envconfig\\ngo: finding module for package go.opentelemetry.io/otel/exporters/otlp/internal\\ngo: found github.com/googleapis/gax-go/v2/internallog in github.com/googleapis/gax-go/v2 v2.14.1\\ngo: found github.com/googleapis/gax-go/v2/internallog/grpclog in github.com/googleapis/gax-go/v2 v2.14.1\\ngo: found github.com/googleapis/gax-go/v2/iterator in github.com/googleapis/gax-go/v2 v2.14.1\\ngo: finding module for package go.opentelemetry.io/otel/exporters/otlp/internal\\ngo: finding module for package go.opentelemetry.io/otel/exporters/otlp/internal/envconfig\\ngo: github.com/caddyserver/caddy/v2/modules/caddyhttp/tracing imports\\n\\tgo.opentelemetry.io/otel/exporters/otlp/otlptrace/otlptracegrpc imports\\n\\tgo.opentelemetry.io/otel/exporters/otlp/internal: module go.opentelemetry.io/otel/exporters/otlp@latest found (v0.20.1), but does not contain package go.opentelemetry.io/otel/exporters/otlp/internal\\ngo: github.com/caddyserver/caddy/v2/modules/caddyhttp/tracing imports\\n\\tgo.opentelemetry.io/otel/exporters/otlp/otlptrace/otlptracegrpc imports\\n\\tgo.opentelemetry.io/otel/exporters/otlp/otlptrace/internal/otlpconfig imports\\n\\tgo.opentelemetry.io/otel/exporters/otlp/internal/envconfig: module go.opentelemetry.io/otel/exporters/otlp@latest found (v0.20.1), but does not contain package go.opentelemetry.io/otel/exporters/otlp/internal/envconfig\\n',\n",
       " '1eb92cce4cb993441dc91338e2220af0972d538e/test/dep-test/dep-test-service/': b'go: errors parsing go.mod:\\ngo.mod:10:2: require micro.dev/v4: version \"v3.0.0-20200728090928-ad22505562c9\" invalid: should be v4, not v3\\n',\n",
       " '1b9a53b5eea62e82a65bb65a8139c38dbd8f259e/': b'go: finding module for package go.opentelemetry.io/otel/exporters/otlp/internal/envconfig\\ngo: finding module for package go.opentelemetry.io/otel/exporters/otlp/internal\\ngo: github.com/prometheus/prometheus/tracing imports\\n\\tgo.opentelemetry.io/otel/exporters/otlp/otlptrace imports\\n\\tgo.opentelemetry.io/otel/exporters/otlp/internal: module go.opentelemetry.io/otel/exporters/otlp@latest found (v0.20.1), but does not contain package go.opentelemetry.io/otel/exporters/otlp/internal\\ngo: github.com/prometheus/prometheus/tracing imports\\n\\tgo.opentelemetry.io/otel/exporters/otlp/otlptrace/otlptracegrpc imports\\n\\tgo.opentelemetry.io/otel/exporters/otlp/otlptrace/internal/otlpconfig imports\\n\\tgo.opentelemetry.io/otel/exporters/otlp/internal/envconfig: module go.opentelemetry.io/otel/exporters/otlp@latest found (v0.20.1), but does not contain package go.opentelemetry.io/otel/exporters/otlp/internal/envconfig\\n',\n",
       " '747325917cdee183e2eab8aef6e4f15db537442a/': b'go: finding module for package go.opentelemetry.io/otel/exporters/otlp/internal/envconfig\\ngo: finding module for package go.opentelemetry.io/otel/exporters/otlp/internal\\ngo: github.com/ory/hydra/v2/cmd/server imports\\n\\tgithub.com/ory/x/otelx imports\\n\\tgo.opentelemetry.io/otel/exporters/otlp/otlptrace imports\\n\\tgo.opentelemetry.io/otel/exporters/otlp/internal: module go.opentelemetry.io/otel/exporters/otlp@latest found (v0.20.1), but does not contain package go.opentelemetry.io/otel/exporters/otlp/internal\\ngo: github.com/ory/hydra/v2/cmd/server imports\\n\\tgithub.com/ory/x/otelx imports\\n\\tgo.opentelemetry.io/otel/exporters/otlp/otlptrace/otlptracehttp imports\\n\\tgo.opentelemetry.io/otel/exporters/otlp/otlptrace/internal/otlpconfig imports\\n\\tgo.opentelemetry.io/otel/exporters/otlp/internal/envconfig: module go.opentelemetry.io/otel/exporters/otlp@latest found (v0.20.1), but does not contain package go.opentelemetry.io/otel/exporters/otlp/internal/envconfig\\n',\n",
       " '4e4461a946df3a426e54023cc238417f2b14a070/lib/go/test/fuzz/': b'go: github.com/apache/thrift/lib/go/test/fuzz imports\\n\\tshared: shared@v0.0.0-00010101000000-000000000000: replacement directory ./gen-go/shared does not exist\\ngo: github.com/apache/thrift/lib/go/test/fuzz imports\\n\\ttutorial: tutorial@v0.0.0-00010101000000-000000000000: replacement directory ./gen-go/tutorial does not exist\\n',\n",
       " '0530fd80c91dc5b200606c00214c12bf8dd17cb4/': b'go: finding module for package go.opentelemetry.io/otel/exporters/otlp/internal/envconfig\\ngo: finding module for package go.opentelemetry.io/otel/metric/global\\ngo: finding module for package go.opentelemetry.io/otel/metric/instrument\\ngo: finding module for package go.opentelemetry.io/otel/metric/unit\\ngo: finding module for package go.opentelemetry.io/otel/exporters/otlp/internal\\ngo: github.com/milvus-io/milvus/internal/distributed imports\\n\\tgo.opentelemetry.io/contrib/instrumentation/google.golang.org/grpc/otelgrpc imports\\n\\tgo.opentelemetry.io/otel/metric/global: module go.opentelemetry.io/otel/metric@latest found (v1.35.0), but does not contain package go.opentelemetry.io/otel/metric/global\\ngo: github.com/milvus-io/milvus/internal/distributed imports\\n\\tgo.opentelemetry.io/contrib/instrumentation/google.golang.org/grpc/otelgrpc imports\\n\\tgo.opentelemetry.io/otel/metric/instrument: module go.opentelemetry.io/otel/metric@latest found (v1.35.0), but does not contain package go.opentelemetry.io/otel/metric/instrument\\ngo: github.com/milvus-io/milvus/internal/distributed imports\\n\\tgo.opentelemetry.io/contrib/instrumentation/google.golang.org/grpc/otelgrpc imports\\n\\tgo.opentelemetry.io/otel/metric/unit: module go.opentelemetry.io/otel/metric@latest found (v1.35.0), but does not contain package go.opentelemetry.io/otel/metric/unit\\ngo: github.com/milvus-io/milvus/cmd/roles imports\\n\\tgithub.com/milvus-io/milvus/pkg/tracer imports\\n\\tgo.opentelemetry.io/otel/exporters/otlp/otlptrace/otlptracegrpc imports\\n\\tgo.opentelemetry.io/otel/exporters/otlp/internal: module go.opentelemetry.io/otel/exporters/otlp@latest found (v0.20.1), but does not contain package go.opentelemetry.io/otel/exporters/otlp/internal\\ngo: github.com/milvus-io/milvus/cmd/roles imports\\n\\tgithub.com/milvus-io/milvus/pkg/tracer imports\\n\\tgo.opentelemetry.io/otel/exporters/otlp/otlptrace/otlptracegrpc imports\\n\\tgo.opentelemetry.io/otel/exporters/otlp/otlptrace/internal/otlpconfig imports\\n\\tgo.opentelemetry.io/otel/exporters/otlp/internal/envconfig: module go.opentelemetry.io/otel/exporters/otlp@latest found (v0.20.1), but does not contain package go.opentelemetry.io/otel/exporters/otlp/internal/envconfig\\n'}"
      ]
     },
     "execution_count": 16,
     "metadata": {},
     "output_type": "execute_result"
    }
   ],
   "source": [
    "{k: project_download_deps_errors[k] for k in list(project_download_deps_errors)[:10]}"
   ]
  },
  {
   "cell_type": "markdown",
   "metadata": {},
   "source": [
    "### Проверка валидности исходных файлов по go пакетам"
   ]
  },
  {
   "cell_type": "code",
   "execution_count": 17,
   "metadata": {},
   "outputs": [
    {
     "data": {
      "text/plain": [
       "28794"
      ]
     },
     "execution_count": 17,
     "metadata": {},
     "output_type": "execute_result"
    }
   ],
   "source": [
    "go_project_packages: set[(str, str)] = set()\n",
    "for row in ds:\n",
    "    if row['project_path'] in project_download_deps_errors:\n",
    "        continue\n",
    "    go_project_packages.add((row['project_path'], row['relative_go_package']))\n",
    "\n",
    "go_project_packages = list(go_project_packages)\n",
    "\n",
    "len(go_project_packages)"
   ]
  },
  {
   "cell_type": "code",
   "execution_count": 18,
   "metadata": {},
   "outputs": [
    {
     "data": {
      "application/vnd.jupyter.widget-view+json": {
       "model_id": "f4928102444c431cbc70a127eb0f6b4a",
       "version_major": 2,
       "version_minor": 0
      },
      "text/plain": [
       "  0%|          | 0/2293 [00:00<?, ?it/s]"
      ]
     },
     "metadata": {},
     "output_type": "display_data"
    },
    {
     "data": {
      "text/plain": [
       "606"
      ]
     },
     "execution_count": 18,
     "metadata": {},
     "output_type": "execute_result"
    }
   ],
   "source": [
    "compile_project_package_errors: dict[tuple[str, str], str] = {}\n",
    "\n",
    "concurrency = 32\n",
    "next_index = 0\n",
    "last_error = ''\n",
    "\n",
    "async def worker(pbar, i):\n",
    "    global next_index\n",
    "    global last_error\n",
    "    while next_index < len(project_paths):\n",
    "        (project_path, relative_go_package) = go_project_packages[next_index]\n",
    "        next_index += 1\n",
    "\n",
    "        proc = await asyncio.create_subprocess_shell(\n",
    "            \"go build -o /dev/null ./\"+relative_go_package,\n",
    "            cwd=f\"{REPOS_DIR}/{project_path}\",\n",
    "            stdout=asyncio.subprocess.PIPE,\n",
    "            stderr=asyncio.subprocess.PIPE)\n",
    "\n",
    "        stdout, stderr = await proc.communicate()\n",
    "        \n",
    "        if proc.returncode != 0:\n",
    "            compile_project_package_errors[(project_path, relative_go_package)] = stderr\n",
    "            last_error = stderr.decode()[:100]\n",
    "\n",
    "        pbar.update(1)\n",
    "        pbar.set_postfix(errors_count=len(compile_project_package_errors), last_error=last_error)\n",
    "\n",
    "\n",
    "\n",
    "with tqdm(total=len(project_paths)) as pbar:\n",
    "    features = [worker(pbar, i) for i in range(concurrency)]\n",
    "\n",
    "    await asyncio.gather(*features)\n",
    "\n",
    "len(compile_project_package_errors)\n",
    "    "
   ]
  },
  {
   "cell_type": "code",
   "execution_count": 19,
   "metadata": {},
   "outputs": [
    {
     "data": {
      "application/vnd.jupyter.widget-view+json": {
       "model_id": "ae7d829ab9074ecfb034697da14094d8",
       "version_major": 2,
       "version_minor": 0
      },
      "text/plain": [
       "Filter:   0%|          | 0/100000 [00:00<?, ? examples/s]"
      ]
     },
     "metadata": {},
     "output_type": "display_data"
    },
    {
     "name": "stdout",
     "output_type": "stream",
     "text": [
      "75169\n"
     ]
    },
    {
     "data": {
      "text/plain": [
       "{'path': '/go.mod',\n",
       " 'repo_name': 'avelino/awesome-go',\n",
       " 'revision_id': 'c3643eb9da5c673101f8fe15a6deb40bfc4a1c85',\n",
       " 'star_events_count': 112752,\n",
       " 'fork_events_count': 13739,\n",
       " 'is_vendor': False,\n",
       " 'is_generated': False,\n",
       " 'length_bytes': 603,\n",
       " 'extension': 'mod',\n",
       " 'filename': 'go.mod',\n",
       " 'file_exists': True,\n",
       " 'file_hash': '0adeb56bf0ed5a68b4e0ac51da9f3d38e6623754e262f9e4cd1a9f7c4c5ce817',\n",
       " 'project': '/',\n",
       " 'relative_project_path': '/go.mod',\n",
       " 'relative_go_package': '',\n",
       " 'funcs': '',\n",
       " 'methods': '',\n",
       " 'project_path': 'c3643eb9da5c673101f8fe15a6deb40bfc4a1c85/'}"
      ]
     },
     "execution_count": 19,
     "metadata": {},
     "output_type": "execute_result"
    }
   ],
   "source": [
    "ds = ds.filter(lambda row: row['project_path'] not in project_download_deps_errors and (row['project_path'], row['relative_go_package']) not in compile_project_package_errors)\n",
    "\n",
    "print(len(ds))\n",
    "ds[0]"
   ]
  },
  {
   "cell_type": "code",
   "execution_count": 20,
   "metadata": {},
   "outputs": [
    {
     "data": {
      "text/plain": [
       "[(('a9031b7d6aeebb561e2ca9cd4aa2e3fce3b9ae88/',\n",
       "   'tests/tools/vendor/github.com/go-toolsmith/astequal/'),\n",
       "  b'main module (github.com/containers/buildah) does not contain package github.com/containers/buildah/tests/tools/vendor/github.com/go-toolsmith/astequal\\n'),\n",
       " (('f69247ff2478057ddbbc6692fc96ff6520b6a8c1/', 'dcrutil/txsort/'),\n",
       "  b'main module (github.com/decred/dcrd) does not contain package github.com/decred/dcrd/dcrutil/txsort\\n'),\n",
       " (('ddc1d8de8b0d8f7fcbe251c2c18ac9ce82750611/tools/', ''),\n",
       "  b'package github.com/douyu/jupiter-layout/tools: build constraints exclude all Go files in /media/hdd_1/vkr/data/repos/ddc1d8de8b0d8f7fcbe251c2c18ac9ce82750611/tools\\n'),\n",
       " (('959dce294c0a43b675f80419f7189393221613d4/pkg/init/',\n",
       "   'vendor/google.golang.org/grpc/internal/transport/'),\n",
       "  b'go: inconsistent vendoring in /media/hdd_1/vkr/data/repos/959dce294c0a43b675f80419f7189393221613d4/pkg/init:\\n\\tgithub.com/containerd/containerd@v1.5.0-beta.1: is explicitly required in go.mod, but not marked as explicit in vendor/modules.txt\\n\\tgithub.com/opencontainers/runtime-spec@v1.0.3-0.20200929063507-e6143ca7d51d: is explicitly required in go.mod, but not marked as explicit in vendor/modules.txt\\n\\tgithub.com/pelletier/go-toml@v1.8.1: is explicitly required in go.mod, but not marked as explicit in vendor/modules.txt\\n\\tgithub.com/pkg/errors@v0.9.1: is explicitly required in go.mod, but not marked as explicit in vendor/modules.txt\\n\\tgithub.com/sirupsen/logrus@v1.9.3: is explicitly required in go.mod, but not marked as explicit in vendor/modules.txt\\n\\tgithub.com/vishvananda/netlink@v1.1.0: is explicitly required in go.mod, but not marked as explicit in vendor/modules.txt\\n\\tgolang.org/x/sys@v0.32.0: is explicitly required in go.mod, but not marked as explicit in vendor/modules.txt\\n\\tgithub.com/Microsoft/go-winio@v0.6.2: is explicitly required in go.mod, but not marked as explicit in vendor/modules.txt\\n\\tgithub.com/Microsoft/hcsshim@v0.8.15: is explicitly required in go.mod, but not marked as explicit in vendor/modules.txt\\n\\tgithub.com/containerd/cgroups@v0.0.0-20200824123100-0b889c03f102: is explicitly required in go.mod, but not marked as explicit in vendor/modules.txt\\n\\tgithub.com/containerd/continuity@v0.0.0-20210208174643-50096c924a4e: is explicitly required in go.mod, but not marked as explicit in vendor/modules.txt\\n\\tgithub.com/containerd/fifo@v0.0.0-20210129194248-f8e8fdba47ef: is explicitly required in go.mod, but not marked as explicit in vendor/modules.txt\\n\\tgithub.com/containerd/ttrpc@v1.0.2: is explicitly required in go.mod, but not marked as explicit in vendor/modules.txt\\n\\tgithub.com/containerd/typeurl@v1.0.1: is explicitly required in go.mod, but not marked as explicit in vendor/modules.txt\\n\\tgithub.com/docker/go-events@v0.0.0-20190806004212-e31b211e4f1c: is explicitly required in go.mod, but not marked as explicit in vendor/modules.txt\\n\\tgithub.com/gogo/googleapis@v1.4.0: is explicitly required in go.mod, but not marked as explicit in vendor/modules.txt\\n\\tgithub.com/gogo/protobuf@v1.3.2: is explicitly required in go.mod, but not marked as explicit in vendor/modules.txt\\n\\tgithub.com/golang/groupcache@v0.0.0-20210331224755-41bb18bfe9da: is explicitly required in go.mod, but not marked as explicit in vendor/modules.txt\\n\\tgithub.com/google/uuid@v1.6.0: is explicitly required in go.mod, but not marked as explicit in vendor/modules.txt\\n\\tgithub.com/klauspost/compress@v1.16.7: is explicitly required in go.mod, but not marked as explicit in vendor/modules.txt\\n\\tgithub.com/moby/sys/mountinfo@v0.4.0: is explicitly required in go.mod, but not marked as explicit in vendor/modules.txt\\n\\tgithub.com/opencontainers/go-digest@v1.0.0: is explicitly required in go.mod, but not marked as explicit in vendor/modules.txt\\n\\tgithub.com/opencontainers/image-spec@v1.0.1: is explicitly required in go.mod, but not marked as explicit in vendor/modules.txt\\n\\tgithub.com/opencontainers/runc@v1.0.0-rc93: is explicitly required in go.mod, but not marked as explicit in vendor/modules.txt\\n\\tgithub.com/opencontainers/selinux@v1.8.0: is explicitly required in go.mod, but not marked as explicit in vendor/modules.txt\\n\\tgithub.com/stretchr/testify@v1.10.0: is explicitly required in go.mod, but not marked as explicit in vendor/modules.txt\\n\\tgithub.com/syndtr/gocapability@v0.0.0-20200815063812-42c35b437635: is explicitly required in go.mod, but not marked as explicit in vendor/modules.txt\\n\\tgithub.com/vishvananda/netns@v0.0.0-20191106174202-0a2b9b5464df: is explicitly required in go.mod, but not marked as explicit in vendor/modules.txt\\n\\tgithub.com/willf/bitset@v1.1.11: is explicitly required in go.mod, but not marked as explicit in vendor/modules.txt\\n\\tgo.opencensus.io@v0.24.0: is explicitly required in go.mod, but not marked as explicit in vendor/modules.txt\\n\\tgolang.org/x/net@v0.39.0: is explicitly required in go.mod, but not marked as explicit in vendor/modules.txt\\n\\tgolang.org/x/sync@v0.13.0: is explicitly required in go.mod, but not marked as explicit in vendor/modules.txt\\n\\tgolang.org/x/text@v0.24.0: is explicitly required in go.mod, but not marked as explicit in vendor/modules.txt\\n\\tgoogle.golang.org/genproto/googleapis/rpc@v0.0.0-20250428153025-10db94c68c34: is explicitly required in go.mod, but not marked as explicit in vendor/modules.txt\\n\\tgoogle.golang.org/grpc@v1.72.0: is explicitly required in go.mod, but not marked as explicit in vendor/modules.txt\\n\\tgoogle.golang.org/protobuf@v1.36.6: is explicitly required in go.mod, but not marked as explicit in vendor/modules.txt\\n\\tgotest.tools/v3@v3.5.1: is explicitly required in go.mod, but not marked as explicit in vendor/modules.txt\\n\\n\\tTo ignore the vendor directory, use -mod=readonly or -mod=mod.\\n\\tTo sync the vendor directory, run:\\n\\t\\tgo mod vendor\\n'),\n",
       " (('168ccc21e67ca914d0be6ef61362f8a392a2df28/',\n",
       "   'egpath/src/stm32/examples/nucleo-f303re/blinky/'),\n",
       "  b'egpath/src/stm32/examples/nucleo-f303re/blinky/main.go:4:2: package delay is not in std (/home/djvue/.gvm/gos/go1.24.2/src/delay)\\negpath/src/stm32/examples/nucleo-f303re/blinky/main.go:6:2: package stm32/hal/gpio is not in std (/home/djvue/.gvm/gos/go1.24.2/src/stm32/hal/gpio)\\negpath/src/stm32/examples/nucleo-f303re/blinky/main.go:7:2: package stm32/hal/system is not in std (/home/djvue/.gvm/gos/go1.24.2/src/stm32/hal/system)\\negpath/src/stm32/examples/nucleo-f303re/blinky/main.go:8:2: package stm32/hal/system/timer/systick is not in std (/home/djvue/.gvm/gos/go1.24.2/src/stm32/hal/system/timer/systick)\\n'),\n",
       " (('e506263e684a9d655d9f552de52cb225522af390/', ''),\n",
       "  b'no Go files in /media/hdd_1/vkr/data/repos/e506263e684a9d655d9f552de52cb225522af390\\n'),\n",
       " (('ec85e60a84c1ce5a7b7c45f2ffb102e52f618661/', 'leetcode/weekly/240/b/'),\n",
       "  b'# github.com/EndlessCheng/codeforces-go/leetcode/weekly/240/b\\nruntime.main_main\\xc2\\xb7f: function main is undeclared in the main package\\n'),\n",
       " (('45e98d77b2fef6004dd36c640bd95b25395d0948/services/community/',\n",
       "   'api/models/'),\n",
       "  b'go: inconsistent vendoring in /media/hdd_1/vkr/data/repos/45e98d77b2fef6004dd36c640bd95b25395d0948/services/community:\\n\\tgithub.com/badoux/checkmail@v0.0.0-20200623144435-f9f80cb795fa: is explicitly required in go.mod, but not marked as explicit in vendor/modules.txt\\n\\tgithub.com/dgrijalva/jwt-go@v3.2.0+incompatible: is explicitly required in go.mod, but not marked as explicit in vendor/modules.txt\\n\\tgithub.com/google/uuid@v1.1.1: is explicitly required in go.mod, but not marked as explicit in vendor/modules.txt\\n\\tgithub.com/gorilla/mux@v1.7.4: is explicitly required in go.mod, but not marked as explicit in vendor/modules.txt\\n\\tgithub.com/jinzhu/gorm@v1.9.14: is explicitly required in go.mod, but not marked as explicit in vendor/modules.txt\\n\\tgithub.com/joho/godotenv@v1.3.0: is explicitly required in go.mod, but not marked as explicit in vendor/modules.txt\\n\\tgithub.com/lib/pq@v1.7.0: is explicitly required in go.mod, but not marked as explicit in vendor/modules.txt\\n\\tgithub.com/lithammer/shortuuid@v3.0.0+incompatible: is explicitly required in go.mod, but not marked as explicit in vendor/modules.txt\\n\\tgo.mongodb.org/mongo-driver@v1.3.5: is explicitly required in go.mod, but not marked as explicit in vendor/modules.txt\\n\\tgolang.org/x/crypto@v0.0.0-20200709230013-948cd5f35899: is explicitly required in go.mod, but not marked as explicit in vendor/modules.txt\\n\\n\\tTo ignore the vendor directory, use -mod=readonly or -mod=mod.\\n\\tTo sync the vendor directory, run:\\n\\t\\tgo mod vendor\\n'),\n",
       " (('1262df057838bba248ec8e1ace0c148b3f7a3463/', 'types/netmap/'),\n",
       "  b'version-embed.go:17:12: pattern ALPINE.txt: no matching files found\\n'),\n",
       " (('ec85e60a84c1ce5a7b7c45f2ffb102e52f618661/', 'leetcode/weekly/223/d/'),\n",
       "  b'# github.com/EndlessCheng/codeforces-go/leetcode/weekly/223/d\\nruntime.main_main\\xc2\\xb7f: function main is undeclared in the main package\\n')]"
      ]
     },
     "execution_count": 20,
     "metadata": {},
     "output_type": "execute_result"
    }
   ],
   "source": [
    "list(compile_project_package_errors.items())[:10]"
   ]
  },
  {
   "cell_type": "code",
   "execution_count": null,
   "metadata": {},
   "outputs": [
    {
     "data": {
      "application/vnd.jupyter.widget-view+json": {
       "model_id": "5974e50afcaa42faa2265ad4a3febbf9",
       "version_major": 2,
       "version_minor": 0
      },
      "text/plain": [
       "Filter:   0%|          | 0/75169 [00:00<?, ? examples/s]"
      ]
     },
     "metadata": {},
     "output_type": "display_data"
    },
    {
     "data": {
      "application/vnd.jupyter.widget-view+json": {
       "model_id": "3ce5712934c44f77998b100bb248f4a3",
       "version_major": 2,
       "version_minor": 0
      },
      "text/plain": [
       "Saving the dataset (0/1 shards):   0%|          | 0/64263 [00:00<?, ? examples/s]"
      ]
     },
     "metadata": {},
     "output_type": "display_data"
    },
    {
     "name": "stdout",
     "output_type": "stream",
     "text": [
      "64263\n"
     ]
    },
    {
     "data": {
      "text/plain": [
       "{'path': '/main.go',\n",
       " 'repo_name': 'avelino/awesome-go',\n",
       " 'revision_id': 'c3643eb9da5c673101f8fe15a6deb40bfc4a1c85',\n",
       " 'star_events_count': 112752,\n",
       " 'fork_events_count': 13739,\n",
       " 'is_vendor': False,\n",
       " 'is_generated': False,\n",
       " 'length_bytes': 8755,\n",
       " 'extension': 'go',\n",
       " 'filename': 'main.go',\n",
       " 'file_exists': True,\n",
       " 'file_hash': '105132c75e5c98fa0379971e18dd1bb6544cabc7c5b18a81ae44585a4db25705',\n",
       " 'project': '/',\n",
       " 'relative_project_path': 'main.go',\n",
       " 'relative_go_package': '',\n",
       " 'funcs': 'main,buildStaticSite,dropCreateDir,mkdirAll,renderCategories,renderSitemap,extractCategories,extractCategory,rewriteLinksInIndex,renderIndex',\n",
       " 'methods': '',\n",
       " 'project_path': 'c3643eb9da5c673101f8fe15a6deb40bfc4a1c85/'}"
      ]
     },
     "execution_count": 21,
     "metadata": {},
     "output_type": "execute_result"
    }
   ],
   "source": [
    "test_candidates_ds = ds.filter(lambda row: not row['is_generated']\n",
    "                               and not row['is_vendor']\n",
    "                               and row['path'].lower().endswith('.go')\n",
    "                               and (row['filename'] != 'main.go' or row['funcs'] != 'main' or row['methods'] != ''))\n",
    "\n",
    "test_candidates_ds.save_to_disk(DATA_DIR+'/test_candidates_ds')\n",
    "\n",
    "print(len(test_candidates_ds))\n",
    "test_candidates_ds[0]"
   ]
  },
  {
   "cell_type": "code",
   "execution_count": null,
   "metadata": {},
   "outputs": [
    {
     "data": {
      "application/vnd.jupyter.widget-view+json": {
       "model_id": "4d7af4ab1e894536a7ed7e3e67c727d3",
       "version_major": 2,
       "version_minor": 0
      },
      "text/plain": [
       "Map (num_proc=32):   0%|          | 0/64263 [00:00<?, ? examples/s]"
      ]
     },
     "metadata": {},
     "output_type": "display_data"
    },
    {
     "data": {
      "application/vnd.jupyter.widget-view+json": {
       "model_id": "f32b4a424cc14444ba2209fceedda7dc",
       "version_major": 2,
       "version_minor": 0
      },
      "text/plain": [
       "Saving the dataset (0/1 shards):   0%|          | 0/64263 [00:00<?, ? examples/s]"
      ]
     },
     "metadata": {},
     "output_type": "display_data"
    },
    {
     "data": {
      "text/plain": [
       "{'project_path': 'c3643eb9da5c673101f8fe15a6deb40bfc4a1c85/',\n",
       " 'relative_package_path': '',\n",
       " 'relative_file_path': 'main.go',\n",
       " 'prompt': [{'content': '\\nYou are an expert programmer. \\nYou should only return output test file containing working code.\\nThe user is going to give you code and would like to have unit tests for the first file.\\nAll the other files are just dependencies to give you context of all the possible test cases to produce.\\nCover all possible inputs and their respective outputs using tests.\\nEach subtest must be wrapped into t.Run\\n',\n",
       "   'role': 'system'},\n",
       "  {'content': '// Package main contains code for generate static site.\\npackage main\\n\\nimport (\\n\\t\"bytes\"\\n\\t\"errors\"\\n\\t\"fmt\"\\n\\t\"github.com/avelino/awesome-go/pkg/markdown\"\\n\\tcp \"github.com/otiai10/copy\"\\n\\ttemplate2 \"html/template\"\\n\\t\"net/url\"\\n\\t\"os\"\\n\\t\"path/filepath\"\\n\\t\"text/template\"\\n\\n\\t\"github.com/PuerkitoBio/goquery\"\\n\\t\"github.com/avelino/awesome-go/pkg/slug\"\\n)\\n\\n// Link contains info about awesome url\\ntype Link struct {\\n\\tTitle       string\\n\\tURL         string\\n\\tDescription string\\n}\\n\\n// Category describe link category\\ntype Category struct {\\n\\tTitle       string\\n\\tSlug        string\\n\\tDescription string\\n\\tLinks       []Link\\n}\\n\\n// Source files\\nconst readmePath = \"README.md\"\\n\\n// This files should be copied \\'as is\\' to outDir directory\\nvar staticFiles = []string{\\n\\t\"tmpl/assets\",\\n\\t\"tmpl/robots.txt\",\\n}\\n\\n// TODO: embed\\n// Templates\\nvar tplIndex = template.Must(template.ParseFiles(\"tmpl/index.tmpl.html\"))\\nvar tplCategoryIndex = template.Must(template.ParseFiles(\"tmpl/category-index.tmpl.html\"))\\nvar tplSitemap = template.Must(template.ParseFiles(\"tmpl/sitemap.tmpl.xml\"))\\n\\n// Output files\\nconst outDir = \"out/\" // NOTE: trailing slash is required\\n\\nvar outIndexFile = filepath.Join(outDir, \"index.html\")\\nvar outSitemapFile = filepath.Join(outDir, \"sitemap.xml\")\\n\\nfunc main() {\\n\\tif err := buildStaticSite(); err != nil {\\n\\t\\tpanic(err)\\n\\t}\\n}\\n\\nfunc buildStaticSite() error {\\n\\tif err := dropCreateDir(outDir); err != nil {\\n\\t\\treturn fmt.Errorf(\"drop-create out dir: %w\", err)\\n\\t}\\n\\n\\tif err := renderIndex(readmePath, outIndexFile); err != nil {\\n\\t\\treturn fmt.Errorf(\"convert markdown to html: %w\", err)\\n\\t}\\n\\n\\tinput, err := os.ReadFile(outIndexFile)\\n\\tif err != nil {\\n\\t\\treturn fmt.Errorf(\"read converted html: %w\", err)\\n\\t}\\n\\n\\tdoc, err := goquery.NewDocumentFromReader(bytes.NewReader(input))\\n\\tif err != nil {\\n\\t\\treturn fmt.Errorf(\"create goquery instance: %w\", err)\\n\\t}\\n\\n\\tcategories, err := extractCategories(doc)\\n\\tif err != nil {\\n\\t\\treturn fmt.Errorf(\"extract categories: %w\", err)\\n\\t}\\n\\n\\tif err := renderCategories(categories); err != nil {\\n\\t\\treturn fmt.Errorf(\"render categories: %w\", err)\\n\\t}\\n\\n\\tif err := rewriteLinksInIndex(doc, categories); err != nil {\\n\\t\\treturn fmt.Errorf(\"rewrite links in index: %w\", err)\\n\\t}\\n\\n\\tif err := renderSitemap(categories); err != nil {\\n\\t\\treturn fmt.Errorf(\"render sitemap: %w\", err)\\n\\t}\\n\\n\\tfor _, srcFilename := range staticFiles {\\n\\t\\tdstFilename := filepath.Join(outDir, filepath.Base(srcFilename))\\n\\t\\tfmt.Printf(\"Copy static file: %s -> %s\\\\n\", srcFilename, dstFilename)\\n\\t\\tif err := cp.Copy(srcFilename, dstFilename); err != nil {\\n\\t\\t\\treturn fmt.Errorf(\"copy static file `%s` to `%s`: %w\", srcFilename, dstFilename, err)\\n\\t\\t}\\n\\t}\\n\\n\\treturn nil\\n}\\n\\n// dropCreateDir drop and create output directory\\nfunc dropCreateDir(dir string) error {\\n\\tif err := os.RemoveAll(dir); err != nil {\\n\\t\\treturn fmt.Errorf(\"remove dir: %w\", err)\\n\\t}\\n\\n\\tif err := mkdirAll(dir); err != nil {\\n\\t\\treturn fmt.Errorf(\"create dir: %w\", err)\\n\\t}\\n\\n\\treturn nil\\n}\\n\\nfunc mkdirAll(path string) error {\\n\\t_, err := os.Stat(path)\\n\\t// directory is exists\\n\\tif err == nil {\\n\\t\\treturn nil\\n\\t}\\n\\n\\t// unexpected error\\n\\tif !os.IsNotExist(err) {\\n\\t\\treturn fmt.Errorf(\"unexpected result of dir stat: %w\", err)\\n\\t}\\n\\n\\t// directory is not exists\\n\\tif err := os.MkdirAll(path, 0755); err != nil {\\n\\t\\treturn fmt.Errorf(\"midirAll: %w\", err)\\n\\t}\\n\\n\\treturn nil\\n}\\n\\nfunc renderCategories(categories map[string]Category) error {\\n\\tfor _, category := range categories {\\n\\t\\tcategoryDir := filepath.Join(outDir, category.Slug)\\n\\t\\tif err := mkdirAll(categoryDir); err != nil {\\n\\t\\t\\treturn fmt.Errorf(\"create category dir `%s`: %w\", categoryDir, err)\\n\\t\\t}\\n\\n\\t\\t// FIXME: embed templates\\n\\t\\tcategoryIndexFilename := filepath.Join(categoryDir, \"index.html\")\\n\\t\\tfmt.Printf(\"Write category Index file: %s\\\\n\", categoryIndexFilename)\\n\\n\\t\\tbuf := bytes.NewBuffer(nil)\\n\\t\\tif err := tplCategoryIndex.Execute(buf, category); err != nil {\\n\\t\\t\\treturn fmt.Errorf(\"render category `%s`: %w\", categoryDir, err)\\n\\t\\t}\\n\\n\\t\\t// Sanitize HTML. This is not necessary, but allows to have content\\n\\t\\t// of all html files in same style.\\n\\t\\t{\\n\\t\\t\\tdoc, err := goquery.NewDocumentFromReader(buf)\\n\\t\\t\\tif err != nil {\\n\\t\\t\\t\\treturn fmt.Errorf(\"create goquery instance for `%s`: %w\", categoryDir, err)\\n\\t\\t\\t}\\n\\n\\t\\t\\thtml, err := doc.Html()\\n\\t\\t\\tif err != nil {\\n\\t\\t\\t\\treturn fmt.Errorf(\"render goquery html for `%s`: %w\", categoryDir, err)\\n\\t\\t\\t}\\n\\n\\t\\t\\tif err := os.WriteFile(categoryIndexFilename, []byte(html), 0644); err != nil {\\n\\t\\t\\t\\treturn fmt.Errorf(\"write category file `%s`: %w\", categoryDir, err)\\n\\t\\t\\t}\\n\\t\\t}\\n\\t}\\n\\n\\treturn nil\\n}\\n\\nfunc renderSitemap(categories map[string]Category) error {\\n\\tf, err := os.Create(outSitemapFile)\\n\\tif err != nil {\\n\\t\\treturn fmt.Errorf(\"create sitemap file `%s`: %w\", outSitemapFile, err)\\n\\t}\\n\\n\\tfmt.Printf(\"Render Sitemap to: %s\\\\n\", outSitemapFile)\\n\\n\\tif err := tplSitemap.Execute(f, categories); err != nil {\\n\\t\\treturn fmt.Errorf(\"render sitemap: %w\", err)\\n\\t}\\n\\n\\treturn nil\\n}\\n\\nfunc extractCategories(doc *goquery.Document) (map[string]Category, error) {\\n\\tcategories := make(map[string]Category)\\n\\tvar rootErr error\\n\\n\\tdoc.\\n\\t\\tFind(\"body #contents\").\\n\\t\\tNextFiltered(\"ul\").\\n\\t\\tFind(\"ul\").\\n\\t\\tEachWithBreak(func(_ int, selUl *goquery.Selection) bool {\\n\\t\\t\\tif rootErr != nil {\\n\\t\\t\\t\\treturn false\\n\\t\\t\\t}\\n\\n\\t\\t\\tselUl.\\n\\t\\t\\t\\tFind(\"li a\").\\n\\t\\t\\t\\tEachWithBreak(func(_ int, s *goquery.Selection) bool {\\n\\t\\t\\t\\t\\tselector, exists := s.Attr(\"href\")\\n\\t\\t\\t\\t\\tif !exists {\\n\\t\\t\\t\\t\\t\\treturn true\\n\\t\\t\\t\\t\\t}\\n\\n\\t\\t\\t\\t\\tcategory, err := extractCategory(doc, selector)\\n\\t\\t\\t\\t\\tif err != nil {\\n\\t\\t\\t\\t\\t\\trootErr = fmt.Errorf(\"extract category: %w\", err)\\n\\t\\t\\t\\t\\t\\treturn false\\n\\t\\t\\t\\t\\t}\\n\\n\\t\\t\\t\\t\\tcategories[selector] = *category\\n\\n\\t\\t\\t\\t\\treturn true\\n\\t\\t\\t\\t})\\n\\n\\t\\t\\treturn true\\n\\t\\t})\\n\\n\\tif rootErr != nil {\\n\\t\\treturn nil, fmt.Errorf(\"extract categories: %w\", rootErr)\\n\\t}\\n\\n\\treturn categories, nil\\n}\\n\\nfunc extractCategory(doc *goquery.Document, selector string) (*Category, error) {\\n\\tvar category Category\\n\\tvar err error\\n\\n\\tdoc.Find(selector).EachWithBreak(func(_ int, selCatHeader *goquery.Selection) bool {\\n\\t\\tselDescr := selCatHeader.NextFiltered(\"p\")\\n\\t\\t// FIXME: bug. this would select links from all neighboring\\n\\t\\t//   sub-categories until the next category. To prevent this we should\\n\\t\\t//   find only first ul\\n\\t\\tul := selCatHeader.NextFilteredUntil(\"ul\", \"h2\")\\n\\n\\t\\tvar links []Link\\n\\t\\tul.Find(\"li\").Each(func(_ int, selLi *goquery.Selection) {\\n\\t\\t\\tselLink := selLi.Find(\"a\")\\n\\t\\t\\turl, _ := selLink.Attr(\"href\")\\n\\t\\t\\tlink := Link{\\n\\t\\t\\t\\tTitle: selLink.Text(),\\n\\t\\t\\t\\t// FIXME(kazhuravlev): Title contains only title but\\n\\t\\t\\t\\t// \\tdescription contains Title + description\\n\\t\\t\\t\\tDescription: selLi.Text(),\\n\\t\\t\\t\\tURL:         url,\\n\\t\\t\\t}\\n\\t\\t\\tlinks = append(links, link)\\n\\t\\t})\\n\\n\\t\\t// FIXME: In this case we would have an empty category in main index.html with link to 404 page.\\n\\t\\tif len(links) == 0 {\\n\\t\\t\\terr = errors.New(\"category does not contain links\")\\n\\t\\t\\treturn false\\n\\t\\t}\\n\\n\\t\\tcategory = Category{\\n\\t\\t\\tSlug:        slug.Generate(selCatHeader.Text()),\\n\\t\\t\\tTitle:       selCatHeader.Text(),\\n\\t\\t\\tDescription: selDescr.Text(),\\n\\t\\t\\tLinks:       links,\\n\\t\\t}\\n\\n\\t\\treturn true\\n\\t})\\n\\n\\tif err != nil {\\n\\t\\treturn nil, fmt.Errorf(\"build a category: %w\", err)\\n\\t}\\n\\n\\treturn &category, nil\\n}\\n\\nfunc rewriteLinksInIndex(doc *goquery.Document, categories map[string]Category) error {\\n\\tvar iterErr error\\n\\tdoc.\\n\\t\\tFind(\"body #content ul li ul li a\").\\n\\t\\tEachWithBreak(func(_ int, s *goquery.Selection) bool {\\n\\t\\t\\thref, hrefExists := s.Attr(\"href\")\\n\\t\\t\\tif !hrefExists {\\n\\t\\t\\t\\t// FIXME: looks like is an error. Tag `a` in our case always\\n\\t\\t\\t\\t//   \\t  should have `href` attr.\\n\\t\\t\\t\\treturn true\\n\\t\\t\\t}\\n\\n\\t\\t\\t// do not replace links if no page has been created for it\\n\\t\\t\\t_, catExists := categories[href]\\n\\t\\t\\tif !catExists {\\n\\t\\t\\t\\treturn true\\n\\t\\t\\t}\\n\\n\\t\\t\\tlinkURL, err := url.Parse(href)\\n\\t\\t\\tif err != nil {\\n\\t\\t\\t\\titerErr = err\\n\\t\\t\\t\\treturn false\\n\\t\\t\\t}\\n\\n\\t\\t\\tif linkURL.Fragment != \"\" && linkURL.Fragment != \"contents\" {\\n\\t\\t\\t\\ts.SetAttr(\"href\", linkURL.Fragment)\\n\\t\\t\\t}\\n\\n\\t\\t\\treturn true\\n\\t\\t})\\n\\n\\tif iterErr != nil {\\n\\t\\treturn iterErr\\n\\t}\\n\\n\\tfmt.Printf(\"Rewrite links in Index file: %s\\\\n\", outIndexFile)\\n\\tresultHTML, err := doc.Html()\\n\\tif err != nil {\\n\\t\\treturn fmt.Errorf(\"render html: %w\", err)\\n\\t}\\n\\n\\tif err := os.WriteFile(outIndexFile, []byte(resultHTML), 0644); err != nil {\\n\\t\\treturn fmt.Errorf(\"rewrite index file: %w\", err)\\n\\t}\\n\\n\\treturn nil\\n}\\n\\n// renderIndex generate site html (index.html) from markdown file\\nfunc renderIndex(srcFilename, outFilename string) error {\\n\\tinput, err := os.ReadFile(srcFilename)\\n\\tif err != nil {\\n\\t\\treturn err\\n\\t}\\n\\n\\tbody, err := markdown.ToHTML(input)\\n\\tif err != nil {\\n\\t\\treturn err\\n\\t}\\n\\n\\tf, err := os.Create(outFilename)\\n\\tif err != nil {\\n\\t\\treturn err\\n\\t}\\n\\n\\tfmt.Printf(\"Write Index file: %s\\\\n\", outIndexFile)\\n\\tdata := map[string]interface{}{\\n\\t\\t\"Body\": template2.HTML(body),\\n\\t}\\n\\tif err := tplIndex.Execute(f, data); err != nil {\\n\\t\\treturn err\\n\\t}\\n\\n\\tif err := f.Close(); err != nil {\\n\\t\\treturn fmt.Errorf(\"close index file: %w\", err)\\n\\t}\\n\\n\\treturn nil\\n}\\n',\n",
       "   'role': 'user'}]}"
      ]
     },
     "execution_count": 22,
     "metadata": {},
     "output_type": "execute_result"
    }
   ],
   "source": [
    "test_candidates_ds = datasets.load_from_disk(DATA_DIR+'/test_candidates_ds')\n",
    "\n",
    "system_message = \"\"\"\n",
    "You are an expert programmer. \n",
    "You should only return output test file containing working code.\n",
    "The user is going to give you code and would like to have unit tests for the first file.\n",
    "All the other files are just dependencies to give you context of all the possible test cases to produce.\n",
    "Cover all possible inputs and their respective outputs using tests.\n",
    "Each subtest must be wrapped into t.Run\n",
    "\"\"\"\n",
    "\n",
    "def get_prompt(row) -> str:\n",
    "    file_path = './data/repos/'+row['project_path']+row['relative_project_path']\n",
    "    f = open(file_path, 'r')\n",
    "    file_content = f.read()\n",
    "    f.close()\n",
    "\n",
    "    prompt = [\n",
    "        {\"role\": \"system\", \"content\": system_message},\n",
    "        {\"role\": \"user\", \"content\": f\"{file_content}\"}\n",
    "    ]\n",
    "\n",
    "    return prompt\n",
    "\n",
    "def finalize_row(row) -> dict:\n",
    "    return {\n",
    "        'project_path': row['project_path'],\n",
    "        'relative_package_path': row['relative_go_package'],\n",
    "        'relative_file_path': row['relative_project_path'],\n",
    "        'prompt': get_prompt(row)\n",
    "    }\n",
    "\n",
    "final_ds = test_candidates_ds.map(finalize_row, num_proc=32).select_columns(['project_path', 'relative_package_path', 'relative_file_path', 'prompt'])\n",
    "\n",
    "final_ds.save_to_disk('./data/final_ds')\n",
    "\n",
    "final_ds\n",
    "final_ds[0]"
   ]
  },
  {
   "cell_type": "code",
   "execution_count": 23,
   "metadata": {},
   "outputs": [
    {
     "data": {
      "application/vnd.jupyter.widget-view+json": {
       "model_id": "d5c97d88fe034a23b64eb7ac563c8318",
       "version_major": 2,
       "version_minor": 0
      },
      "text/plain": [
       "Saving the dataset (0/1 shards):   0%|          | 0/51410 [00:00<?, ? examples/s]"
      ]
     },
     "metadata": {},
     "output_type": "display_data"
    },
    {
     "data": {
      "application/vnd.jupyter.widget-view+json": {
       "model_id": "d9d764994f324f5fa32911cebcd16146",
       "version_major": 2,
       "version_minor": 0
      },
      "text/plain": [
       "Saving the dataset (0/1 shards):   0%|          | 0/12853 [00:00<?, ? examples/s]"
      ]
     },
     "metadata": {},
     "output_type": "display_data"
    },
    {
     "data": {
      "text/plain": [
       "DatasetDict({\n",
       "    train: Dataset({\n",
       "        features: ['project_path', 'relative_package_path', 'relative_file_path', 'prompt'],\n",
       "        num_rows: 51410\n",
       "    })\n",
       "    test: Dataset({\n",
       "        features: ['project_path', 'relative_package_path', 'relative_file_path', 'prompt'],\n",
       "        num_rows: 12853\n",
       "    })\n",
       "})"
      ]
     },
     "execution_count": 23,
     "metadata": {},
     "output_type": "execute_result"
    }
   ],
   "source": [
    "splitted_ds = final_ds.train_test_split(test_size=0.2)\n",
    "\n",
    "splitted_ds.save_to_disk('./data/splitted_ds')\n",
    "\n",
    "splitted_ds"
   ]
  },
  {
   "cell_type": "code",
   "execution_count": null,
   "metadata": {},
   "outputs": [],
   "source": []
  }
 ],
 "metadata": {
  "kernelspec": {
   "display_name": ".venv",
   "language": "python",
   "name": "python3"
  },
  "language_info": {
   "codemirror_mode": {
    "name": "ipython",
    "version": 3
   },
   "file_extension": ".py",
   "mimetype": "text/x-python",
   "name": "python",
   "nbconvert_exporter": "python",
   "pygments_lexer": "ipython3",
   "version": "3.11.12"
  }
 },
 "nbformat": 4,
 "nbformat_minor": 2
}
